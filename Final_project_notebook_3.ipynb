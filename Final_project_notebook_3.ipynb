{
  "nbformat": 4,
  "nbformat_minor": 5,
  "metadata": {
    "kernelspec": {
      "display_name": "Python 3",
      "language": "python",
      "name": "python3"
    },
    "language_info": {
      "codemirror_mode": {
        "name": "ipython",
        "version": 3
      },
      "file_extension": ".py",
      "mimetype": "text/x-python",
      "name": "python",
      "nbconvert_exporter": "python",
      "pygments_lexer": "ipython3",
      "version": "3.8.5"
    },
    "colab": {
      "name": "Final_project_notebook_3.ipynb",
      "provenance": []
    }
  },
  "cells": [
    {
      "cell_type": "markdown",
      "metadata": {
        "id": "PfBFnZNW_aB_"
      },
      "source": [
        "# Final project\n",
        "# Part 1: Motivation\n",
        "\n",
        "- **What is your dataset?**\n",
        "\n",
        "    The data used consists of different datasets and data retrieved on internet. The main part of the final dataset is made by preprocessing and concatenating four different datasets. These four datasets are the records of the taxi trip in New York City. In particular, the final dataset consists of the trips of the yellow and the boro (green) (https://www.new-york-city-travel-tips.com/green-cab-new-york-boro-taxi/) taxi for the years 2019 and 2020. In addition, also the records for the fhv (https://www1.nyc.gov/site/tlc/businesses/for-hire-vehicles.page) was downloaded but then discarded in the preprocessing for different reasons explained throughout the notebook. Finally, the data available is also the hourly weather in NYC for 2019 and 2020.\n",
        "    \n",
        "\n",
        "- **Why did you choose this/these particular dataset(s)?**\n",
        "\n",
        "    The idea of choosing these datasets came up while checking the different datasets in the city databases. We wanted to study something different from the crimes, complaints or crashes and at the same time we wanted some data large enough to have meaningful results. We therefore discarded the databases related to the fauna, the air or water pollution that have relatively few rows. After these process of selection, these datasets were the most interesting, especially with the coronavirus variable. In fact, we want to study if there has been any changes during in the patterns of taxi trips during the corona period .  \n",
        "    \n",
        "\n",
        "- **What was your goal for the end user's experience?**\n",
        "\n",
        "    The goal for the end user's experience is to enable them to visualise and analyse on their own the possible changes in taxi-taking patterns that can be seen from the peri-Covid-19 period, and how the decisions taken by the government had impacted the trips. In particular, on the website, the user is able to select different features such as average distances, pick-up and drop-off locations and amount paid and visualize them for a particular type of taxi or all taxis. Moreover, two visualization types are available: a spatial one using a choropleth map and temporal one using histograms and line plots. Finally, the selection of individual features and the type of the visualization is up to the user, but some comments and some points of interests are provided to guide the user in the most important aspects of the story.    \n",
        "    \n",
        "    \n",
        "# Part 2: Basic stats"
      ],
      "id": "PfBFnZNW_aB_"
    },
    {
      "cell_type": "code",
      "metadata": {
        "id": "3lw5KzuA_aCl"
      },
      "source": [
        "import matplotlib.pyplot as plt\n",
        "import seaborn as sns\n",
        "import pandas as pd\n",
        "import random\n",
        "import pickle\n",
        "import numpy as np\n",
        "import json\n",
        "import plotly.express as px\n",
        "from datetime import datetime, timedelta\n",
        "from IPython.display import HTML, display\n",
        "from scipy.stats import pearsonr"
      ],
      "id": "3lw5KzuA_aCl",
      "execution_count": null,
      "outputs": []
    },
    {
      "cell_type": "markdown",
      "metadata": {
        "id": "3QG1E_QJ_aCp"
      },
      "source": [
        "We started with different datasets for the yellow, green and FHV taxis.\n",
        "\n",
        "In this first part of the analysis, we are going to preprocess them in order to arrive to the final version that we will use for further analysis."
      ],
      "id": "3QG1E_QJ_aCp"
    },
    {
      "cell_type": "markdown",
      "metadata": {
        "id": "kFK861xW_aCq"
      },
      "source": [
        "### Cleaning of the Green dataset"
      ],
      "id": "kFK861xW_aCq"
    },
    {
      "cell_type": "code",
      "metadata": {
        "id": "QUk5HF9E_aCr",
        "outputId": "4ab02831-3459-4737-8d7d-b9caa7e83b85"
      },
      "source": [
        "# Read data from files\n",
        "Green20 = pd.read_csv('20_Green.csv')\n",
        "Green19 = pd.read_csv('19_Green.csv')"
      ],
      "id": "QUk5HF9E_aCr",
      "execution_count": null,
      "outputs": [
        {
          "output_type": "stream",
          "text": [
            "C:\\Users\\loren\\anaconda3\\lib\\site-packages\\IPython\\core\\interactiveshell.py:3146: DtypeWarning: Columns (3) have mixed types.Specify dtype option on import or set low_memory=False.\n",
            "  has_raised = await self.run_ast_nodes(code_ast.body, cell_name,\n"
          ],
          "name": "stderr"
        }
      ]
    },
    {
      "cell_type": "code",
      "metadata": {
        "id": "puqtYLqM_aCu",
        "outputId": "846b5add-48f0-49ab-c1db-f5615e1f553c"
      },
      "source": [
        "#Concatenation of the datasets from 2019 and 2020\n",
        "Green = pd.concat([Green19, Green20])\n",
        "Green.head()"
      ],
      "id": "puqtYLqM_aCu",
      "execution_count": null,
      "outputs": [
        {
          "output_type": "execute_result",
          "data": {
            "text/html": [
              "<div>\n",
              "<style scoped>\n",
              "    .dataframe tbody tr th:only-of-type {\n",
              "        vertical-align: middle;\n",
              "    }\n",
              "\n",
              "    .dataframe tbody tr th {\n",
              "        vertical-align: top;\n",
              "    }\n",
              "\n",
              "    .dataframe thead th {\n",
              "        text-align: right;\n",
              "    }\n",
              "</style>\n",
              "<table border=\"1\" class=\"dataframe\">\n",
              "  <thead>\n",
              "    <tr style=\"text-align: right;\">\n",
              "      <th></th>\n",
              "      <th>VendorID</th>\n",
              "      <th>lpep_pickup_datetime</th>\n",
              "      <th>lpep_dropoff_datetime</th>\n",
              "      <th>store_and_fwd_flag</th>\n",
              "      <th>RatecodeID</th>\n",
              "      <th>PULocationID</th>\n",
              "      <th>DOLocationID</th>\n",
              "      <th>passenger_count</th>\n",
              "      <th>trip_distance</th>\n",
              "      <th>fare_amount</th>\n",
              "      <th>extra</th>\n",
              "      <th>mta_tax</th>\n",
              "      <th>tip_amount</th>\n",
              "      <th>tolls_amount</th>\n",
              "      <th>ehail_fee</th>\n",
              "      <th>improvement_surcharge</th>\n",
              "      <th>total_amount</th>\n",
              "      <th>payment_type</th>\n",
              "      <th>trip_type</th>\n",
              "      <th>congestion_surcharge</th>\n",
              "    </tr>\n",
              "  </thead>\n",
              "  <tbody>\n",
              "    <tr>\n",
              "      <th>0</th>\n",
              "      <td>2.0</td>\n",
              "      <td>02/01/2019 12:02:16 AM</td>\n",
              "      <td>02/01/2019 12:24:37 AM</td>\n",
              "      <td>N</td>\n",
              "      <td>1.0</td>\n",
              "      <td>66</td>\n",
              "      <td>36</td>\n",
              "      <td>1.0</td>\n",
              "      <td>4.46</td>\n",
              "      <td>17.5</td>\n",
              "      <td>0.5</td>\n",
              "      <td>0.5</td>\n",
              "      <td>3.76</td>\n",
              "      <td>0.0</td>\n",
              "      <td>NaN</td>\n",
              "      <td>0.3</td>\n",
              "      <td>22.56</td>\n",
              "      <td>1.0</td>\n",
              "      <td>1.0</td>\n",
              "      <td>0.0</td>\n",
              "    </tr>\n",
              "    <tr>\n",
              "      <th>1</th>\n",
              "      <td>2.0</td>\n",
              "      <td>02/01/2019 12:37:19 AM</td>\n",
              "      <td>02/01/2019 12:43:07 AM</td>\n",
              "      <td>N</td>\n",
              "      <td>1.0</td>\n",
              "      <td>255</td>\n",
              "      <td>112</td>\n",
              "      <td>1.0</td>\n",
              "      <td>1.26</td>\n",
              "      <td>6.0</td>\n",
              "      <td>0.5</td>\n",
              "      <td>0.5</td>\n",
              "      <td>1.46</td>\n",
              "      <td>0.0</td>\n",
              "      <td>NaN</td>\n",
              "      <td>0.3</td>\n",
              "      <td>8.76</td>\n",
              "      <td>1.0</td>\n",
              "      <td>1.0</td>\n",
              "      <td>0.0</td>\n",
              "    </tr>\n",
              "    <tr>\n",
              "      <th>2</th>\n",
              "      <td>1.0</td>\n",
              "      <td>02/01/2019 12:10:10 AM</td>\n",
              "      <td>02/01/2019 12:12:21 AM</td>\n",
              "      <td>N</td>\n",
              "      <td>1.0</td>\n",
              "      <td>75</td>\n",
              "      <td>238</td>\n",
              "      <td>1.0</td>\n",
              "      <td>0.70</td>\n",
              "      <td>4.0</td>\n",
              "      <td>0.5</td>\n",
              "      <td>0.5</td>\n",
              "      <td>0.00</td>\n",
              "      <td>0.0</td>\n",
              "      <td>NaN</td>\n",
              "      <td>0.3</td>\n",
              "      <td>5.30</td>\n",
              "      <td>2.0</td>\n",
              "      <td>1.0</td>\n",
              "      <td>0.0</td>\n",
              "    </tr>\n",
              "    <tr>\n",
              "      <th>3</th>\n",
              "      <td>2.0</td>\n",
              "      <td>02/01/2019 12:26:19 AM</td>\n",
              "      <td>02/01/2019 12:37:58 AM</td>\n",
              "      <td>N</td>\n",
              "      <td>1.0</td>\n",
              "      <td>265</td>\n",
              "      <td>248</td>\n",
              "      <td>3.0</td>\n",
              "      <td>6.51</td>\n",
              "      <td>19.5</td>\n",
              "      <td>0.5</td>\n",
              "      <td>0.5</td>\n",
              "      <td>0.00</td>\n",
              "      <td>0.0</td>\n",
              "      <td>NaN</td>\n",
              "      <td>0.3</td>\n",
              "      <td>20.80</td>\n",
              "      <td>2.0</td>\n",
              "      <td>1.0</td>\n",
              "      <td>0.0</td>\n",
              "    </tr>\n",
              "    <tr>\n",
              "      <th>4</th>\n",
              "      <td>2.0</td>\n",
              "      <td>02/01/2019 12:59:41 AM</td>\n",
              "      <td>02/01/2019 01:04:06 AM</td>\n",
              "      <td>N</td>\n",
              "      <td>1.0</td>\n",
              "      <td>82</td>\n",
              "      <td>83</td>\n",
              "      <td>1.0</td>\n",
              "      <td>1.01</td>\n",
              "      <td>5.5</td>\n",
              "      <td>0.5</td>\n",
              "      <td>0.5</td>\n",
              "      <td>2.04</td>\n",
              "      <td>0.0</td>\n",
              "      <td>NaN</td>\n",
              "      <td>0.3</td>\n",
              "      <td>8.84</td>\n",
              "      <td>1.0</td>\n",
              "      <td>1.0</td>\n",
              "      <td>0.0</td>\n",
              "    </tr>\n",
              "  </tbody>\n",
              "</table>\n",
              "</div>"
            ],
            "text/plain": [
              "   VendorID    lpep_pickup_datetime   lpep_dropoff_datetime  \\\n",
              "0       2.0  02/01/2019 12:02:16 AM  02/01/2019 12:24:37 AM   \n",
              "1       2.0  02/01/2019 12:37:19 AM  02/01/2019 12:43:07 AM   \n",
              "2       1.0  02/01/2019 12:10:10 AM  02/01/2019 12:12:21 AM   \n",
              "3       2.0  02/01/2019 12:26:19 AM  02/01/2019 12:37:58 AM   \n",
              "4       2.0  02/01/2019 12:59:41 AM  02/01/2019 01:04:06 AM   \n",
              "\n",
              "  store_and_fwd_flag  RatecodeID  PULocationID  DOLocationID  passenger_count  \\\n",
              "0                  N         1.0            66            36              1.0   \n",
              "1                  N         1.0           255           112              1.0   \n",
              "2                  N         1.0            75           238              1.0   \n",
              "3                  N         1.0           265           248              3.0   \n",
              "4                  N         1.0            82            83              1.0   \n",
              "\n",
              "   trip_distance  fare_amount  extra  mta_tax  tip_amount  tolls_amount  \\\n",
              "0           4.46         17.5    0.5      0.5        3.76           0.0   \n",
              "1           1.26          6.0    0.5      0.5        1.46           0.0   \n",
              "2           0.70          4.0    0.5      0.5        0.00           0.0   \n",
              "3           6.51         19.5    0.5      0.5        0.00           0.0   \n",
              "4           1.01          5.5    0.5      0.5        2.04           0.0   \n",
              "\n",
              "   ehail_fee  improvement_surcharge  total_amount  payment_type  trip_type  \\\n",
              "0        NaN                    0.3         22.56           1.0        1.0   \n",
              "1        NaN                    0.3          8.76           1.0        1.0   \n",
              "2        NaN                    0.3          5.30           2.0        1.0   \n",
              "3        NaN                    0.3         20.80           2.0        1.0   \n",
              "4        NaN                    0.3          8.84           1.0        1.0   \n",
              "\n",
              "   congestion_surcharge  \n",
              "0                   0.0  \n",
              "1                   0.0  \n",
              "2                   0.0  \n",
              "3                   0.0  \n",
              "4                   0.0  "
            ]
          },
          "metadata": {
            "tags": []
          },
          "execution_count": 49
        }
      ]
    },
    {
      "cell_type": "markdown",
      "metadata": {
        "id": "psAP6hDf_aCv"
      },
      "source": [
        "Firstly, we will process the information about the dates and hours to make them more tractable."
      ],
      "id": "psAP6hDf_aCv"
    },
    {
      "cell_type": "code",
      "metadata": {
        "id": "pxZaI8kG_aCv"
      },
      "source": [
        "#Transformation of the dates in datetime and changing AM/PM time format to 24h format\n",
        "Green['pickup_date']= pd.to_datetime(Green['lpep_pickup_datetime'].astype(str).str[0:10], errors='coerce')\n",
        "Green['dropoff_date']= pd.to_datetime(Green['lpep_dropoff_datetime'].astype(str).str[0:10], errors='coerce')\n",
        "Green['pickup_Time']= pd.to_datetime(Green['lpep_pickup_datetime'].astype(str).str[11:], format='%I:%M:%S %p',errors='coerce')\n",
        "Green['dropoff_Time']= pd.to_datetime(Green['lpep_dropoff_datetime'].astype(str).str[11:], format='%I:%M:%S %p',errors='coerce')\n",
        "Green['pickup_Time'] =pd.to_datetime( Green['pickup_Time'].dt.strftime('%H:%M:%S'), errors='coerce')\n",
        "Green['dropoff_Time'] = pd.to_datetime(Green['dropoff_Time'].dt.strftime('%H:%M:%S'), errors='coerce')"
      ],
      "id": "pxZaI8kG_aCv",
      "execution_count": null,
      "outputs": []
    },
    {
      "cell_type": "code",
      "metadata": {
        "id": "z3Hvy4GQ_aCw"
      },
      "source": [
        "#Saving the information of the year, day of week and month in different columns\n",
        "Green['Month'] = Green['pickup_date'].dt.month\n",
        "Green['Year'] = Green['pickup_date'].dt.year\n",
        "Green['Day'] = Green['pickup_date'].dt.day\n",
        "Green['Day_of_week'] = Green['pickup_date'].dt.strftime('%A')"
      ],
      "id": "z3Hvy4GQ_aCw",
      "execution_count": null,
      "outputs": []
    },
    {
      "cell_type": "code",
      "metadata": {
        "id": "ZT-ZE4oD_aCy"
      },
      "source": [
        "#Saving the information about the pick up and drop off hour, without taking into account the minutes and seconds\n",
        "Green['pickup_hour'] = Green['pickup_Time'].dt.hour\n",
        "Green['dropoff_hour']= Green['dropoff_Time'].dt.hour"
      ],
      "id": "ZT-ZE4oD_aCy",
      "execution_count": null,
      "outputs": []
    },
    {
      "cell_type": "code",
      "metadata": {
        "id": "ir93n0RX_aDG",
        "outputId": "d6998b2f-bfa1-4709-81ea-02f25b7575b9"
      },
      "source": [
        "#Drop all the columns that are not relevant for our analysis\n",
        "Green= Green.drop(columns=['lpep_pickup_datetime', 'lpep_dropoff_datetime', 'store_and_fwd_flag', 'VendorID','RatecodeID','congestion_surcharge','improvement_surcharge', 'ehail_fee', 'mta_tax', 'tolls_amount', 'trip_type', 'extra', 'pickup_Time','dropoff_Time'])\n",
        "Green[\"type\"] = \"green\"\n",
        "Green.head()"
      ],
      "id": "ir93n0RX_aDG",
      "execution_count": null,
      "outputs": [
        {
          "output_type": "execute_result",
          "data": {
            "text/html": [
              "<div>\n",
              "<style scoped>\n",
              "    .dataframe tbody tr th:only-of-type {\n",
              "        vertical-align: middle;\n",
              "    }\n",
              "\n",
              "    .dataframe tbody tr th {\n",
              "        vertical-align: top;\n",
              "    }\n",
              "\n",
              "    .dataframe thead th {\n",
              "        text-align: right;\n",
              "    }\n",
              "</style>\n",
              "<table border=\"1\" class=\"dataframe\">\n",
              "  <thead>\n",
              "    <tr style=\"text-align: right;\">\n",
              "      <th></th>\n",
              "      <th>PULocationID</th>\n",
              "      <th>DOLocationID</th>\n",
              "      <th>passenger_count</th>\n",
              "      <th>trip_distance</th>\n",
              "      <th>fare_amount</th>\n",
              "      <th>tip_amount</th>\n",
              "      <th>total_amount</th>\n",
              "      <th>payment_type</th>\n",
              "      <th>pickup_date</th>\n",
              "      <th>dropoff_date</th>\n",
              "      <th>Month</th>\n",
              "      <th>Year</th>\n",
              "      <th>Day</th>\n",
              "      <th>Day_of_week</th>\n",
              "      <th>pickup_hour</th>\n",
              "      <th>dropoff_hour</th>\n",
              "      <th>type</th>\n",
              "    </tr>\n",
              "  </thead>\n",
              "  <tbody>\n",
              "    <tr>\n",
              "      <th>0</th>\n",
              "      <td>66</td>\n",
              "      <td>36</td>\n",
              "      <td>1.0</td>\n",
              "      <td>4.46</td>\n",
              "      <td>17.5</td>\n",
              "      <td>3.76</td>\n",
              "      <td>22.56</td>\n",
              "      <td>1.0</td>\n",
              "      <td>2019-02-01</td>\n",
              "      <td>2019-02-01</td>\n",
              "      <td>2</td>\n",
              "      <td>2019</td>\n",
              "      <td>1</td>\n",
              "      <td>Friday</td>\n",
              "      <td>0</td>\n",
              "      <td>0</td>\n",
              "      <td>green</td>\n",
              "    </tr>\n",
              "    <tr>\n",
              "      <th>1</th>\n",
              "      <td>255</td>\n",
              "      <td>112</td>\n",
              "      <td>1.0</td>\n",
              "      <td>1.26</td>\n",
              "      <td>6.0</td>\n",
              "      <td>1.46</td>\n",
              "      <td>8.76</td>\n",
              "      <td>1.0</td>\n",
              "      <td>2019-02-01</td>\n",
              "      <td>2019-02-01</td>\n",
              "      <td>2</td>\n",
              "      <td>2019</td>\n",
              "      <td>1</td>\n",
              "      <td>Friday</td>\n",
              "      <td>0</td>\n",
              "      <td>0</td>\n",
              "      <td>green</td>\n",
              "    </tr>\n",
              "    <tr>\n",
              "      <th>2</th>\n",
              "      <td>75</td>\n",
              "      <td>238</td>\n",
              "      <td>1.0</td>\n",
              "      <td>0.70</td>\n",
              "      <td>4.0</td>\n",
              "      <td>0.00</td>\n",
              "      <td>5.30</td>\n",
              "      <td>2.0</td>\n",
              "      <td>2019-02-01</td>\n",
              "      <td>2019-02-01</td>\n",
              "      <td>2</td>\n",
              "      <td>2019</td>\n",
              "      <td>1</td>\n",
              "      <td>Friday</td>\n",
              "      <td>0</td>\n",
              "      <td>0</td>\n",
              "      <td>green</td>\n",
              "    </tr>\n",
              "    <tr>\n",
              "      <th>3</th>\n",
              "      <td>265</td>\n",
              "      <td>248</td>\n",
              "      <td>3.0</td>\n",
              "      <td>6.51</td>\n",
              "      <td>19.5</td>\n",
              "      <td>0.00</td>\n",
              "      <td>20.80</td>\n",
              "      <td>2.0</td>\n",
              "      <td>2019-02-01</td>\n",
              "      <td>2019-02-01</td>\n",
              "      <td>2</td>\n",
              "      <td>2019</td>\n",
              "      <td>1</td>\n",
              "      <td>Friday</td>\n",
              "      <td>0</td>\n",
              "      <td>0</td>\n",
              "      <td>green</td>\n",
              "    </tr>\n",
              "    <tr>\n",
              "      <th>4</th>\n",
              "      <td>82</td>\n",
              "      <td>83</td>\n",
              "      <td>1.0</td>\n",
              "      <td>1.01</td>\n",
              "      <td>5.5</td>\n",
              "      <td>2.04</td>\n",
              "      <td>8.84</td>\n",
              "      <td>1.0</td>\n",
              "      <td>2019-02-01</td>\n",
              "      <td>2019-02-01</td>\n",
              "      <td>2</td>\n",
              "      <td>2019</td>\n",
              "      <td>1</td>\n",
              "      <td>Friday</td>\n",
              "      <td>0</td>\n",
              "      <td>1</td>\n",
              "      <td>green</td>\n",
              "    </tr>\n",
              "  </tbody>\n",
              "</table>\n",
              "</div>"
            ],
            "text/plain": [
              "   PULocationID  DOLocationID  passenger_count  trip_distance  fare_amount  \\\n",
              "0            66            36              1.0           4.46         17.5   \n",
              "1           255           112              1.0           1.26          6.0   \n",
              "2            75           238              1.0           0.70          4.0   \n",
              "3           265           248              3.0           6.51         19.5   \n",
              "4            82            83              1.0           1.01          5.5   \n",
              "\n",
              "   tip_amount  total_amount  payment_type pickup_date dropoff_date  Month  \\\n",
              "0        3.76         22.56           1.0  2019-02-01   2019-02-01      2   \n",
              "1        1.46          8.76           1.0  2019-02-01   2019-02-01      2   \n",
              "2        0.00          5.30           2.0  2019-02-01   2019-02-01      2   \n",
              "3        0.00         20.80           2.0  2019-02-01   2019-02-01      2   \n",
              "4        2.04          8.84           1.0  2019-02-01   2019-02-01      2   \n",
              "\n",
              "   Year  Day Day_of_week  pickup_hour  dropoff_hour   type  \n",
              "0  2019    1      Friday            0             0  green  \n",
              "1  2019    1      Friday            0             0  green  \n",
              "2  2019    1      Friday            0             0  green  \n",
              "3  2019    1      Friday            0             0  green  \n",
              "4  2019    1      Friday            0             1  green  "
            ]
          },
          "metadata": {
            "tags": []
          },
          "execution_count": 8
        }
      ]
    },
    {
      "cell_type": "code",
      "metadata": {
        "id": "6YFvvKLB_aDI",
        "outputId": "e88fb74c-6954-4a58-c260-68524a67877b"
      },
      "source": [
        "#Check the number of Nan in the Pick up locationID\n",
        "print(\"Number of Nan in the Pick up LocationID\", Green['PULocationID'].isna().sum())"
      ],
      "id": "6YFvvKLB_aDI",
      "execution_count": null,
      "outputs": [
        {
          "output_type": "stream",
          "text": [
            "Number of Nan in the Pick up LocationID 0\n"
          ],
          "name": "stdout"
        }
      ]
    },
    {
      "cell_type": "markdown",
      "metadata": {
        "id": "zqxicXGo_aDI"
      },
      "source": [
        "We start the preprocessing by plotting some column distributions to get some possible insight:"
      ],
      "id": "zqxicXGo_aDI"
    },
    {
      "cell_type": "code",
      "metadata": {
        "id": "J0wEwhb-_aDJ",
        "outputId": "b5c6c5e0-e001-46d2-fd26-2700449b8bf7"
      },
      "source": [
        "#plot histograms for the prices\n",
        "fig=plt.figure(figsize=(20,30))\n",
        "c=1\n",
        "for x in ['total_amount', 'fare_amount', 'tip_amount']:\n",
        "    ax= plt.subplot(7,2,c)\n",
        "    ax.set_yscale('log')\n",
        "    _ =plt.hist(Green[x], bins=150,color='g')\n",
        "    _ =plt.title(x)\n",
        "    plt.xlabel('Money')\n",
        "    plt.ylabel('Count')\n",
        "    c+=1\n",
        "\n",
        "plt.suptitle(\"Figure 1: Pricing distribution of Total_amount, Fare_amount and Tip_amount before preprocessing\",x=0.5, y=0.7,ha='center', fontsize=20)\n",
        "plt.tight_layout()\n",
        "plt.show()"
      ],
      "id": "J0wEwhb-_aDJ",
      "execution_count": null,
      "outputs": [
        {
          "output_type": "display_data",
          "data": {
            "image/png": "[encoded data removed]",
            "text/plain": [
              "<Figure size 1440x2160 with 3 Axes>"
            ]
          },
          "metadata": {
            "tags": [],
            "needs_background": "light"
          }
        }
      ]
    },
    {
      "cell_type": "markdown",
      "metadata": {
        "id": "4h4BNgyp_aDK"
      },
      "source": [
        "In Figure 1, we represented the distribution for the different types of prices, where total_amount = tip_amount + fare_amount +some extras. We plotted then in a logarithmic scale for the y axis to get a better understanding of the data.\n",
        "\n",
        "We observed that there are some negative values for 'Tip_amount', 'Fare amount' and 'Total_amount' that don't make sense and need to be removed. These negative values may be caused by an error in the data registration."
      ],
      "id": "4h4BNgyp_aDK"
    },
    {
      "cell_type": "code",
      "metadata": {
        "id": "tp_AVAfO_aDL"
      },
      "source": [
        "#Converting the distances in Km and deleting the rows with negative values of the prices and passanger_count\n",
        "Green['trip_distance']= Green['trip_distance']*1.60934 #distance in km\n",
        "Green = Green[Green['total_amount']>0]\n",
        "Green = Green[Green['fare_amount']>0]\n",
        "Green = Green[Green['tip_amount']>0]\n",
        "Green = Green[Green['passenger_count']>0]"
      ],
      "id": "tp_AVAfO_aDL",
      "execution_count": null,
      "outputs": []
    },
    {
      "cell_type": "code",
      "metadata": {
        "id": "Fm6oS9SH_aDL",
        "outputId": "b6d11ac0-a203-4a4d-c9bc-c7ddc3d43bf9"
      },
      "source": [
        "#Plot the distribution of the distance\n",
        "fig=plt.figure(figsize=(8,5))\n",
        "plt.yscale('log')\n",
        "plt.xscale('log')\n",
        "_=plt.hist(Green['trip_distance'], bins=400, color='g')\n",
        "_=plt.title('trip_distance')\n",
        "plt.xlabel('Distance')\n",
        "plt.ylabel('Count')\n",
        "\n",
        "plt.suptitle(\"Figure 2: Distance distribution after removing negative values of the prices\",x=0.5, y=0,ha='center', fontsize=14)\n",
        "plt.tight_layout()\n",
        "plt.show()"
      ],
      "id": "Fm6oS9SH_aDL",
      "execution_count": null,
      "outputs": [
        {
          "output_type": "display_data",
          "data": {
            "image/png": "[encoded data removed]",
            "text/plain": [
              "<Figure size 576x360 with 1 Axes>"
            ]
          },
          "metadata": {
            "tags": [],
            "needs_background": "light"
          }
        }
      ]
    },
    {
      "cell_type": "code",
      "metadata": {
        "id": "_kgHQOq5_aDM",
        "outputId": "2ded5ee0-68ba-495d-d63a-81b32de4608a"
      },
      "source": [
        "Outliers= len(Green[(Green['trip_distance']>100)]) + len(Green[(Green['trip_distance']<0)])\n",
        "print('Number of outliers:', Outliers)"
      ],
      "id": "_kgHQOq5_aDM",
      "execution_count": null,
      "outputs": [
        {
          "output_type": "stream",
          "text": [
            "Number of outliers: 25\n"
          ],
          "name": "stdout"
        }
      ]
    },
    {
      "cell_type": "markdown",
      "metadata": {
        "id": "v2bZk_3o_aDN"
      },
      "source": [
        "Figure 2 is a representation of the distance distribution in logarithmic scale. The almost linear decrease in the shape of the distribution tell us that the distances are distributed as an exponential distribution, where almost all of the values are between the range [0,100]. Only some outliers (25) have a really high value for the trip_distance that taxis don't normally do. In conclusion, we remove these few outliers from our final dataset."
      ],
      "id": "v2bZk_3o_aDN"
    },
    {
      "cell_type": "code",
      "metadata": {
        "id": "SWj652RU_aDO"
      },
      "source": [
        "Green = Green[(Green['trip_distance']<100) & (Green['trip_distance']>0)]"
      ],
      "id": "SWj652RU_aDO",
      "execution_count": null,
      "outputs": []
    },
    {
      "cell_type": "markdown",
      "metadata": {
        "id": "z7KtvFIZ_aDO"
      },
      "source": [
        "Now, we are able to concatenate this dataset with the following ones, we save the preprocessing data and we prepare it for the concatenation."
      ],
      "id": "z7KtvFIZ_aDO"
    },
    {
      "cell_type": "code",
      "metadata": {
        "id": "yjyADU-c_aDQ"
      },
      "source": [
        "#Changing the names of the columns to be able to concatenate the dataset with the others\n",
        "Green.columns = ['PULocationID', 'DOLocationID', 'Passenger_count', 'Trip_distance',\n",
        "       'Fare_amount', 'Tip_amount', 'Total_amount', 'Payment_type',\n",
        "       'pickup_date', 'dropoff_date', 'Month', 'Year', 'pickup_hour',\n",
        "       'dropoff_hour', 'type', 'Day']"
      ],
      "id": "yjyADU-c_aDQ",
      "execution_count": null,
      "outputs": []
    },
    {
      "cell_type": "code",
      "metadata": {
        "id": "pdsxHd1m_aDQ"
      },
      "source": [
        "Green.to_pickle(\"Green.pkl\", protocol=4)"
      ],
      "id": "pdsxHd1m_aDQ",
      "execution_count": null,
      "outputs": []
    },
    {
      "cell_type": "markdown",
      "metadata": {
        "id": "Mzy57S6J_aDS"
      },
      "source": [
        "### Cleaning of the FHV dataset"
      ],
      "id": "Mzy57S6J_aDS"
    },
    {
      "cell_type": "markdown",
      "metadata": {
        "id": "dd-yHdon_aDW"
      },
      "source": [
        "The second dataset we found contain some information about FHV. These vehicles work as a taxis, but they are operated by private companies."
      ],
      "id": "dd-yHdon_aDW"
    },
    {
      "cell_type": "code",
      "metadata": {
        "id": "6npzbiSr_aDX"
      },
      "source": [
        "FHV20 = pd.read_csv('20_FHV.csv')\n",
        "FHV19 = pd.read_csv('19_FHV.csv')"
      ],
      "id": "6npzbiSr_aDX",
      "execution_count": null,
      "outputs": []
    },
    {
      "cell_type": "code",
      "metadata": {
        "id": "I81cA7YS_aDY"
      },
      "source": [
        "#Changing the name of some columns to be able to concatenate both years\n",
        "FHV19['Dispatching_base_num']= FHV19['dispatching_base_num']\n",
        "FHV19['Pickup_datetime']= FHV19['pickup_datetime']\n",
        "FHV19['DropOff_datetime']= FHV19['dropoff_datetime']\n",
        "FHV19.drop(['dropoff_datetime','pickup_datetime', 'dispatching_base_num'], axis='columns', inplace=True)"
      ],
      "id": "I81cA7YS_aDY",
      "execution_count": null,
      "outputs": []
    },
    {
      "cell_type": "code",
      "metadata": {
        "id": "O-wOFRx__aDZ",
        "outputId": "ea8c1079-f564-482b-c010-7e4f1dd94caf"
      },
      "source": [
        "#Concatenation of 2019 and 2020 datasets\n",
        "FHV = pd.concat([FHV19, FHV20])\n",
        "FHV.head()"
      ],
      "id": "O-wOFRx__aDZ",
      "execution_count": null,
      "outputs": [
        {
          "output_type": "execute_result",
          "data": {
            "text/html": [
              "<div>\n",
              "<style scoped>\n",
              "    .dataframe tbody tr th:only-of-type {\n",
              "        vertical-align: middle;\n",
              "    }\n",
              "\n",
              "    .dataframe tbody tr th {\n",
              "        vertical-align: top;\n",
              "    }\n",
              "\n",
              "    .dataframe thead th {\n",
              "        text-align: right;\n",
              "    }\n",
              "</style>\n",
              "<table border=\"1\" class=\"dataframe\">\n",
              "  <thead>\n",
              "    <tr style=\"text-align: right;\">\n",
              "      <th></th>\n",
              "      <th>PULocationID</th>\n",
              "      <th>DOLocationID</th>\n",
              "      <th>SR_Flag</th>\n",
              "      <th>Dispatching_base_num</th>\n",
              "      <th>Pickup_datetime</th>\n",
              "      <th>DropOff_datetime</th>\n",
              "    </tr>\n",
              "  </thead>\n",
              "  <tbody>\n",
              "    <tr>\n",
              "      <th>0</th>\n",
              "      <td>NaN</td>\n",
              "      <td>265.0</td>\n",
              "      <td>NaN</td>\n",
              "      <td>B01239</td>\n",
              "      <td>01/01/2019 12:52:56 AM</td>\n",
              "      <td>01/01/2019 12:57:03 AM</td>\n",
              "    </tr>\n",
              "    <tr>\n",
              "      <th>1</th>\n",
              "      <td>NaN</td>\n",
              "      <td>265.0</td>\n",
              "      <td>NaN</td>\n",
              "      <td>B01239</td>\n",
              "      <td>01/01/2019 12:29:45 AM</td>\n",
              "      <td>01/01/2019 12:41:49 AM</td>\n",
              "    </tr>\n",
              "    <tr>\n",
              "      <th>2</th>\n",
              "      <td>NaN</td>\n",
              "      <td>265.0</td>\n",
              "      <td>NaN</td>\n",
              "      <td>B01239</td>\n",
              "      <td>01/01/2019 12:13:20 AM</td>\n",
              "      <td>01/01/2019 12:34:35 AM</td>\n",
              "    </tr>\n",
              "    <tr>\n",
              "      <th>3</th>\n",
              "      <td>NaN</td>\n",
              "      <td>265.0</td>\n",
              "      <td>NaN</td>\n",
              "      <td>B01239</td>\n",
              "      <td>01/01/2019 12:00:38 AM</td>\n",
              "      <td>01/01/2019 12:10:09 AM</td>\n",
              "    </tr>\n",
              "    <tr>\n",
              "      <th>4</th>\n",
              "      <td>NaN</td>\n",
              "      <td>265.0</td>\n",
              "      <td>NaN</td>\n",
              "      <td>B01239</td>\n",
              "      <td>01/01/2019 12:23:57 AM</td>\n",
              "      <td>01/01/2019 12:40:00 AM</td>\n",
              "    </tr>\n",
              "  </tbody>\n",
              "</table>\n",
              "</div>"
            ],
            "text/plain": [
              "   PULocationID  DOLocationID  SR_Flag Dispatching_base_num  \\\n",
              "0           NaN         265.0      NaN               B01239   \n",
              "1           NaN         265.0      NaN               B01239   \n",
              "2           NaN         265.0      NaN               B01239   \n",
              "3           NaN         265.0      NaN               B01239   \n",
              "4           NaN         265.0      NaN               B01239   \n",
              "\n",
              "          Pickup_datetime        DropOff_datetime  \n",
              "0  01/01/2019 12:52:56 AM  01/01/2019 12:57:03 AM  \n",
              "1  01/01/2019 12:29:45 AM  01/01/2019 12:41:49 AM  \n",
              "2  01/01/2019 12:13:20 AM  01/01/2019 12:34:35 AM  \n",
              "3  01/01/2019 12:00:38 AM  01/01/2019 12:10:09 AM  \n",
              "4  01/01/2019 12:23:57 AM  01/01/2019 12:40:00 AM  "
            ]
          },
          "metadata": {
            "tags": []
          },
          "execution_count": 20
        }
      ]
    },
    {
      "cell_type": "code",
      "metadata": {
        "id": "27CpphqO_aDa"
      },
      "source": [
        "#Transformation of the dates in datetime\n",
        "FHV['pickup_date']= pd.to_datetime(FHV['Pickup_datetime'].astype(str).str[0:10], errors='coerce')\n",
        "FHV['dropoff_date']= pd.to_datetime(FHV['DropOff_datetime'].astype(str).str[0:10], errors='coerce')\n",
        "FHV['pickup_Time']= pd.to_datetime(FHV['Pickup_datetime'].astype(str).str[11:], format='%I:%M:%S %p',errors='coerce')\n",
        "FHV['dropoff_Time']= pd.to_datetime(FHV['Pickup_datetime'].astype(str).str[11:], format='%I:%M:%S %p',errors='coerce')"
      ],
      "id": "27CpphqO_aDa",
      "execution_count": null,
      "outputs": []
    },
    {
      "cell_type": "code",
      "metadata": {
        "id": "OkLlp4fu_aDb"
      },
      "source": [
        "#Changing AM/PM time format to 24h format\n",
        "FHV['pickup_Time'] =FHV['pickup_Time'].dt.strftime('%H:%M:%S')\n",
        "FHV['dropoff_Time'] =FHV['dropoff_Time'].dt.strftime('%H:%M:%S')"
      ],
      "id": "OkLlp4fu_aDb",
      "execution_count": null,
      "outputs": []
    },
    {
      "cell_type": "code",
      "metadata": {
        "id": "fauVkTu6_aDb"
      },
      "source": [
        "#Saving the information of the year and month in different columns\n",
        "FHV['Month'] = FHV['pickup_date'].dt.month\n",
        "FHV['Year'] = FHV['pickup_date'].dt.year"
      ],
      "id": "fauVkTu6_aDb",
      "execution_count": null,
      "outputs": []
    },
    {
      "cell_type": "code",
      "metadata": {
        "id": "i3JoXJIV_aDc",
        "outputId": "f57ce083-943b-4781-b675-42c627bde7d6"
      },
      "source": [
        "#Drop columns without importance for our analysis\n",
        "FHV= FHV.drop(columns=['Pickup_datetime','DropOff_datetime', 'SR_Flag','Dispatching_base_num'])\n",
        "FHV[\"type\"] = \"FHV\"\n",
        "FHV.head()"
      ],
      "id": "i3JoXJIV_aDc",
      "execution_count": null,
      "outputs": [
        {
          "output_type": "execute_result",
          "data": {
            "text/html": [
              "<div>\n",
              "<style scoped>\n",
              "    .dataframe tbody tr th:only-of-type {\n",
              "        vertical-align: middle;\n",
              "    }\n",
              "\n",
              "    .dataframe tbody tr th {\n",
              "        vertical-align: top;\n",
              "    }\n",
              "\n",
              "    .dataframe thead th {\n",
              "        text-align: right;\n",
              "    }\n",
              "</style>\n",
              "<table border=\"1\" class=\"dataframe\">\n",
              "  <thead>\n",
              "    <tr style=\"text-align: right;\">\n",
              "      <th></th>\n",
              "      <th>PULocationID</th>\n",
              "      <th>DOLocationID</th>\n",
              "      <th>pickup_date</th>\n",
              "      <th>dropoff_date</th>\n",
              "      <th>pickup_Time</th>\n",
              "      <th>dropoff_Time</th>\n",
              "      <th>Month</th>\n",
              "      <th>Year</th>\n",
              "      <th>type</th>\n",
              "    </tr>\n",
              "  </thead>\n",
              "  <tbody>\n",
              "    <tr>\n",
              "      <th>0</th>\n",
              "      <td>NaN</td>\n",
              "      <td>265.0</td>\n",
              "      <td>2019-01-01</td>\n",
              "      <td>2019-01-01</td>\n",
              "      <td>00:52:56</td>\n",
              "      <td>00:52:56</td>\n",
              "      <td>1</td>\n",
              "      <td>2019</td>\n",
              "      <td>FHV</td>\n",
              "    </tr>\n",
              "    <tr>\n",
              "      <th>1</th>\n",
              "      <td>NaN</td>\n",
              "      <td>265.0</td>\n",
              "      <td>2019-01-01</td>\n",
              "      <td>2019-01-01</td>\n",
              "      <td>00:29:45</td>\n",
              "      <td>00:29:45</td>\n",
              "      <td>1</td>\n",
              "      <td>2019</td>\n",
              "      <td>FHV</td>\n",
              "    </tr>\n",
              "    <tr>\n",
              "      <th>2</th>\n",
              "      <td>NaN</td>\n",
              "      <td>265.0</td>\n",
              "      <td>2019-01-01</td>\n",
              "      <td>2019-01-01</td>\n",
              "      <td>00:13:20</td>\n",
              "      <td>00:13:20</td>\n",
              "      <td>1</td>\n",
              "      <td>2019</td>\n",
              "      <td>FHV</td>\n",
              "    </tr>\n",
              "    <tr>\n",
              "      <th>3</th>\n",
              "      <td>NaN</td>\n",
              "      <td>265.0</td>\n",
              "      <td>2019-01-01</td>\n",
              "      <td>2019-01-01</td>\n",
              "      <td>00:00:38</td>\n",
              "      <td>00:00:38</td>\n",
              "      <td>1</td>\n",
              "      <td>2019</td>\n",
              "      <td>FHV</td>\n",
              "    </tr>\n",
              "    <tr>\n",
              "      <th>4</th>\n",
              "      <td>NaN</td>\n",
              "      <td>265.0</td>\n",
              "      <td>2019-01-01</td>\n",
              "      <td>2019-01-01</td>\n",
              "      <td>00:23:57</td>\n",
              "      <td>00:23:57</td>\n",
              "      <td>1</td>\n",
              "      <td>2019</td>\n",
              "      <td>FHV</td>\n",
              "    </tr>\n",
              "  </tbody>\n",
              "</table>\n",
              "</div>"
            ],
            "text/plain": [
              "   PULocationID  DOLocationID pickup_date dropoff_date pickup_Time  \\\n",
              "0           NaN         265.0  2019-01-01   2019-01-01    00:52:56   \n",
              "1           NaN         265.0  2019-01-01   2019-01-01    00:29:45   \n",
              "2           NaN         265.0  2019-01-01   2019-01-01    00:13:20   \n",
              "3           NaN         265.0  2019-01-01   2019-01-01    00:00:38   \n",
              "4           NaN         265.0  2019-01-01   2019-01-01    00:23:57   \n",
              "\n",
              "  dropoff_Time  Month  Year type  \n",
              "0     00:52:56      1  2019  FHV  \n",
              "1     00:29:45      1  2019  FHV  \n",
              "2     00:13:20      1  2019  FHV  \n",
              "3     00:00:38      1  2019  FHV  \n",
              "4     00:23:57      1  2019  FHV  "
            ]
          },
          "metadata": {
            "tags": []
          },
          "execution_count": 24
        }
      ]
    },
    {
      "cell_type": "markdown",
      "metadata": {
        "id": "oCyMW7X3_aDe"
      },
      "source": [
        "We observed that it seems to be a lot of numbers without the 'PULocationID' information, for that reason, we calculate the percentage of Nan in that column:"
      ],
      "id": "oCyMW7X3_aDe"
    },
    {
      "cell_type": "code",
      "metadata": {
        "id": "ft_RnBD__aDf",
        "outputId": "f56de4ba-0ebb-4b6b-e0ff-eb8ecd2022a3"
      },
      "source": [
        "print(\"Percentage of Nan in the Pick up LocationID\", FHV['PULocationID'].isna().sum()/len(FHV))"
      ],
      "id": "ft_RnBD__aDf",
      "execution_count": null,
      "outputs": [
        {
          "output_type": "stream",
          "text": [
            "Percentage of Nan in the Pick up LocationID 0.18351919510784262\n"
          ],
          "name": "stdout"
        }
      ]
    },
    {
      "cell_type": "markdown",
      "metadata": {
        "id": "hRypJG9u_aDg"
      },
      "source": [
        "Actually, the percentage of Nan for the Pick up LocationID is quite high compare with the other datasets.\n",
        "\n",
        "Moreover, this dataset doesn't contain any information about prices or distances.\n",
        "\n",
        "We plot the monthly distribution of FHV to see if we can extract some relevant temporal information that could be useful for further analysis:"
      ],
      "id": "hRypJG9u_aDg"
    },
    {
      "cell_type": "code",
      "metadata": {
        "id": "QWjUmJoH_aDg",
        "outputId": "18b9dda3-0199-4458-9d48-75dfe188d946"
      },
      "source": [
        "#plot the monthly distribution of FHV\n",
        "c=0\n",
        "z= np.arange(1,13)\n",
        "f, axs = plt.subplots(1, 2, tight_layout=True, figsize=(14,4))\n",
        "f.suptitle(\"Temporal pattern\", fontsize=18, y=1.01)\n",
        "f.text(0.5,0, \"Figure 3: Monthly pattern of the registed number of pickups\", ha='center', va=\"top\", size=14)\n",
        "for x in [2019, 2020]:\n",
        "    taxi = FHV[FHV.Year==x].groupby('Month').size()\n",
        "    axs[c].bar(z, taxi)\n",
        "    axs[c].set_title(x)\n",
        "    axs[c].set_xlabel('Month')\n",
        "    axs[c].set_ylabel('Count')\n",
        "    axs[c].set_xticks(range(1, 13,1))\n",
        "    c+=1"
      ],
      "id": "QWjUmJoH_aDg",
      "execution_count": null,
      "outputs": [
        {
          "output_type": "display_data",
          "data": {
            "image/png": "[encoded data removed]",
            "text/plain": [
              "<Figure size 1008x288 with 2 Axes>"
            ]
          },
          "metadata": {
            "tags": [],
            "needs_background": "light"
          }
        }
      ]
    },
    {
      "cell_type": "markdown",
      "metadata": {
        "id": "9DYgZ8VR_aDh"
      },
      "source": [
        "In figure 3, we can observe that the 2019 distribution for FHV does not follow a reasonable pattern, since the great majority of the rides are recorded in January. At this point, only information from 2020 could be useful.\n",
        "\n",
        "Given all the previous reasons, we decided to drop this dataset from the analysis and focus on the differences between Green and Yellow taxis."
      ],
      "id": "9DYgZ8VR_aDh"
    },
    {
      "cell_type": "markdown",
      "metadata": {
        "id": "Ms0ytuok_aDh"
      },
      "source": [
        "### Cleaning of the Yellow19 dataset"
      ],
      "id": "Ms0ytuok_aDh"
    },
    {
      "cell_type": "markdown",
      "metadata": {
        "id": "hCmmcvGh_aDh"
      },
      "source": [
        "Given the large size of this dataset, we had to obtain it in three different parts."
      ],
      "id": "hCmmcvGh_aDh"
    },
    {
      "cell_type": "code",
      "metadata": {
        "id": "Jn3FX3s0_aDi"
      },
      "source": [
        "#Given the big weight of the Yellow_19 dataset, we divided in three parts\n",
        "Yellow19_1 = pd.read_csv('19_Yellow_1.csv')\n",
        "Yellow19_2 = pd.read_csv('19_Yellow_2.csv')\n",
        "Yellow19_3 = pd.read_csv('19_Yellow_3.csv')"
      ],
      "id": "Jn3FX3s0_aDi",
      "execution_count": null,
      "outputs": []
    },
    {
      "cell_type": "markdown",
      "metadata": {
        "id": "H6sWewQS_aDi"
      },
      "source": [
        "This code is modified for the three dataset, each one at a time:"
      ],
      "id": "H6sWewQS_aDi"
    },
    {
      "cell_type": "code",
      "metadata": {
        "id": "DElqi2Io_aDj"
      },
      "source": [
        "#Drop columns without importance for our analysis\n",
        "Yellow19_1= Yellow19_1.drop(columns=['store_and_fwd_flag', 'VendorID','RatecodeID','congestion_surcharge','improvement_surcharge', 'mta_tax', 'tolls_amount','extra'])"
      ],
      "id": "DElqi2Io_aDj",
      "execution_count": null,
      "outputs": []
    },
    {
      "cell_type": "code",
      "metadata": {
        "id": "vhZic7rD_aDj"
      },
      "source": [
        "#Transformation of the dates in datetime and extracting month and year columns\n",
        "Yellow19_1['pickup_date']= pd.to_datetime(Yellow19_1['lpep_pickup_datetime'].astype(str).str[0:10], errors='coerce')\n",
        "Yellow19_1['dropoff_date']= pd.to_datetime(Yellow19_1['lpep_dropoff_datetime'].astype(str).str[0:10], errors='coerce')\n",
        "Yellow19_1['Month'] = Yellow19_1['pickup_date'].dt.month\n",
        "Yellow19_1['Year'] = Yellow19_1['pickup_date'].dt.year"
      ],
      "id": "vhZic7rD_aDj",
      "execution_count": null,
      "outputs": []
    },
    {
      "cell_type": "code",
      "metadata": {
        "id": "18xXk_5A_aDj"
      },
      "source": [
        "#Changing AM/PM time format to 24h format\n",
        "Yellow19_1['pickup_Time']= pd.to_datetime(Yellow19_1['lpep_pickup_datetime'].astype(str).str[11:], format='%I:%M:%S %p',errors='coerce')\n",
        "Yellow19_1['dropoff_Time']= pd.to_datetime(Yellow19_1['lpep_dropoff_datetime'].astype(str).str[11:], format='%I:%M:%S %p',errors='coerce')\n",
        "Yellow19_1['pickup_Time'] = pd.to_datetime(Yellow19_1['pickup_Time'].dt.strftime('%H:%M:%S'), errors='coerce')\n",
        "Yellow19_1['dropoff_Time'] = pd.to_datetime(Yellow19_1['dropoff_Time'].dt.strftime('%H:%M:%S'), errors='coerce')"
      ],
      "id": "18xXk_5A_aDj",
      "execution_count": null,
      "outputs": []
    },
    {
      "cell_type": "code",
      "metadata": {
        "id": "4f6FAuRv_aDk"
      },
      "source": [
        "#Extracting the hour and day column\n",
        "Yellow19_1['pickup_hour'] = Yellow19_1['pickup_Time'].dt.hour\n",
        "Yellow19_1['dropoff_hour']= Yellow19_1['dropoff_Time'].dt.hour\n",
        "Yellow19_1[\"type\"] = \"yellow\"\n",
        "Yellow19_1['Day'] = Yellow19_1['pickup_date'].dt.day\n",
        "Yellow19_1['Day_of_week'] =Yellow19_1['pickup_date'].dt.strftime('%A')\n",
        "Yellow19_1= Yellow19_1.drop(columns=['lpep_pickup_datetime','lpep_dropoff_datetime', 'pickup_Time','dropoff_Time'])"
      ],
      "id": "4f6FAuRv_aDk",
      "execution_count": null,
      "outputs": []
    },
    {
      "cell_type": "markdown",
      "metadata": {
        "id": "iri_9g9G_aDk"
      },
      "source": [
        "Once we have preprocessing the datetimes columns for the three dataset, we concatenate them:"
      ],
      "id": "iri_9g9G_aDk"
    },
    {
      "cell_type": "code",
      "metadata": {
        "id": "BiH0x3ql_aDk",
        "outputId": "27cf400d-62f6-4a11-94aa-3f93876c0817"
      },
      "source": [
        "Yellow19 = pd.concat([Yellow19_1, Yellow19_2, Yellow19_3])\n",
        "Yellow19.head()"
      ],
      "id": "BiH0x3ql_aDk",
      "execution_count": null,
      "outputs": [
        {
          "output_type": "execute_result",
          "data": {
            "text/html": [
              "<div>\n",
              "<style scoped>\n",
              "    .dataframe tbody tr th:only-of-type {\n",
              "        vertical-align: middle;\n",
              "    }\n",
              "\n",
              "    .dataframe tbody tr th {\n",
              "        vertical-align: top;\n",
              "    }\n",
              "\n",
              "    .dataframe thead th {\n",
              "        text-align: right;\n",
              "    }\n",
              "</style>\n",
              "<table border=\"1\" class=\"dataframe\">\n",
              "  <thead>\n",
              "    <tr style=\"text-align: right;\">\n",
              "      <th></th>\n",
              "      <th>Passenger_count</th>\n",
              "      <th>Trip_distance</th>\n",
              "      <th>PULocationID</th>\n",
              "      <th>DOLocationID</th>\n",
              "      <th>Payment_type</th>\n",
              "      <th>Fare_amount</th>\n",
              "      <th>Tip_amount</th>\n",
              "      <th>Total_amount</th>\n",
              "      <th>pickup_date</th>\n",
              "      <th>dropoff_date</th>\n",
              "      <th>Month</th>\n",
              "      <th>Year</th>\n",
              "      <th>pickup_hour</th>\n",
              "      <th>dropoff_hour</th>\n",
              "      <th>type</th>\n",
              "      <th>Day</th>\n",
              "      <th>Day_of_week</th>\n",
              "    </tr>\n",
              "  </thead>\n",
              "  <tbody>\n",
              "    <tr>\n",
              "      <th>1</th>\n",
              "      <td>2.0</td>\n",
              "      <td>4.715366</td>\n",
              "      <td>79</td>\n",
              "      <td>229</td>\n",
              "      <td>1.0</td>\n",
              "      <td>9.5</td>\n",
              "      <td>2.66</td>\n",
              "      <td>15.96</td>\n",
              "      <td>2019-07-06</td>\n",
              "      <td>2019-07-06</td>\n",
              "      <td>7</td>\n",
              "      <td>2019</td>\n",
              "      <td>2</td>\n",
              "      <td>2</td>\n",
              "      <td>yellow</td>\n",
              "      <td>6</td>\n",
              "      <td>Saturday</td>\n",
              "    </tr>\n",
              "    <tr>\n",
              "      <th>2</th>\n",
              "      <td>1.0</td>\n",
              "      <td>2.011675</td>\n",
              "      <td>239</td>\n",
              "      <td>236</td>\n",
              "      <td>1.0</td>\n",
              "      <td>7.0</td>\n",
              "      <td>2.16</td>\n",
              "      <td>12.96</td>\n",
              "      <td>2019-07-06</td>\n",
              "      <td>2019-07-06</td>\n",
              "      <td>7</td>\n",
              "      <td>2019</td>\n",
              "      <td>2</td>\n",
              "      <td>2</td>\n",
              "      <td>yellow</td>\n",
              "      <td>6</td>\n",
              "      <td>Saturday</td>\n",
              "    </tr>\n",
              "    <tr>\n",
              "      <th>3</th>\n",
              "      <td>1.0</td>\n",
              "      <td>0.965604</td>\n",
              "      <td>4</td>\n",
              "      <td>79</td>\n",
              "      <td>1.0</td>\n",
              "      <td>5.0</td>\n",
              "      <td>1.75</td>\n",
              "      <td>10.55</td>\n",
              "      <td>2019-07-06</td>\n",
              "      <td>2019-07-06</td>\n",
              "      <td>7</td>\n",
              "      <td>2019</td>\n",
              "      <td>2</td>\n",
              "      <td>2</td>\n",
              "      <td>yellow</td>\n",
              "      <td>6</td>\n",
              "      <td>Saturday</td>\n",
              "    </tr>\n",
              "    <tr>\n",
              "      <th>4</th>\n",
              "      <td>2.0</td>\n",
              "      <td>1.223098</td>\n",
              "      <td>79</td>\n",
              "      <td>144</td>\n",
              "      <td>1.0</td>\n",
              "      <td>6.0</td>\n",
              "      <td>1.96</td>\n",
              "      <td>11.76</td>\n",
              "      <td>2019-07-06</td>\n",
              "      <td>2019-07-06</td>\n",
              "      <td>7</td>\n",
              "      <td>2019</td>\n",
              "      <td>2</td>\n",
              "      <td>2</td>\n",
              "      <td>yellow</td>\n",
              "      <td>6</td>\n",
              "      <td>Saturday</td>\n",
              "    </tr>\n",
              "    <tr>\n",
              "      <th>5</th>\n",
              "      <td>2.0</td>\n",
              "      <td>6.437360</td>\n",
              "      <td>161</td>\n",
              "      <td>179</td>\n",
              "      <td>1.0</td>\n",
              "      <td>14.0</td>\n",
              "      <td>3.55</td>\n",
              "      <td>21.35</td>\n",
              "      <td>2019-07-06</td>\n",
              "      <td>2019-07-06</td>\n",
              "      <td>7</td>\n",
              "      <td>2019</td>\n",
              "      <td>2</td>\n",
              "      <td>2</td>\n",
              "      <td>yellow</td>\n",
              "      <td>6</td>\n",
              "      <td>Saturday</td>\n",
              "    </tr>\n",
              "  </tbody>\n",
              "</table>\n",
              "</div>"
            ],
            "text/plain": [
              "   Passenger_count  Trip_distance  PULocationID  DOLocationID  Payment_type  \\\n",
              "1              2.0       4.715366            79           229           1.0   \n",
              "2              1.0       2.011675           239           236           1.0   \n",
              "3              1.0       0.965604             4            79           1.0   \n",
              "4              2.0       1.223098            79           144           1.0   \n",
              "5              2.0       6.437360           161           179           1.0   \n",
              "\n",
              "   Fare_amount  Tip_amount  Total_amount pickup_date dropoff_date  Month  \\\n",
              "1          9.5        2.66         15.96  2019-07-06   2019-07-06      7   \n",
              "2          7.0        2.16         12.96  2019-07-06   2019-07-06      7   \n",
              "3          5.0        1.75         10.55  2019-07-06   2019-07-06      7   \n",
              "4          6.0        1.96         11.76  2019-07-06   2019-07-06      7   \n",
              "5         14.0        3.55         21.35  2019-07-06   2019-07-06      7   \n",
              "\n",
              "   Year  pickup_hour  dropoff_hour    type  Day Day_of_week  \n",
              "1  2019            2             2  yellow    6    Saturday  \n",
              "2  2019            2             2  yellow    6    Saturday  \n",
              "3  2019            2             2  yellow    6    Saturday  \n",
              "4  2019            2             2  yellow    6    Saturday  \n",
              "5  2019            2             2  yellow    6    Saturday  "
            ]
          },
          "metadata": {
            "tags": []
          },
          "execution_count": 9
        }
      ]
    },
    {
      "cell_type": "markdown",
      "metadata": {
        "id": "4v9sxZW5_aDl"
      },
      "source": [
        "It is time now to start plotting some columns distribution to be able to proceed with the cleaning:"
      ],
      "id": "4v9sxZW5_aDl"
    },
    {
      "cell_type": "code",
      "metadata": {
        "id": "ouqrqdm1_aDl"
      },
      "source": [
        "Yellow19 = pd.concat([Yellow19_1, Yellow19_2, Yellow19_3])"
      ],
      "id": "ouqrqdm1_aDl",
      "execution_count": null,
      "outputs": []
    },
    {
      "cell_type": "code",
      "metadata": {
        "id": "U4HYjzQu_aDl",
        "outputId": "f99d332d-5720-4052-9769-402cb3249021"
      },
      "source": [
        "#histogram of the prices before preprocessing\n",
        "fig=plt.figure(figsize=(20,30))\n",
        "c=1\n",
        "for x in ['total_amount', 'fare_amount']:\n",
        "    ax= plt.subplot(7,2,c)\n",
        "    ax.set_yscale('log')\n",
        "    plt.xlim(-1000, 3500)\n",
        "    _ =plt.hist(Yellow19[x], bins=3000, color='y')\n",
        "    _ =plt.title(x)\n",
        "    plt.xlabel('Money')\n",
        "    plt.ylabel('Count')\n",
        "    c+=1\n",
        "    \n",
        "ax= plt.subplot(7,2,c)\n",
        "ax.set_yscale('log')\n",
        "_ =plt.hist(Yellow19['tip_amount'], bins=100, color='y')\n",
        "_ =plt.title('Tip_amount')\n",
        "plt.xlabel('Money')\n",
        "plt.ylabel('Count')\n",
        "\n",
        "plt.suptitle(\"Figure 4: Price distribution of Total_amount, Fare_amount and Tip_amount for Yellow19 taxis\",x=0.5, y=0.7,ha='center', fontsize=20)\n",
        "plt.tight_layout()\n",
        "plt.show()"
      ],
      "id": "U4HYjzQu_aDl",
      "execution_count": null,
      "outputs": [
        {
          "output_type": "display_data",
          "data": {
            "image/png": "[encoded data removed]",
            "text/plain": [
              "<Figure size 1440x2160 with 3 Axes>"
            ]
          },
          "metadata": {
            "tags": [],
            "needs_background": "light"
          }
        }
      ]
    },
    {
      "cell_type": "markdown",
      "metadata": {
        "id": "zAZSa80W_aDm"
      },
      "source": [
        "Based in figure 4, where we plot the distribution for the different types of prices in a logarithmic scale for the y axis, we observe that again, there are some negative values for 'tip_amount','Fare amount' and 'Total_amount' that need to be removed.\n",
        "We believe that these negative values may be caused by an error in the registration of the data.\n",
        "\n",
        "We also realize that there are some  really high prices both for 'Fare amount' and 'Total_amount', we will see if after plotting and preprocessing the 'trip_distance' column we can handle this problem."
      ],
      "id": "zAZSa80W_aDm"
    },
    {
      "cell_type": "code",
      "metadata": {
        "id": "KuHI6u59_aDm"
      },
      "source": [
        "#Converting the distances in Km and deleting the rows with negative values of the prices and passanger_count\n",
        "Yellow19['trip_distance']= Yellow19['trip_distance']*1.60934 #distance in km!!!\n",
        "Yellow19 = Yellow19[Yellow19['total_amount']>0]\n",
        "Yellow19 = Yellow19[Yellow19['fare_amount']>0]\n",
        "Yellow19 = Yellow19[Yellow19['passenger_count']>0]\n",
        "Yellow19 = Yellow19[Yellow19['tip_amount']>0]"
      ],
      "id": "KuHI6u59_aDm",
      "execution_count": null,
      "outputs": []
    },
    {
      "cell_type": "markdown",
      "metadata": {
        "id": "PneYx2AU_aDn"
      },
      "source": [
        "We plot the 'trip_distance' distribution in log scale here:"
      ],
      "id": "PneYx2AU_aDn"
    },
    {
      "cell_type": "code",
      "metadata": {
        "id": "STBSXW1H_aDn",
        "outputId": "1dc5b20a-3521-477d-a554-e080a88c29e6"
      },
      "source": [
        "#Plot the distribution of the distance\n",
        "fig=plt.figure(figsize=(8,5))\n",
        "plt.yscale('log')\n",
        "plt.xscale('log')\n",
        "#plt.xlim(-50, 250)\n",
        "#plt.xticks(range(0, 1200, 100))\n",
        "_=plt.hist(Yellow19['trip_distance'], bins=400, color='y')\n",
        "_=plt.title('trip_distance')\n",
        "plt.xlabel('Distance')\n",
        "plt.ylabel('Count')\n",
        "\n",
        "plt.suptitle(\"Figure 5: Distance distribution of yellow taxis 2019\",x=0.5, y=0,ha='center', fontsize=14)\n",
        "plt.tight_layout()\n",
        "plt.show()"
      ],
      "id": "STBSXW1H_aDn",
      "execution_count": null,
      "outputs": [
        {
          "output_type": "display_data",
          "data": {
            "image/png": "[encoded data removed]",
            "text/plain": [
              "<Figure size 576x360 with 1 Axes>"
            ]
          },
          "metadata": {
            "tags": [],
            "needs_background": "light"
          }
        }
      ]
    },
    {
      "cell_type": "markdown",
      "metadata": {
        "id": "L3R5Xwgz_aEC"
      },
      "source": [
        "Figure 5 represents the distance distribution in logarithmic scale after deleting the negative values of the prices. The almost linear decrease in the shape of the distribution point out that the distances are distributed as an exponential distribution, where almost all of the values are between the range [0,100]. We also find some outliers at really high distances. We will remove these few outliers from our final dataset."
      ],
      "id": "L3R5Xwgz_aEC"
    },
    {
      "cell_type": "code",
      "metadata": {
        "id": "pu7wUr90_aEF"
      },
      "source": [
        "Yellow19 = Yellow19[(Yellow19['trip_distance']<100) & (Yellow19['trip_distance']>0)]"
      ],
      "id": "pu7wUr90_aEF",
      "execution_count": null,
      "outputs": []
    },
    {
      "cell_type": "code",
      "metadata": {
        "id": "xkdmt8-X_aEG",
        "outputId": "91d0e744-0afd-4f06-a839-e15fa2cfb878"
      },
      "source": [
        "#histogram of the prices after preprocessing\n",
        "fig=plt.figure(figsize=(20,30))\n",
        "c=1\n",
        "for x in ['total_amount', 'fare_amount', 'tip_amount']:\n",
        "    ax= plt.subplot(7,2,c)\n",
        "    ax.set_yscale('log')\n",
        "    _ =plt.hist(Yellow19[x], bins=80,color='y')\n",
        "    _ =plt.title(x)\n",
        "    plt.xlabel('Money')\n",
        "    plt.ylabel('Count')\n",
        "    c+=1\n",
        "\n",
        "plt.suptitle(\"Figure 6: Pricing distribution of Total_amount, Fare_amount and Tip_amount before preprocessing\",x=0.5, y=0.7,ha='center', fontsize=20)\n",
        "plt.tight_layout()\n",
        "plt.show()"
      ],
      "id": "xkdmt8-X_aEG",
      "execution_count": null,
      "outputs": [
        {
          "output_type": "display_data",
          "data": {
            "image/png": "[encoded data removed]",
            "text/plain": [
              "<Figure size 1440x2160 with 3 Axes>"
            ]
          },
          "metadata": {
            "tags": [],
            "needs_background": "light"
          }
        }
      ]
    },
    {
      "cell_type": "code",
      "metadata": {
        "id": "S4k4Qt3T_aEL",
        "outputId": "43c135c5-8020-4178-a801-cc5e20263743"
      },
      "source": [
        "len(Yellow19[Yellow19['fare_amount']>400])"
      ],
      "id": "S4k4Qt3T_aEL",
      "execution_count": null,
      "outputs": [
        {
          "output_type": "execute_result",
          "data": {
            "text/plain": [
              "7"
            ]
          },
          "metadata": {
            "tags": []
          },
          "execution_count": 12
        }
      ]
    },
    {
      "cell_type": "markdown",
      "metadata": {
        "id": "vJ6Wx86z_aEM"
      },
      "source": [
        "In figure 6, we can see how the prices have a more reasonable distribution with only 7 values where the 'fare_mount' is greater than 400. Almost all the prices are in between [0, 300] and we find more values for smaller quantities around 0."
      ],
      "id": "vJ6Wx86z_aEM"
    },
    {
      "cell_type": "code",
      "metadata": {
        "id": "G504DKet_aEN",
        "outputId": "85af436a-7ca7-484c-9452-38ad9b6bcf0a"
      },
      "source": [
        "#Check the number of Nan in the Pick up locationID\n",
        "print(\"Number of Nan in the Pick up LocationID\", Yellow19['PULocationID'].isna().sum())"
      ],
      "id": "G504DKet_aEN",
      "execution_count": null,
      "outputs": [
        {
          "output_type": "stream",
          "text": [
            "Number of Nan in the Pick up LocationID 0\n"
          ],
          "name": "stdout"
        }
      ]
    },
    {
      "cell_type": "code",
      "metadata": {
        "id": "Pos78Zdl_aEN"
      },
      "source": [
        "#Changing the names of the columns to be able to concatenate with the other datasets\n",
        "Yellow19.columns = ['Passenger_count', 'Trip_distance', 'PULocationID', 'DOLocationID',\n",
        "       'Payment_type', 'Fare_amount', 'Tip_amount', 'Total_amount',\n",
        "       'pickup_date', 'dropoff_date', 'Month', 'Year', 'pickup_hour',\n",
        "       'dropoff_hour', 'type', 'Day']"
      ],
      "id": "Pos78Zdl_aEN",
      "execution_count": null,
      "outputs": []
    },
    {
      "cell_type": "markdown",
      "metadata": {
        "id": "pfwbLOIL_aEO"
      },
      "source": [
        "The dataset is ready for the concatenation with the other ones."
      ],
      "id": "pfwbLOIL_aEO"
    },
    {
      "cell_type": "code",
      "metadata": {
        "id": "lzM8KExJ_aEO"
      },
      "source": [
        "Yellow19.to_pickle(\"Yellow19.pkl\", protocol=4)"
      ],
      "id": "lzM8KExJ_aEO",
      "execution_count": null,
      "outputs": []
    },
    {
      "cell_type": "markdown",
      "metadata": {
        "id": "I6YsTsk0_aEP"
      },
      "source": [
        "### Cleaning of the Yellow20 dataset"
      ],
      "id": "I6YsTsk0_aEP"
    },
    {
      "cell_type": "markdown",
      "metadata": {
        "id": "NOUWvfK5_aEP"
      },
      "source": [
        "Finally, the last dataset we are going to analyze is the data regarding yellow taxis in 2020."
      ],
      "id": "NOUWvfK5_aEP"
    },
    {
      "cell_type": "code",
      "metadata": {
        "id": "uOG_YZuX_aEQ",
        "outputId": "06fb0dae-66c2-4110-fead-712ff6b01730"
      },
      "source": [
        "Yellow20 = pd.read_csv('20_Yellow.csv')"
      ],
      "id": "uOG_YZuX_aEQ",
      "execution_count": null,
      "outputs": [
        {
          "output_type": "stream",
          "text": [
            "C:\\Users\\loren\\anaconda3\\lib\\site-packages\\IPython\\core\\interactiveshell.py:3146: DtypeWarning: Columns (6) have mixed types.Specify dtype option on import or set low_memory=False.\n",
            "  has_raised = await self.run_ast_nodes(code_ast.body, cell_name,\n"
          ],
          "name": "stderr"
        }
      ]
    },
    {
      "cell_type": "code",
      "metadata": {
        "id": "CktYi_8w_aEQ",
        "outputId": "a25f4962-162c-4ca6-9b76-8238750139af"
      },
      "source": [
        "#Drop the columns that are not relevant for the analysis\n",
        "Yellow20= Yellow20.drop(columns=['Store_and_fwd_flag', 'VendorID','RateCodeID','congestion_surcharge','Improvement_surcharge', 'MTA_tax', 'Tolls_amount', 'Extra'])\n",
        "Yellow20.head()"
      ],
      "id": "CktYi_8w_aEQ",
      "execution_count": null,
      "outputs": [
        {
          "output_type": "execute_result",
          "data": {
            "text/html": [
              "<div>\n",
              "<style scoped>\n",
              "    .dataframe tbody tr th:only-of-type {\n",
              "        vertical-align: middle;\n",
              "    }\n",
              "\n",
              "    .dataframe tbody tr th {\n",
              "        vertical-align: top;\n",
              "    }\n",
              "\n",
              "    .dataframe thead th {\n",
              "        text-align: right;\n",
              "    }\n",
              "</style>\n",
              "<table border=\"1\" class=\"dataframe\">\n",
              "  <thead>\n",
              "    <tr style=\"text-align: right;\">\n",
              "      <th></th>\n",
              "      <th>tpep_pickup_datetime</th>\n",
              "      <th>tpep_dropoff_datetime</th>\n",
              "      <th>Passenger_count</th>\n",
              "      <th>Trip_distance</th>\n",
              "      <th>PULocationID</th>\n",
              "      <th>DOLocationID</th>\n",
              "      <th>Payment_type</th>\n",
              "      <th>Fare_amount</th>\n",
              "      <th>Tip_amount</th>\n",
              "      <th>Total_amount</th>\n",
              "    </tr>\n",
              "  </thead>\n",
              "  <tbody>\n",
              "    <tr>\n",
              "      <th>0</th>\n",
              "      <td>12/18/2019 03:27:49 PM</td>\n",
              "      <td>12/18/2019 03:28:59 PM</td>\n",
              "      <td>1.0</td>\n",
              "      <td>0.0</td>\n",
              "      <td>193</td>\n",
              "      <td>193</td>\n",
              "      <td>1.0</td>\n",
              "      <td>0.01</td>\n",
              "      <td>0.00</td>\n",
              "      <td>2.81</td>\n",
              "    </tr>\n",
              "    <tr>\n",
              "      <th>1</th>\n",
              "      <td>01/01/2020 12:29:01 AM</td>\n",
              "      <td>01/01/2020 12:40:28 AM</td>\n",
              "      <td>2.0</td>\n",
              "      <td>0.7</td>\n",
              "      <td>246</td>\n",
              "      <td>48</td>\n",
              "      <td>1.0</td>\n",
              "      <td>8.00</td>\n",
              "      <td>2.35</td>\n",
              "      <td>14.15</td>\n",
              "    </tr>\n",
              "    <tr>\n",
              "      <th>2</th>\n",
              "      <td>01/01/2020 12:56:38 AM</td>\n",
              "      <td>01/01/2020 01:13:34 AM</td>\n",
              "      <td>1.0</td>\n",
              "      <td>1.7</td>\n",
              "      <td>246</td>\n",
              "      <td>142</td>\n",
              "      <td>2.0</td>\n",
              "      <td>11.50</td>\n",
              "      <td>0.00</td>\n",
              "      <td>15.30</td>\n",
              "    </tr>\n",
              "    <tr>\n",
              "      <th>3</th>\n",
              "      <td>01/01/2020 12:25:39 AM</td>\n",
              "      <td>01/01/2020 12:27:05 AM</td>\n",
              "      <td>1.0</td>\n",
              "      <td>0.0</td>\n",
              "      <td>170</td>\n",
              "      <td>162</td>\n",
              "      <td>4.0</td>\n",
              "      <td>3.00</td>\n",
              "      <td>0.00</td>\n",
              "      <td>6.80</td>\n",
              "    </tr>\n",
              "    <tr>\n",
              "      <th>4</th>\n",
              "      <td>01/01/2020 12:49:00 AM</td>\n",
              "      <td>01/01/2020 01:17:42 AM</td>\n",
              "      <td>1.0</td>\n",
              "      <td>2.9</td>\n",
              "      <td>161</td>\n",
              "      <td>262</td>\n",
              "      <td>1.0</td>\n",
              "      <td>19.00</td>\n",
              "      <td>4.55</td>\n",
              "      <td>27.35</td>\n",
              "    </tr>\n",
              "  </tbody>\n",
              "</table>\n",
              "</div>"
            ],
            "text/plain": [
              "     tpep_pickup_datetime   tpep_dropoff_datetime  Passenger_count  \\\n",
              "0  12/18/2019 03:27:49 PM  12/18/2019 03:28:59 PM              1.0   \n",
              "1  01/01/2020 12:29:01 AM  01/01/2020 12:40:28 AM              2.0   \n",
              "2  01/01/2020 12:56:38 AM  01/01/2020 01:13:34 AM              1.0   \n",
              "3  01/01/2020 12:25:39 AM  01/01/2020 12:27:05 AM              1.0   \n",
              "4  01/01/2020 12:49:00 AM  01/01/2020 01:17:42 AM              1.0   \n",
              "\n",
              "   Trip_distance  PULocationID  DOLocationID  Payment_type  Fare_amount  \\\n",
              "0            0.0           193           193           1.0         0.01   \n",
              "1            0.7           246            48           1.0         8.00   \n",
              "2            1.7           246           142           2.0        11.50   \n",
              "3            0.0           170           162           4.0         3.00   \n",
              "4            2.9           161           262           1.0        19.00   \n",
              "\n",
              "   Tip_amount  Total_amount  \n",
              "0        0.00          2.81  \n",
              "1        2.35         14.15  \n",
              "2        0.00         15.30  \n",
              "3        0.00          6.80  \n",
              "4        4.55         27.35  "
            ]
          },
          "metadata": {
            "tags": []
          },
          "execution_count": 191
        }
      ]
    },
    {
      "cell_type": "markdown",
      "metadata": {
        "id": "eYKNNgue_aER"
      },
      "source": [
        "We begin with the preprocesing of the temporal information to make it more tractable."
      ],
      "id": "eYKNNgue_aER"
    },
    {
      "cell_type": "code",
      "metadata": {
        "id": "VKX9MfSl_aER"
      },
      "source": [
        "#Transformation of the dates in datetime and extracting the information about the year, month and day\n",
        "Yellow20['pickup_date']= pd.to_datetime(Yellow20['tpep_pickup_datetime'].astype(str).str[0:10], errors='coerce')\n",
        "Yellow20['dropoff_date']= pd.to_datetime(Yellow20['tpep_dropoff_datetime'].astype(str).str[0:10], errors='coerce')\n",
        "Yellow20['Month'] = Yellow20['pickup_date'].dt.month\n",
        "Yellow20['Year'] = Yellow20['pickup_date'].dt.year\n",
        "Yellow20['Day'] = Yellow20['pickup_date'].dt.day\n",
        "Yellow20['Day_of_week'] = Yellow20['pickup_date'].dt.strftime('%A')"
      ],
      "id": "VKX9MfSl_aER",
      "execution_count": null,
      "outputs": []
    },
    {
      "cell_type": "code",
      "metadata": {
        "id": "yKbNNocG_aER"
      },
      "source": [
        "#Changing AM/PM time format to 24h format and extracting the information about the hour\n",
        "Yellow20['pickup_Time']= pd.to_datetime(Yellow20['tpep_pickup_datetime'].astype(str).str[11:], format='%I:%M:%S %p',errors='coerce')\n",
        "Yellow20['dropoff_Time']= pd.to_datetime(Yellow20['tpep_dropoff_datetime'].astype(str).str[11:], format='%I:%M:%S %p',errors='coerce')\n",
        "Yellow20['pickup_Time'] = pd.to_datetime(Yellow20['pickup_Time'].dt.strftime('%H:%M:%S'), errors='coerce')\n",
        "Yellow20['dropoff_Time'] = pd.to_datetime(Yellow20['dropoff_Time'].dt.strftime('%H:%M:%S'), errors='coerce')\n",
        "Yellow20['pickup_hour'] = Yellow20['pickup_Time'].dt.hour\n",
        "Yellow20['dropoff_hour']= Yellow20['dropoff_Time'].dt.hour\n",
        "Yellow20= Yellow20.drop(columns=['tpep_pickup_datetime','tpep_dropoff_datetime','pickup_Time','dropoff_Time'])"
      ],
      "id": "yKbNNocG_aER",
      "execution_count": null,
      "outputs": []
    },
    {
      "cell_type": "code",
      "metadata": {
        "id": "EIzO-l6__aES",
        "outputId": "e0386767-11cf-42de-f804-d7e4594f3b33"
      },
      "source": [
        "#add the column for the type of taxi\n",
        "Yellow20[\"type\"] = \"yellow\"\n",
        "Yellow20.head()"
      ],
      "id": "EIzO-l6__aES",
      "execution_count": null,
      "outputs": [
        {
          "output_type": "execute_result",
          "data": {
            "text/html": [
              "<div>\n",
              "<style scoped>\n",
              "    .dataframe tbody tr th:only-of-type {\n",
              "        vertical-align: middle;\n",
              "    }\n",
              "\n",
              "    .dataframe tbody tr th {\n",
              "        vertical-align: top;\n",
              "    }\n",
              "\n",
              "    .dataframe thead th {\n",
              "        text-align: right;\n",
              "    }\n",
              "</style>\n",
              "<table border=\"1\" class=\"dataframe\">\n",
              "  <thead>\n",
              "    <tr style=\"text-align: right;\">\n",
              "      <th></th>\n",
              "      <th>Passenger_count</th>\n",
              "      <th>Trip_distance</th>\n",
              "      <th>PULocationID</th>\n",
              "      <th>DOLocationID</th>\n",
              "      <th>Payment_type</th>\n",
              "      <th>Fare_amount</th>\n",
              "      <th>Tip_amount</th>\n",
              "      <th>Total_amount</th>\n",
              "      <th>pickup_date</th>\n",
              "      <th>dropoff_date</th>\n",
              "      <th>Month</th>\n",
              "      <th>Year</th>\n",
              "      <th>Day</th>\n",
              "      <th>Day_of_week</th>\n",
              "      <th>pickup_hour</th>\n",
              "      <th>dropoff_hour</th>\n",
              "      <th>type</th>\n",
              "    </tr>\n",
              "  </thead>\n",
              "  <tbody>\n",
              "    <tr>\n",
              "      <th>0</th>\n",
              "      <td>1.0</td>\n",
              "      <td>0.0</td>\n",
              "      <td>193</td>\n",
              "      <td>193</td>\n",
              "      <td>1.0</td>\n",
              "      <td>0.01</td>\n",
              "      <td>0.00</td>\n",
              "      <td>2.81</td>\n",
              "      <td>2019-12-18</td>\n",
              "      <td>2019-12-18</td>\n",
              "      <td>12</td>\n",
              "      <td>2019</td>\n",
              "      <td>18</td>\n",
              "      <td>Wednesday</td>\n",
              "      <td>15</td>\n",
              "      <td>15</td>\n",
              "      <td>yellow</td>\n",
              "    </tr>\n",
              "    <tr>\n",
              "      <th>1</th>\n",
              "      <td>2.0</td>\n",
              "      <td>0.7</td>\n",
              "      <td>246</td>\n",
              "      <td>48</td>\n",
              "      <td>1.0</td>\n",
              "      <td>8.00</td>\n",
              "      <td>2.35</td>\n",
              "      <td>14.15</td>\n",
              "      <td>2020-01-01</td>\n",
              "      <td>2020-01-01</td>\n",
              "      <td>1</td>\n",
              "      <td>2020</td>\n",
              "      <td>1</td>\n",
              "      <td>Wednesday</td>\n",
              "      <td>0</td>\n",
              "      <td>0</td>\n",
              "      <td>yellow</td>\n",
              "    </tr>\n",
              "    <tr>\n",
              "      <th>2</th>\n",
              "      <td>1.0</td>\n",
              "      <td>1.7</td>\n",
              "      <td>246</td>\n",
              "      <td>142</td>\n",
              "      <td>2.0</td>\n",
              "      <td>11.50</td>\n",
              "      <td>0.00</td>\n",
              "      <td>15.30</td>\n",
              "      <td>2020-01-01</td>\n",
              "      <td>2020-01-01</td>\n",
              "      <td>1</td>\n",
              "      <td>2020</td>\n",
              "      <td>1</td>\n",
              "      <td>Wednesday</td>\n",
              "      <td>0</td>\n",
              "      <td>1</td>\n",
              "      <td>yellow</td>\n",
              "    </tr>\n",
              "    <tr>\n",
              "      <th>3</th>\n",
              "      <td>1.0</td>\n",
              "      <td>0.0</td>\n",
              "      <td>170</td>\n",
              "      <td>162</td>\n",
              "      <td>4.0</td>\n",
              "      <td>3.00</td>\n",
              "      <td>0.00</td>\n",
              "      <td>6.80</td>\n",
              "      <td>2020-01-01</td>\n",
              "      <td>2020-01-01</td>\n",
              "      <td>1</td>\n",
              "      <td>2020</td>\n",
              "      <td>1</td>\n",
              "      <td>Wednesday</td>\n",
              "      <td>0</td>\n",
              "      <td>0</td>\n",
              "      <td>yellow</td>\n",
              "    </tr>\n",
              "    <tr>\n",
              "      <th>4</th>\n",
              "      <td>1.0</td>\n",
              "      <td>2.9</td>\n",
              "      <td>161</td>\n",
              "      <td>262</td>\n",
              "      <td>1.0</td>\n",
              "      <td>19.00</td>\n",
              "      <td>4.55</td>\n",
              "      <td>27.35</td>\n",
              "      <td>2020-01-01</td>\n",
              "      <td>2020-01-01</td>\n",
              "      <td>1</td>\n",
              "      <td>2020</td>\n",
              "      <td>1</td>\n",
              "      <td>Wednesday</td>\n",
              "      <td>0</td>\n",
              "      <td>1</td>\n",
              "      <td>yellow</td>\n",
              "    </tr>\n",
              "  </tbody>\n",
              "</table>\n",
              "</div>"
            ],
            "text/plain": [
              "   Passenger_count  Trip_distance  PULocationID  DOLocationID  Payment_type  \\\n",
              "0              1.0            0.0           193           193           1.0   \n",
              "1              2.0            0.7           246            48           1.0   \n",
              "2              1.0            1.7           246           142           2.0   \n",
              "3              1.0            0.0           170           162           4.0   \n",
              "4              1.0            2.9           161           262           1.0   \n",
              "\n",
              "   Fare_amount  Tip_amount  Total_amount pickup_date dropoff_date  Month  \\\n",
              "0         0.01        0.00          2.81  2019-12-18   2019-12-18     12   \n",
              "1         8.00        2.35         14.15  2020-01-01   2020-01-01      1   \n",
              "2        11.50        0.00         15.30  2020-01-01   2020-01-01      1   \n",
              "3         3.00        0.00          6.80  2020-01-01   2020-01-01      1   \n",
              "4        19.00        4.55         27.35  2020-01-01   2020-01-01      1   \n",
              "\n",
              "   Year  Day Day_of_week  pickup_hour  dropoff_hour    type  \n",
              "0  2019   18   Wednesday           15            15  yellow  \n",
              "1  2020    1   Wednesday            0             0  yellow  \n",
              "2  2020    1   Wednesday            0             1  yellow  \n",
              "3  2020    1   Wednesday            0             0  yellow  \n",
              "4  2020    1   Wednesday            0             1  yellow  "
            ]
          },
          "metadata": {
            "tags": []
          },
          "execution_count": 79
        }
      ]
    },
    {
      "cell_type": "code",
      "metadata": {
        "id": "zn0flpWA_aET",
        "outputId": "0d76f3e9-e3a2-4e0a-f775-f878ee25f562"
      },
      "source": [
        "#Check the number of Nan in the Pick up LocationID\n",
        "print(\"Number of Nan in the Pick up LocationID\",Yellow20['PULocationID'].isna().sum())"
      ],
      "id": "zn0flpWA_aET",
      "execution_count": null,
      "outputs": [
        {
          "output_type": "stream",
          "text": [
            "Number of Nan in the Pick up LocationID 0\n"
          ],
          "name": "stdout"
        }
      ]
    },
    {
      "cell_type": "markdown",
      "metadata": {
        "id": "P55GtnPm_aEW"
      },
      "source": [
        "In order to proceed with the cleaning, we plot the distributions of the prices:"
      ],
      "id": "P55GtnPm_aEW"
    },
    {
      "cell_type": "code",
      "metadata": {
        "id": "nxy_w01J_aEX",
        "outputId": "b7246d39-5580-441a-a28a-a4794eeb3a17"
      },
      "source": [
        "#histogram of the prices before preprocessing\n",
        "fig=plt.figure(figsize=(20,30))\n",
        "c=1\n",
        "for x in ['Total_amount', 'Fare_amount']:\n",
        "    ax= plt.subplot(7,2,c)\n",
        "    ax.set_yscale('log')\n",
        "    plt.xlim(-1000, 2500)\n",
        "    _ =plt.hist(Yellow20[x], bins=4000, color='y')\n",
        "    _ =plt.title(x)\n",
        "    plt.xlabel('Money')\n",
        "    plt.ylabel('Count')\n",
        "    c+=1\n",
        "    \n",
        "ax= plt.subplot(7,2,c)\n",
        "ax.set_yscale('log')\n",
        "_ =plt.hist(Yellow20['Tip_amount'], bins=100, color='y')\n",
        "_ =plt.title('Tip_amount')\n",
        "plt.xlabel('Money')\n",
        "plt.ylabel('Count')\n",
        "\n",
        "plt.suptitle(\"Figure 7: Pricing distribution of Total_amount, Fare_amount and Tip_amount\",x=0.5, y=0.7,ha='center', fontsize=20)\n",
        "plt.tight_layout()\n",
        "plt.show()"
      ],
      "id": "nxy_w01J_aEX",
      "execution_count": null,
      "outputs": [
        {
          "output_type": "display_data",
          "data": {
            "image/png": "[encoded data removed]",
            "text/plain": [
              "<Figure size 1440x2160 with 3 Axes>"
            ]
          },
          "metadata": {
            "tags": [],
            "needs_background": "light"
          }
        }
      ]
    },
    {
      "cell_type": "markdown",
      "metadata": {
        "id": "IHoSMExK_aEX"
      },
      "source": [
        "As we can see in figure 7, in all the distributions of 'Tip_amount','Fare amount' and 'Total_amount' there are  again some negative values, that we will delete from the dataset. We also realize that there are some high prices both for 'Fare amount' and 'Total_amount', that we will need to analyze later after the preprocessing of the distance."
      ],
      "id": "IHoSMExK_aEX"
    },
    {
      "cell_type": "code",
      "metadata": {
        "id": "WULzW1xu_aEY"
      },
      "source": [
        "#Converting the distances in Km and deleting the rows with negative values of the prices\n",
        "Yellow20['Trip_distance']= Yellow20['Trip_distance']*1.60934 #distance in km!!!\n",
        "Yellow20 = Yellow20[Yellow20['Total_amount']>0]\n",
        "Yellow20 = Yellow20[Yellow20['Fare_amount']>0]\n",
        "Yellow20 = Yellow20[Yellow20['Passenger_count']>0]\n",
        "Yellow20 = Yellow20[Yellow20['Tip_amount']>0]"
      ],
      "id": "WULzW1xu_aEY",
      "execution_count": null,
      "outputs": []
    },
    {
      "cell_type": "markdown",
      "metadata": {
        "id": "ji6PiLY8_aEY"
      },
      "source": [
        "Now, let's take a look to the 'Trip_distance' distribution:"
      ],
      "id": "ji6PiLY8_aEY"
    },
    {
      "cell_type": "code",
      "metadata": {
        "id": "xLAcay8a_aEY",
        "outputId": "770eb0ee-9b18-46ec-9319-8364710c012f"
      },
      "source": [
        "#Plot the distribution of the distance\n",
        "fig=plt.figure(figsize=(8,5))\n",
        "plt.yscale('log')\n",
        "plt.xscale('log')\n",
        "_=plt.hist(Yellow20['Trip_distance'], bins=400, color='y')\n",
        "_=plt.title('trip_distance')\n",
        "plt.xlabel('Distance')\n",
        "plt.ylabel('Count')\n",
        "\n",
        "plt.suptitle(\"Figure 8: Distance distribution of yellow taxi 2020\",x=0.5, y=0,ha='center', fontsize=14)\n",
        "plt.tight_layout()\n",
        "plt.show()"
      ],
      "id": "xLAcay8a_aEY",
      "execution_count": null,
      "outputs": [
        {
          "output_type": "display_data",
          "data": {
            "image/png": "[encoded data removed]",
            "text/plain": [
              "<Figure size 576x360 with 1 Axes>"
            ]
          },
          "metadata": {
            "tags": [],
            "needs_background": "light"
          }
        }
      ]
    },
    {
      "cell_type": "markdown",
      "metadata": {
        "id": "kIcgFjYj_aEZ"
      },
      "source": [
        "Figure 8 shows the distance distribution in logarithmic scale after deleting the negative values of the prices. The almost linear decrease in the shape of the distribution tell us that the distances are distribute as an exponential distribution, where almost all of the values are between the range [0,100] and we also find some outliers for really high distances that taxis don't use to do. The next step is then removing these few outliers from our dataset."
      ],
      "id": "kIcgFjYj_aEZ"
    },
    {
      "cell_type": "code",
      "metadata": {
        "id": "zyua-aJ5_aEZ"
      },
      "source": [
        "Yellow20 = Yellow20[(Yellow20['Trip_distance']<100) & (Yellow20['Trip_distance']>0)]"
      ],
      "id": "zyua-aJ5_aEZ",
      "execution_count": null,
      "outputs": []
    },
    {
      "cell_type": "markdown",
      "metadata": {
        "id": "WlLbs6h4_aE0"
      },
      "source": [
        "Let's see how is the distribution of the prices now:"
      ],
      "id": "WlLbs6h4_aE0"
    },
    {
      "cell_type": "code",
      "metadata": {
        "id": "NJKfXHQF_aE1",
        "outputId": "4a3cbafa-70e7-47fc-e6bd-d92a89444a4a"
      },
      "source": [
        "#histogram of the prices after preprocessing\n",
        "fig=plt.figure(figsize=(20,30))\n",
        "c=1\n",
        "for x in ['Total_amount', 'Fare_amount', 'Tip_amount']:\n",
        "    ax= plt.subplot(7,2,c)\n",
        "    ax.set_yscale('log')\n",
        "    #plt.xlim(-1000, 2500)\n",
        "    _ =plt.hist(Yellow20[x], bins=100, color='y')\n",
        "    _ =plt.title(x)\n",
        "    plt.xlabel('Money')\n",
        "    plt.ylabel('Count')\n",
        "    c+=1\n",
        "\n",
        "plt.suptitle(\"Figure 9: Pricing distribution of Total_amount, Fare_amount and Tip_amount after preprocessing\",x=0.5, y=0.7,ha='center', fontsize=20)\n",
        "plt.tight_layout()\n",
        "plt.show()"
      ],
      "id": "NJKfXHQF_aE1",
      "execution_count": null,
      "outputs": [
        {
          "output_type": "display_data",
          "data": {
            "image/png": "[encoded data removed]",
            "text/plain": [
              "<Figure size 1440x2160 with 3 Axes>"
            ]
          },
          "metadata": {
            "tags": [],
            "needs_background": "light"
          }
        }
      ]
    },
    {
      "cell_type": "code",
      "metadata": {
        "id": "fI0dIJth_aE1",
        "outputId": "047c71e7-4aad-44a8-b14c-b77929bfe544"
      },
      "source": [
        "print('Number of records with total amount higher than 500:',len(Yellow20[Yellow20['Total_amount']>500]))"
      ],
      "id": "fI0dIJth_aE1",
      "execution_count": null,
      "outputs": [
        {
          "output_type": "stream",
          "text": [
            "Number of records with total amount higher than 500: 4\n"
          ],
          "name": "stdout"
        }
      ]
    },
    {
      "cell_type": "markdown",
      "metadata": {
        "id": "hk1lfdPr_aE2"
      },
      "source": [
        "As we observe in figure 9, the distribution of the prices doesn't have so many high values as before and looks much more realistic. It has only 4 values where the 'Total_amount' is higher than 400. Therefore, the data is prepare for further analysis."
      ],
      "id": "hk1lfdPr_aE2"
    },
    {
      "cell_type": "code",
      "metadata": {
        "id": "CBeJYzxk_aE2"
      },
      "source": [
        "Yellow20.to_pickle(\"Yellow20.pkl\",protocol=4)"
      ],
      "id": "CBeJYzxk_aE2",
      "execution_count": null,
      "outputs": []
    },
    {
      "cell_type": "markdown",
      "metadata": {
        "id": "yK0OqLlU_aE2"
      },
      "source": [
        "# Part 3: Data Analysis"
      ],
      "id": "yK0OqLlU_aE2"
    },
    {
      "cell_type": "markdown",
      "metadata": {
        "id": "D7LPXVoH_aE2"
      },
      "source": [
        "In this second part, we are going to focus in analyze and describe the dataset we have already preprocessed."
      ],
      "id": "D7LPXVoH_aE2"
    },
    {
      "cell_type": "code",
      "metadata": {
        "id": "n1mF5Elu_aE3"
      },
      "source": [
        "#Read the preprocessing data\n",
        "data = pd.read_pickle(\"Complete_data.pkl\")"
      ],
      "id": "n1mF5Elu_aE3",
      "execution_count": null,
      "outputs": []
    },
    {
      "cell_type": "code",
      "metadata": {
        "id": "tcKCBzfh_aE3",
        "outputId": "82baa66d-50c2-47be-a0a9-422831c2dc84"
      },
      "source": [
        "data.head()"
      ],
      "id": "tcKCBzfh_aE3",
      "execution_count": null,
      "outputs": [
        {
          "output_type": "execute_result",
          "data": {
            "text/html": [
              "<div>\n",
              "<style scoped>\n",
              "    .dataframe tbody tr th:only-of-type {\n",
              "        vertical-align: middle;\n",
              "    }\n",
              "\n",
              "    .dataframe tbody tr th {\n",
              "        vertical-align: top;\n",
              "    }\n",
              "\n",
              "    .dataframe thead th {\n",
              "        text-align: right;\n",
              "    }\n",
              "</style>\n",
              "<table border=\"1\" class=\"dataframe\">\n",
              "  <thead>\n",
              "    <tr style=\"text-align: right;\">\n",
              "      <th></th>\n",
              "      <th>PULocationID</th>\n",
              "      <th>DOLocationID</th>\n",
              "      <th>Passenger_count</th>\n",
              "      <th>Trip_distance</th>\n",
              "      <th>Fare_amount</th>\n",
              "      <th>Tip_amount</th>\n",
              "      <th>Total_amount</th>\n",
              "      <th>Payment_type</th>\n",
              "      <th>pickup_date</th>\n",
              "      <th>dropoff_date</th>\n",
              "      <th>Month</th>\n",
              "      <th>Year</th>\n",
              "      <th>pickup_hour</th>\n",
              "      <th>dropoff_hour</th>\n",
              "      <th>type</th>\n",
              "      <th>Day</th>\n",
              "      <th>Day_of_week</th>\n",
              "    </tr>\n",
              "  </thead>\n",
              "  <tbody>\n",
              "    <tr>\n",
              "      <th>0</th>\n",
              "      <td>66</td>\n",
              "      <td>36</td>\n",
              "      <td>1.0</td>\n",
              "      <td>7.177656</td>\n",
              "      <td>17.5</td>\n",
              "      <td>3.76</td>\n",
              "      <td>22.56</td>\n",
              "      <td>1.0</td>\n",
              "      <td>2019-02-01</td>\n",
              "      <td>2019-02-01</td>\n",
              "      <td>2</td>\n",
              "      <td>2019</td>\n",
              "      <td>0</td>\n",
              "      <td>0</td>\n",
              "      <td>green</td>\n",
              "      <td>1</td>\n",
              "      <td>Friday</td>\n",
              "    </tr>\n",
              "    <tr>\n",
              "      <th>1</th>\n",
              "      <td>255</td>\n",
              "      <td>112</td>\n",
              "      <td>1.0</td>\n",
              "      <td>2.027768</td>\n",
              "      <td>6.0</td>\n",
              "      <td>1.46</td>\n",
              "      <td>8.76</td>\n",
              "      <td>1.0</td>\n",
              "      <td>2019-02-01</td>\n",
              "      <td>2019-02-01</td>\n",
              "      <td>2</td>\n",
              "      <td>2019</td>\n",
              "      <td>0</td>\n",
              "      <td>0</td>\n",
              "      <td>green</td>\n",
              "      <td>1</td>\n",
              "      <td>Friday</td>\n",
              "    </tr>\n",
              "    <tr>\n",
              "      <th>2</th>\n",
              "      <td>82</td>\n",
              "      <td>83</td>\n",
              "      <td>1.0</td>\n",
              "      <td>1.625433</td>\n",
              "      <td>5.5</td>\n",
              "      <td>2.04</td>\n",
              "      <td>8.84</td>\n",
              "      <td>1.0</td>\n",
              "      <td>2019-02-01</td>\n",
              "      <td>2019-02-01</td>\n",
              "      <td>2</td>\n",
              "      <td>2019</td>\n",
              "      <td>0</td>\n",
              "      <td>1</td>\n",
              "      <td>green</td>\n",
              "      <td>1</td>\n",
              "      <td>Friday</td>\n",
              "    </tr>\n",
              "    <tr>\n",
              "      <th>3</th>\n",
              "      <td>255</td>\n",
              "      <td>112</td>\n",
              "      <td>1.0</td>\n",
              "      <td>1.834648</td>\n",
              "      <td>5.5</td>\n",
              "      <td>1.70</td>\n",
              "      <td>8.50</td>\n",
              "      <td>1.0</td>\n",
              "      <td>2019-02-01</td>\n",
              "      <td>2019-02-01</td>\n",
              "      <td>2</td>\n",
              "      <td>2019</td>\n",
              "      <td>0</td>\n",
              "      <td>0</td>\n",
              "      <td>green</td>\n",
              "      <td>1</td>\n",
              "      <td>Friday</td>\n",
              "    </tr>\n",
              "    <tr>\n",
              "      <th>4</th>\n",
              "      <td>7</td>\n",
              "      <td>7</td>\n",
              "      <td>1.0</td>\n",
              "      <td>1.689807</td>\n",
              "      <td>5.5</td>\n",
              "      <td>2.00</td>\n",
              "      <td>8.80</td>\n",
              "      <td>1.0</td>\n",
              "      <td>2019-02-01</td>\n",
              "      <td>2019-02-01</td>\n",
              "      <td>2</td>\n",
              "      <td>2019</td>\n",
              "      <td>0</td>\n",
              "      <td>0</td>\n",
              "      <td>green</td>\n",
              "      <td>1</td>\n",
              "      <td>Friday</td>\n",
              "    </tr>\n",
              "  </tbody>\n",
              "</table>\n",
              "</div>"
            ],
            "text/plain": [
              "   PULocationID  DOLocationID  Passenger_count  Trip_distance  Fare_amount  \\\n",
              "0            66            36              1.0       7.177656         17.5   \n",
              "1           255           112              1.0       2.027768          6.0   \n",
              "2            82            83              1.0       1.625433          5.5   \n",
              "3           255           112              1.0       1.834648          5.5   \n",
              "4             7             7              1.0       1.689807          5.5   \n",
              "\n",
              "   Tip_amount  Total_amount  Payment_type pickup_date dropoff_date  Month  \\\n",
              "0        3.76         22.56           1.0  2019-02-01   2019-02-01      2   \n",
              "1        1.46          8.76           1.0  2019-02-01   2019-02-01      2   \n",
              "2        2.04          8.84           1.0  2019-02-01   2019-02-01      2   \n",
              "3        1.70          8.50           1.0  2019-02-01   2019-02-01      2   \n",
              "4        2.00          8.80           1.0  2019-02-01   2019-02-01      2   \n",
              "\n",
              "   Year  pickup_hour  dropoff_hour   type  Day Day_of_week  \n",
              "0  2019            0             0  green    1      Friday  \n",
              "1  2019            0             0  green    1      Friday  \n",
              "2  2019            0             1  green    1      Friday  \n",
              "3  2019            0             0  green    1      Friday  \n",
              "4  2019            0             0  green    1      Friday  "
            ]
          },
          "metadata": {
            "tags": []
          },
          "execution_count": 65
        }
      ]
    },
    {
      "cell_type": "markdown",
      "metadata": {
        "id": "4QZQpEXg_aE3"
      },
      "source": [
        "### Correlation analysis"
      ],
      "id": "4QZQpEXg_aE3"
    },
    {
      "cell_type": "markdown",
      "metadata": {
        "id": "FcdMqShP_aE5"
      },
      "source": [
        "Before starting with the temporal analysis we want to point out some correlations between variables that should be taking into account while plotting.\n",
        "\n",
        "The column of 'Total_amount' is the sum of 'Tip_amount' and 'Fare_amount' columns plus some extras dollars that we are not taking into account in this analysis.\n",
        "\n",
        "On the other hand, the variable 'Fare amount' is proportional to 'Trip_distance', in a way that if we increase the number of kilometers, the fare amount will also increasy proportionally. Let's plot this correlation so we can represent the slope of the line, i.e, the coefficient of proporcionality."
      ],
      "id": "FcdMqShP_aE5"
    },
    {
      "cell_type": "code",
      "metadata": {
        "scrolled": true,
        "id": "Fsf-J2B2_aE6",
        "outputId": "29882604-4c99-48c9-fe0b-856db40923de"
      },
      "source": [
        "#plot the correlation between Trip_distance and Fare_amount\n",
        "_=plt.scatter(data['Trip_distance'], data['Fare_amount'])\n",
        "x=np.mean(data['Trip_distance'])\n",
        "y=np.mean(data['Fare_amount'])\n",
        "N=len(data['Fare_amount'])\n",
        "a=(np.dot(data['Trip_distance'],data['Fare_amount'])-N*x*y)/(np.dot(data['Trip_distance'],data['Trip_distance'])-N*x**2)\n",
        "b=-a*x+y\n",
        "x1=np.linspace(0,max(data['Trip_distance']))\n",
        "_=plt.plot(x1,a*x1+b,'r--')\n",
        "plt.xlabel('Trip_distance', fontsize=10)\n",
        "plt.ylabel('Fare_amount', fontsize=10)\n",
        "plt.title('Correlation line', fontsize=14)\n",
        "plt.suptitle(\"Figure 10: Correlation between Trip_distance and Fare_amount \",x=0.5, y=0,ha='center', fontsize=14)\n",
        "plt.tight_layout()\n",
        "plt.show()"
      ],
      "id": "Fsf-J2B2_aE6",
      "execution_count": null,
      "outputs": [
        {
          "output_type": "display_data",
          "data": {
            "image/png": "[encoded data removed]",
            "text/plain": [
              "<Figure size 432x288 with 1 Axes>"
            ]
          },
          "metadata": {
            "tags": [],
            "needs_background": "light"
          }
        }
      ]
    },
    {
      "cell_type": "code",
      "metadata": {
        "id": "fUM6l_h3_aE8",
        "outputId": "ab916cd8-2be3-4d64-fc3f-0874e90d92e8"
      },
      "source": [
        "print('The proportionality coefficient given by the slope of the line is:', a)"
      ],
      "id": "fUM6l_h3_aE8",
      "execution_count": null,
      "outputs": [
        {
          "output_type": "stream",
          "text": [
            "The proportionality coefficient given by the slope of the line is: 1.7256216301660396\n"
          ],
          "name": "stdout"
        }
      ]
    },
    {
      "cell_type": "markdown",
      "metadata": {
        "id": "eqKo87ls_aE9"
      },
      "source": [
        "Actually, they look quite correlated but there are also some outliers. The best way of quantify how much correlated two variables are is by computing the Pearsons correlation, where 0 means they are not correlated at all, and 1 that they follow a perfect fitting line."
      ],
      "id": "eqKo87ls_aE9"
    },
    {
      "cell_type": "code",
      "metadata": {
        "id": "IbF4KzZp_aE9",
        "outputId": "6ed94c81-8680-45ce-b74c-1995c8e23495"
      },
      "source": [
        "# calculate Pearson's correlation\n",
        "corr, _ = pearsonr(data['Trip_distance'], data['Fare_amount'])\n",
        "print('Pearsons correlation: %.3f' % corr)"
      ],
      "id": "IbF4KzZp_aE9",
      "execution_count": null,
      "outputs": [
        {
          "output_type": "stream",
          "text": [
            "Pearsons correlation: 0.937\n"
          ],
          "name": "stdout"
        }
      ]
    },
    {
      "cell_type": "markdown",
      "metadata": {
        "id": "ILySkyVb_aE9"
      },
      "source": [
        "The Pearson correlation is quite high! So, it means that then plotting one of this two variables, the other one will also follow a similar behavor.\n",
        "\n",
        "On the other hand, as we were commenting at the beginning, also the Total_amount should be correlated with the Trip_distance. Even though, we expect this correlation to be smaller."
      ],
      "id": "ILySkyVb_aE9"
    },
    {
      "cell_type": "code",
      "metadata": {
        "id": "mHkYBHqO_aE-",
        "outputId": "b4cf8fcf-6225-4e66-94d7-78e561cb24e4"
      },
      "source": [
        "#plot the correlation between Trip_distance and Fare_amount\n",
        "_=plt.scatter(data['Trip_distance'], data['Total_amount'])\n",
        "x=np.mean(data['Trip_distance'])\n",
        "y=np.mean(data['Total_amount'])\n",
        "N=len(data['Total_amount'])\n",
        "a=(np.dot(data['Trip_distance'],data['Total_amount'])-N*x*y)/(np.dot(data['Trip_distance'],data['Trip_distance'])-N*x**2)\n",
        "b=-a*x+y\n",
        "x1=np.linspace(0,max(data['Trip_distance']))\n",
        "_=plt.plot(x1,a*x1+b,'r--')\n",
        "plt.xlabel('Trip_distance', fontsize=10)\n",
        "plt.ylabel('Total_amount', fontsize=10)\n",
        "plt.title('Correlation line', fontsize=14)\n",
        "plt.suptitle(\"Figure 11: Correlation between Trip_distance and Total_amount \",x=0.5, y=0,ha='center', fontsize=14)\n",
        "plt.tight_layout()\n",
        "plt.show()"
      ],
      "id": "mHkYBHqO_aE-",
      "execution_count": null,
      "outputs": [
        {
          "output_type": "display_data",
          "data": {
            "image/png": "[encoded data removed]",
            "text/plain": [
              "<Figure size 432x288 with 1 Axes>"
            ]
          },
          "metadata": {
            "tags": [],
            "needs_background": "light"
          }
        }
      ]
    },
    {
      "cell_type": "code",
      "metadata": {
        "id": "iwFRgINK_aE-",
        "outputId": "da796e34-a450-432c-d97e-3617964127d4"
      },
      "source": [
        "# calculate Pearson's correlation\n",
        "corr2, _ = pearsonr(data['Trip_distance'], data['Total_amount'])\n",
        "print('Pearsons correlation: %.3f' % corr2)"
      ],
      "id": "iwFRgINK_aE-",
      "execution_count": null,
      "outputs": [
        {
          "output_type": "stream",
          "text": [
            "Pearsons correlation: 0.931\n"
          ],
          "name": "stdout"
        }
      ]
    },
    {
      "cell_type": "markdown",
      "metadata": {
        "id": "ETTssgtw_aE_"
      },
      "source": [
        "The correlation is still quite high even though the total_amount doesn't depend only on the Trip_distance. Again, this means that when plotting them, the behavior will be similar for the three of them."
      ],
      "id": "ETTssgtw_aE_"
    },
    {
      "cell_type": "markdown",
      "metadata": {
        "id": "Xx8G3hvF_aE_"
      },
      "source": [
        "## Part 3.a: temporal analysis"
      ],
      "id": "Xx8G3hvF_aE_"
    },
    {
      "cell_type": "markdown",
      "metadata": {
        "id": "ksD1C1iM_aE_"
      },
      "source": [
        "We will start with some temporal analysis in order to discover some interesting patterns in the evolution of the data.\n",
        "Because of Covid-19, we expect that the 2020 data provide us with some characteristic insights that would be worth investigating."
      ],
      "id": "ksD1C1iM_aE_"
    },
    {
      "cell_type": "markdown",
      "metadata": {
        "id": "4Sr0dHLL_aFA"
      },
      "source": [
        "### Monthy distributions"
      ],
      "id": "4Sr0dHLL_aFA"
    },
    {
      "cell_type": "markdown",
      "metadata": {
        "id": "x7Mi2eS5_aFA"
      },
      "source": [
        "We will start by plotting some monthy distributions to have a general understanding of the data:"
      ],
      "id": "x7Mi2eS5_aFA"
    },
    {
      "cell_type": "code",
      "metadata": {
        "id": "4rW075U-_aFA",
        "outputId": "5328e54b-9cb5-4580-d6e2-d758927bfac7"
      },
      "source": [
        "#Plot monthy distributions of the pick-ups for both types of taxis\n",
        "c=1\n",
        "fig=plt.figure(figsize=(20,30))\n",
        "for x in [2019, 2020]:\n",
        "    ax= plt.subplot(7,2,c)\n",
        "    taxi = data[(data.Year==x) & (data.type=='green')].groupby('Month').size()\n",
        "    taxi.plot(kind='bar',color = 'g')\n",
        "    plt.title(x, fontsize=15)\n",
        "    plt.xlabel('Month', fontsize=15)\n",
        "    plt.ylabel('Count', fontsize=15)\n",
        "    plt.xticks(range(0, 12,1), fontsize=15, rotation='horizontal')\n",
        "    c+=1\n",
        "for x in [2019, 2020]:\n",
        "    ax= plt.subplot(7,2,c)\n",
        "    taxi = data[(data.Year==x) & (data.type=='yellow')].groupby('Month').size()\n",
        "    taxi.plot(kind='bar',color = 'y')\n",
        "    plt.title(x, fontsize=15)\n",
        "    plt.xlabel('Month', fontsize=15)\n",
        "    plt.ylabel('Count', fontsize=15)\n",
        "    plt.xticks(range(0, 12,1), fontsize=15, rotation='horizontal')\n",
        "    c+=1\n",
        "\n",
        "plt.suptitle(\"Figure 12: Monthly distribution of Green and Yellow taxis\",x=0.5, y=0.68,ha='center', fontsize=20)\n",
        "plt.tight_layout()\n",
        "plt.show()"
      ],
      "id": "4rW075U-_aFA",
      "execution_count": null,
      "outputs": [
        {
          "output_type": "display_data",
          "data": {
            "image/png": "[encoded data removed]",
            "text/plain": [
              "<Figure size 1440x2160 with 4 Axes>"
            ]
          },
          "metadata": {
            "tags": [],
            "needs_background": "light"
          }
        }
      ]
    },
    {
      "cell_type": "markdown",
      "metadata": {
        "id": "ftkXQKKM_aFB"
      },
      "source": [
        "The shape of the distribution it is quite similar for both types of taxis. We can clearly see the effect that the Coronavirus had in the taxi demand, starting in March 2020, when the quarantine restrictions began in NYC.\n",
        "\n",
        "On the other side, it seems that the quantity of yellow taxis rides is much higher than for the green ones. Let's try to see this better by plotting them in the same histogram!"
      ],
      "id": "ftkXQKKM_aFB"
    },
    {
      "cell_type": "code",
      "metadata": {
        "id": "85CbjuGd_aFB",
        "outputId": "5cbd6086-9d1f-4049-8d8f-354cad6f5149"
      },
      "source": [
        "#Plot monthy distributions of the pick-ups for both types of taxis in the same figure\n",
        "c=0\n",
        "fig, axs = plt.subplots(1, 2, tight_layout=True, figsize=(12,4))\n",
        "fig.text(0.5,0, \"Figure 13: Monthly distribution of the registed number of pickups for both types of taxis\", ha='center', va=\"top\", size=14)\n",
        "for x in [2019, 2020]:\n",
        "    hist1= data[(data.Year==x) & (data.type=='yellow')]\n",
        "    hist3= data[(data.Year==x) & (data.type=='green')]\n",
        "    axs[c].hist(hist1[\"Month\"], bins=12, alpha=1,color='y', label=\"Yellow taxis\")\n",
        "    axs[c].hist(hist3[\"Month\"], bins=12, alpha=1, color='g', label=\"Green taxis\")\n",
        "    axs[c].set_title(x)\n",
        "    axs[c].set_xticks(range(1, 12,1))\n",
        "    axs[c].set_xlabel('Month')\n",
        "    axs[c].set_ylabel('Count')\n",
        "    axs[c].legend(loc=\"upper right\")\n",
        "    c+=1"
      ],
      "id": "85CbjuGd_aFB",
      "execution_count": null,
      "outputs": [
        {
          "output_type": "display_data",
          "data": {
            "image/png": "[encoded data removed]",
            "text/plain": [
              "<Figure size 864x288 with 2 Axes>"
            ]
          },
          "metadata": {
            "tags": [],
            "needs_background": "light"
          }
        }
      ]
    },
    {
      "cell_type": "markdown",
      "metadata": {
        "id": "VDo06AuF_aFC"
      },
      "source": [
        "In figure 13, we can see that the demand is clearly dominated by yellow cabs, both for 2019 and 2020. Green taxi rides are only a small portion of the total."
      ],
      "id": "VDo06AuF_aFC"
    },
    {
      "cell_type": "code",
      "metadata": {
        "id": "lHkzEK7r_aFC",
        "outputId": "0f6e38d6-84fa-45a8-8049-dd487dc88469"
      },
      "source": [
        "#Plot monthy distributions of the Passager_count\n",
        "c=1\n",
        "fig=plt.figure(figsize=(20,30))\n",
        "z= np.arange(1,13)\n",
        "for x in ['green', 'yellow']:\n",
        "    ax= plt.subplot(7,2,c,sharey=ax)\n",
        "    taxi1 = data[(data.Year==2019) & (data.type==x)].groupby('Month')['Passenger_count'].mean()\n",
        "    taxi2 = data[(data.Year==2020) & (data.type==x)].groupby('Month')['Passenger_count'].mean()\n",
        "    ax.bar(z-0.25, taxi1, width=0.2, color='b', align='center', label=\"2019\")\n",
        "    ax.bar(z, taxi2, width=0.2, color='r', align='center', label=\"2020\")\n",
        "    plt.title(x, fontsize=17)\n",
        "    plt.xlabel('Month', fontsize=15)\n",
        "    plt.ylabel('Average number of passangers', fontsize=15)\n",
        "    plt.xticks(range(1, 13,1), fontsize=15)\n",
        "    plt.yticks(np.arange(0,2,0.3), fontsize=15)\n",
        "    plt.legend()\n",
        "    c+=1\n",
        "\n",
        "plt.suptitle(\"Figure 14: Montly distribution of the number of passanger for 2019 and 2020 of Green and Yellow taxis\",x=0.5, y=0.82,ha='center', fontsize=20)\n",
        "plt.tight_layout()\n",
        "plt.show()"
      ],
      "id": "lHkzEK7r_aFC",
      "execution_count": null,
      "outputs": [
        {
          "output_type": "display_data",
          "data": {
            "image/png": "[encoded data removed]",
            "text/plain": [
              "<Figure size 1440x2160 with 2 Axes>"
            ]
          },
          "metadata": {
            "tags": [],
            "needs_background": "light"
          }
        }
      ]
    },
    {
      "cell_type": "markdown",
      "metadata": {
        "id": "CIJZJnzU_aFC"
      },
      "source": [
        "Other variable we wanted to analyze is the average number of passangers before and after Covid-19. In figure 14, as might be expected given the new normative about the social distance measures, there appears to be a decline in the number of passanger in the same cab, since the pandemic began, for both types of cabs."
      ],
      "id": "CIJZJnzU_aFC"
    },
    {
      "cell_type": "markdown",
      "metadata": {
        "id": "yJIs3bYD_aFD"
      },
      "source": [
        "### Hourly distributions"
      ],
      "id": "yJIs3bYD_aFD"
    },
    {
      "cell_type": "markdown",
      "metadata": {
        "id": "h2F_DxiL_aFD"
      },
      "source": [
        "But only with the monthly distributions we are missing some insight about how the people behave while taking taxis. Some other questions came to our mind: at what hours people pick up more taxis? Is it the same for green and yellow taxis? Are the distances of the trips related with the hour you pick your taxi?\n",
        "\n",
        "Let's try to answer them:"
      ],
      "id": "h2F_DxiL_aFD"
    },
    {
      "cell_type": "code",
      "metadata": {
        "id": "aKmQUys0_aFD",
        "outputId": "091b360c-768e-4c11-e003-ea74d0f36f37"
      },
      "source": [
        "#Plot hourly distributions of the pick-ups for both types of taxis\n",
        "c=1\n",
        "fig=plt.figure(figsize=(20,30))\n",
        "z= np.arange(0,24)\n",
        "for x in ['green', 'yellow']:\n",
        "    ax= plt.subplot(7,2,c)\n",
        "    taxi1 = data[(data.Year==2019) & (data.type==x)].groupby('pickup_hour').size()\n",
        "    taxi2 = data[(data.Year==2020) & (data.type==x)].groupby('pickup_hour').size()\n",
        "    ax.bar(z-0.25, taxi1, width=0.2, color='b', align='center', label=\"2019\")\n",
        "    ax.bar(z, taxi2, width=0.2, color='r', align='center', label=\"2020\")\n",
        "    plt.title(x, fontsize=15)\n",
        "    plt.xlabel('Hour', fontsize=15)\n",
        "    plt.ylabel('Count', fontsize=15)\n",
        "    plt.xticks(range(0, 24,1), fontsize=15)\n",
        "    plt.yticks(fontsize=15)\n",
        "    plt.legend()\n",
        "    c+=1\n",
        "\n",
        "plt.suptitle(\"Figure 15: Hourly distribution of the pick ups for Green and Yellow taxis\",x=0.5, y=0.82,ha='center', fontsize=20)\n",
        "plt.tight_layout()\n",
        "plt.show()"
      ],
      "id": "aKmQUys0_aFD",
      "execution_count": null,
      "outputs": [
        {
          "output_type": "display_data",
          "data": {
            "image/png": "[encoded data removed]",
            "text/plain": [
              "<Figure size 1440x2160 with 2 Axes>"
            ]
          },
          "metadata": {
            "tags": [],
            "needs_background": "light"
          }
        }
      ]
    },
    {
      "cell_type": "markdown",
      "metadata": {
        "id": "6cP97U46_aFE"
      },
      "source": [
        "As it is represented in figure 15, the shape of the distribution for both types of taxis is quite similar. Moreover, the shape also seems to be the same for 2019 and 2020. Obviously, the number of pick ups has decrease in 2020, but people still picked up more taxis during the period of 17-18h and less during the night. Also, due to the curfew, the number of pick up has been dramatically reduce during the night in 2020."
      ],
      "id": "6cP97U46_aFE"
    },
    {
      "cell_type": "markdown",
      "metadata": {
        "id": "VJc1HvoO_aFE"
      },
      "source": [
        "But, at that hours do we have the longer distances? Is it related with the number of pick ups?"
      ],
      "id": "VJc1HvoO_aFE"
    },
    {
      "cell_type": "code",
      "metadata": {
        "id": "U21rjUhU_aFE",
        "outputId": "5aa0f0a6-4eca-4aff-e8de-8b5006a2cd08"
      },
      "source": [
        "#Plot hourly distributions of the trip distance for both types of taxis\n",
        "c=1\n",
        "fig=plt.figure(figsize=(20,30))\n",
        "z= np.arange(0,24)\n",
        "for x in [2019, 2020]:\n",
        "    ax= plt.subplot(7,2,c)\n",
        "    taxi1 = data[(data.Year==x) & (data.type=='green')].groupby('pickup_hour')['Trip_distance'].mean()\n",
        "    taxi2 = data[(data.Year==x) & (data.type=='yellow')].groupby('pickup_hour')['Trip_distance'].mean()\n",
        "    ax.bar(z-0.2, taxi1, width=0.2, color='g', align='center', label=\"green\")\n",
        "    ax.bar(z, taxi2, width=0.2, color='y', align='center', label=\"yellow\")\n",
        "    plt.title(x, fontsize=15)\n",
        "    plt.xlabel('Hour', fontsize=15)\n",
        "    plt.ylabel('Average', fontsize=15)\n",
        "    plt.xticks(range(0, 24,1), fontsize=15)\n",
        "    plt.yticks(fontsize=15)\n",
        "    plt.legend()\n",
        "    c+=1\n",
        "    \n",
        "plt.suptitle(\"Figure 16: Hourly distribution of the trip distance for both Green and Yellow taxis\",x=0.5, y=0.83,ha='center', fontsize=20)\n",
        "plt.tight_layout()\n",
        "plt.show()"
      ],
      "id": "U21rjUhU_aFE",
      "execution_count": null,
      "outputs": [
        {
          "output_type": "display_data",
          "data": {
            "image/png": "[encoded data removed]",
            "text/plain": [
              "<Figure size 1440x2160 with 2 Axes>"
            ]
          },
          "metadata": {
            "tags": [],
            "needs_background": "light"
          }
        }
      ]
    },
    {
      "cell_type": "markdown",
      "metadata": {
        "id": "aElxM0-E_aFF"
      },
      "source": [
        "Given figure 16, we are able to compare the average of the distances for both types of taxis at the same time. The most surprising fact for us was that the distances increased for Green taxis during the first months of the pandemic and were even higher than for yellow taxis. One explanation we could imagine is that people tended to take more cabs to make long and unimpressive journeys, such as going to work, that usually they would do by public transport, but in 2020 they were felling more comfortable taking a cab."
      ],
      "id": "aElxM0-E_aFF"
    },
    {
      "cell_type": "markdown",
      "metadata": {
        "id": "rIYjhApj_aFF"
      },
      "source": [
        "As we have pointed out before, the distance is very correlated with the total and the fare amount, but what about the tip amount? Is there some hours when people feel more inclined to tip?"
      ],
      "id": "rIYjhApj_aFF"
    },
    {
      "cell_type": "code",
      "metadata": {
        "id": "QaTAk9xU_aFG",
        "outputId": "2e3e8e3e-e4e5-4865-eb56-f671e481eeda"
      },
      "source": [
        "#Plot hourly distributions of the tip amount for both types of taxis\n",
        "c=1\n",
        "fig=plt.figure(figsize=(20,30))\n",
        "z= np.arange(0,24)\n",
        "for x in [2019, 2020]:\n",
        "    ax= plt.subplot(7,2,c)\n",
        "    taxi1 = data[(data.Year==x) & (data.type=='green')].groupby('pickup_hour')['Tip_amount'].mean()\n",
        "    taxi2 = data[(data.Year==x) & (data.type=='yellow')].groupby('pickup_hour')['Tip_amount'].mean()\n",
        "    ax.bar(z-0.2, taxi1, width=0.2, color='g', align='center', label=\"green\")\n",
        "    ax.bar(z, taxi2, width=0.2, color='y', align='center', label=\"yellow\")\n",
        "    plt.title(x, fontsize=15)\n",
        "    plt.xlabel('Hour', fontsize=15)\n",
        "    plt.ylabel('Average', fontsize=15)\n",
        "    plt.xticks(range(0, 24,1), fontsize=15)\n",
        "    plt.yticks(fontsize=15)\n",
        "    plt.legend()\n",
        "    c+=1\n",
        "    \n",
        "plt.suptitle(\"Figure 17: Hourly distribution of the Tip_amount for both Green and Yellow taxis\",x=0.5, y=0.83,ha='center', fontsize=20)\n",
        "plt.tight_layout()\n",
        "plt.show()"
      ],
      "id": "QaTAk9xU_aFG",
      "execution_count": null,
      "outputs": [
        {
          "output_type": "display_data",
          "data": {
            "image/png": "[encoded data removed]",
            "text/plain": [
              "<Figure size 1440x2160 with 2 Axes>"
            ]
          },
          "metadata": {
            "tags": [],
            "needs_background": "light"
          }
        }
      ]
    },
    {
      "cell_type": "markdown",
      "metadata": {
        "id": "lhWwyJ8C_aFG"
      },
      "source": [
        "First insight: people have the same inclination to tip before and after Corona.\n",
        "\n",
        "The hours when people gives more tips are around 4-5h, also coinciding with the hours when the journeys are the longest. We can also highlight that tips tend to be a bit higher for yellow taxis intead that for green ones."
      ],
      "id": "lhWwyJ8C_aFG"
    },
    {
      "cell_type": "markdown",
      "metadata": {
        "id": "HDe_NBk2_aFG"
      },
      "source": [
        "### Weekly distributions"
      ],
      "id": "HDe_NBk2_aFG"
    },
    {
      "cell_type": "markdown",
      "metadata": {
        "id": "f3IiyvMM_aFH"
      },
      "source": [
        "The next type of distributions we are goint to explore are the weekly ones."
      ],
      "id": "f3IiyvMM_aFH"
    },
    {
      "cell_type": "code",
      "metadata": {
        "id": "c6RIrmdA_aFH",
        "outputId": "132c88bf-fe6c-4c98-b8c6-0359a00f73af"
      },
      "source": [
        "#Plot weekly distributions of the pick ups for both types of taxis\n",
        "c=1\n",
        "fig=plt.figure(figsize=(20,30))\n",
        "br1 = np.arange(7)\n",
        "sorter = ['Monday', 'Tuesday', 'Wednesday', 'Thursday', 'Friday', 'Saturday', 'Sunday']\n",
        "sorterIndex = dict(zip(sorter,range(len(sorter))))\n",
        "data['Day_id'] = data.Day_of_week\n",
        "data['Day_id'] = data['Day_id'].map(sorterIndex)\n",
        "for x in ['green', 'yellow']:\n",
        "    ax= plt.subplot(7,2,c)\n",
        "    taxi1 = data[(data.Year==2019) & (data.type==x)].groupby('Day_id').size()\n",
        "    taxi2 = data[(data.Year==2020) & (data.type==x)].groupby('Day_id').size()\n",
        "    ax.bar(br1, taxi1, width=0.2, color='b', align='center', label=\"2019\")\n",
        "    ax.bar(br1-0.25, taxi2, width=0.2, color='r', align='center', label=\"2020\")\n",
        "    plt.title(x, fontsize=15)\n",
        "    plt.xticks(ticks=np.arange(7),labels=sorter, fontsize=13)\n",
        "    plt.xlabel('Hour', fontsize=15)\n",
        "    plt.ylabel('Count', fontsize=15)\n",
        "    plt.yticks(fontsize=13)\n",
        "    plt.legend()\n",
        "    c+=1\n",
        "\n",
        "plt.suptitle(\"Figure 18: Weekly distribution of the taxi pick ups for both Green and Yellow taxis\",x=0.5, y=0.83,ha='center', fontsize=20)\n",
        "plt.tight_layout()\n",
        "plt.show()"
      ],
      "id": "c6RIrmdA_aFH",
      "execution_count": null,
      "outputs": [
        {
          "output_type": "display_data",
          "data": {
            "image/png": "[encoded data removed]",
            "text/plain": [
              "<Figure size 1440x2160 with 2 Axes>"
            ]
          },
          "metadata": {
            "tags": [],
            "needs_background": "light"
          }
        }
      ]
    },
    {
      "cell_type": "markdown",
      "metadata": {
        "id": "rKi58R1U_aFI"
      },
      "source": [
        "Observing figure 18, we realize that people don't tend to take cabs on Sundays. However Thrusdays, Fridays and Saturdays are the days with more taxis rides. This can be due the fact that social events are normally during these days of the week. Also, like in the hourly distribution of the pick ups, the shape of the  distribution it is not affected by the pandemic."
      ],
      "id": "rKi58R1U_aFI"
    },
    {
      "cell_type": "code",
      "metadata": {
        "id": "zGVjTypQ_aFI",
        "outputId": "ff05fcfe-e082-4e18-9b26-9e257a626ad9"
      },
      "source": [
        "#Plot weekly distributions of the pick ups for both types of taxis\n",
        "c=1\n",
        "fig=plt.figure(figsize=(20,30))\n",
        "br1 = np.arange(7)\n",
        "for x in [2019, 2020]:\n",
        "    ax= plt.subplot(7,2,c)\n",
        "    taxi1 = data[(data.Year==x) & (data.type=='green')].groupby('Day_id')['Trip_distance'].mean()\n",
        "    taxi2 = data[(data.Year==x) & (data.type=='yellow')].groupby('Day_id')['Trip_distance'].mean()\n",
        "    ax.bar(br1, taxi1, width=0.2, color='g', align='center', label=\"green\")\n",
        "    ax.bar(br1-0.2, taxi2, width=0.2, color='y', align='center', label=\"yellow\")\n",
        "    plt.title(x, fontsize=15)\n",
        "    plt.xticks(ticks=np.arange(7),labels=sorter, fontsize=13)\n",
        "    plt.xlabel('Hour', fontsize=15)\n",
        "    plt.ylabel('Average', fontsize=15)\n",
        "    plt.yticks(fontsize=13)\n",
        "    plt.xticks(ticks=np.arange(7),labels=sorter)\n",
        "    plt.legend()\n",
        "    c+=1\n",
        "\n",
        "plt.suptitle(\"Figure 19: Weekly distribution of the Trip_distance for both Green and Yellow taxis\",x=0.5, y=0.83,ha='center', fontsize=20)\n",
        "plt.tight_layout()\n",
        "plt.show()"
      ],
      "id": "zGVjTypQ_aFI",
      "execution_count": null,
      "outputs": [
        {
          "output_type": "display_data",
          "data": {
            "image/png": "[encoded data removed]",
            "text/plain": [
              "<Figure size 1440x2160 with 2 Axes>"
            ]
          },
          "metadata": {
            "tags": [],
            "needs_background": "light"
          }
        }
      ]
    },
    {
      "cell_type": "markdown",
      "metadata": {
        "id": "7rC1Rmbq_aFI"
      },
      "source": [
        "As we have already observed in another plot, figure 19 shows thath the distances seems to be higher for the green taxis in 2020 and this pattern is almost constant for all the days of the week."
      ],
      "id": "7rC1Rmbq_aFI"
    },
    {
      "cell_type": "markdown",
      "metadata": {
        "id": "sYUawS7k_aFJ"
      },
      "source": [
        "### Daily distributions"
      ],
      "id": "sYUawS7k_aFJ"
    },
    {
      "cell_type": "markdown",
      "metadata": {
        "id": "wCe7WSSe_aFJ"
      },
      "source": [
        "Finally, we will plot the daily distribution of the pick ups for both types trips to visualize the general idea we get from our datasets."
      ],
      "id": "wCe7WSSe_aFJ"
    },
    {
      "cell_type": "code",
      "metadata": {
        "id": "nHUN7X_S_aFJ",
        "outputId": "68e9c9ca-c4b5-4305-a04b-937b76bbef46"
      },
      "source": [
        "#Plot daily distributions of the pick ups for both types of taxis\n",
        "c=1\n",
        "fig=plt.figure(figsize=(20,30))\n",
        "z= np.arange(0,365)\n",
        "for x in ['green', 'yellow']:\n",
        "    ax= plt.subplot(7,2,c)\n",
        "    taxi1 = data[(data.Year==2019) & (data.type==x)].groupby('pickup_date').size()\n",
        "    taxi2 = data[(data.Year==2020) & (data.type==x)].groupby('pickup_date').size()\n",
        "    ax.bar(np.arange(len(taxi1)), taxi1, width=0.2, color='b', align='center', label=\"2019\")\n",
        "    ax.bar(np.arange(len(taxi2))-0.25, taxi2, width=0.2, color='r', align='center', label=\"2020\")\n",
        "    plt.title(x, fontsize=15)\n",
        "    plt.xlabel('Day', fontsize=15)\n",
        "    plt.ylabel('Count', fontsize=15)\n",
        "    plt.xticks(fontsize=15)\n",
        "    plt.legend()\n",
        "    c+=1\n",
        "    \n",
        "plt.suptitle(\"Figure 20: Daily distribution of the pick ups for both Green and Yellow taxis\",x=0.5, y=0.83,ha='center', fontsize=20)\n",
        "plt.tight_layout()\n",
        "plt.show()"
      ],
      "id": "nHUN7X_S_aFJ",
      "execution_count": null,
      "outputs": [
        {
          "output_type": "display_data",
          "data": {
            "image/png": "[encoded data removed]",
            "text/plain": [
              "<Figure size 1440x2160 with 2 Axes>"
            ]
          },
          "metadata": {
            "tags": [],
            "needs_background": "light"
          }
        }
      ]
    },
    {
      "cell_type": "markdown",
      "metadata": {
        "id": "rYtfqqFo_aFK"
      },
      "source": [
        "The shapes of these distributions allows us to see clearly the dramatic jump in the number of taxi rides in the moment the restrictions were imposed in NYC.\n",
        "\n",
        "As a coclusion of this part, we want to remark that even though the number of taxis rides has decreased dramatically when the corona restrictions started in NYC, the shape of the pick ups distributions didn't almost change for both years, i.e. people have taken fewer cabs during 2020 but the timing and day of the week when people take  the cabs are similar to the ones in 2019."
      ],
      "id": "rYtfqqFo_aFK"
    },
    {
      "cell_type": "markdown",
      "metadata": {
        "id": "lVvst8wi_aFK"
      },
      "source": [
        "## Part 3.b: spatial analysis"
      ],
      "id": "lVvst8wi_aFK"
    },
    {
      "cell_type": "markdown",
      "metadata": {
        "id": "o7NmKjeh_aFK"
      },
      "source": [
        "As further analysis, we decided to study the spatial properties of our datasets. In order to do it, a map has been exploited. In particular, different features of the dataset have been taken into account and the taxi zones on the map have been coloured based on the results.\n",
        "\n",
        "First of all, the preprocessed dataset is uploaded"
      ],
      "id": "o7NmKjeh_aFK"
    },
    {
      "cell_type": "code",
      "metadata": {
        "id": "TUTvHK3W_aFL"
      },
      "source": [
        "complete_data = pd.read_pickle(\"data/Complete_data.pkl\")"
      ],
      "id": "TUTvHK3W_aFL",
      "execution_count": null,
      "outputs": []
    },
    {
      "cell_type": "code",
      "metadata": {
        "id": "9smeNO64_aFL",
        "outputId": "74fb685d-e3ea-46f4-c536-047c5978cf89"
      },
      "source": [
        "complete_data.head()"
      ],
      "id": "9smeNO64_aFL",
      "execution_count": null,
      "outputs": [
        {
          "output_type": "execute_result",
          "data": {
            "text/html": [
              "<div>\n",
              "<style scoped>\n",
              "    .dataframe tbody tr th:only-of-type {\n",
              "        vertical-align: middle;\n",
              "    }\n",
              "\n",
              "    .dataframe tbody tr th {\n",
              "        vertical-align: top;\n",
              "    }\n",
              "\n",
              "    .dataframe thead th {\n",
              "        text-align: right;\n",
              "    }\n",
              "</style>\n",
              "<table border=\"1\" class=\"dataframe\">\n",
              "  <thead>\n",
              "    <tr style=\"text-align: right;\">\n",
              "      <th></th>\n",
              "      <th>PULocationID</th>\n",
              "      <th>DOLocationID</th>\n",
              "      <th>Passenger_count</th>\n",
              "      <th>Trip_distance</th>\n",
              "      <th>Fare_amount</th>\n",
              "      <th>Tip_amount</th>\n",
              "      <th>Total_amount</th>\n",
              "      <th>Payment_type</th>\n",
              "      <th>pickup_date</th>\n",
              "      <th>dropoff_date</th>\n",
              "      <th>Month</th>\n",
              "      <th>Year</th>\n",
              "      <th>pickup_hour</th>\n",
              "      <th>dropoff_hour</th>\n",
              "      <th>type</th>\n",
              "      <th>Day</th>\n",
              "    </tr>\n",
              "  </thead>\n",
              "  <tbody>\n",
              "    <tr>\n",
              "      <th>0</th>\n",
              "      <td>66</td>\n",
              "      <td>36</td>\n",
              "      <td>1.0</td>\n",
              "      <td>7.177656</td>\n",
              "      <td>17.5</td>\n",
              "      <td>3.76</td>\n",
              "      <td>22.56</td>\n",
              "      <td>1.0</td>\n",
              "      <td>2019-02-01</td>\n",
              "      <td>2019-02-01</td>\n",
              "      <td>2</td>\n",
              "      <td>2019</td>\n",
              "      <td>0</td>\n",
              "      <td>0</td>\n",
              "      <td>green</td>\n",
              "      <td>1</td>\n",
              "    </tr>\n",
              "    <tr>\n",
              "      <th>1</th>\n",
              "      <td>255</td>\n",
              "      <td>112</td>\n",
              "      <td>1.0</td>\n",
              "      <td>2.027768</td>\n",
              "      <td>6.0</td>\n",
              "      <td>1.46</td>\n",
              "      <td>8.76</td>\n",
              "      <td>1.0</td>\n",
              "      <td>2019-02-01</td>\n",
              "      <td>2019-02-01</td>\n",
              "      <td>2</td>\n",
              "      <td>2019</td>\n",
              "      <td>0</td>\n",
              "      <td>0</td>\n",
              "      <td>green</td>\n",
              "      <td>1</td>\n",
              "    </tr>\n",
              "    <tr>\n",
              "      <th>2</th>\n",
              "      <td>82</td>\n",
              "      <td>83</td>\n",
              "      <td>1.0</td>\n",
              "      <td>1.625433</td>\n",
              "      <td>5.5</td>\n",
              "      <td>2.04</td>\n",
              "      <td>8.84</td>\n",
              "      <td>1.0</td>\n",
              "      <td>2019-02-01</td>\n",
              "      <td>2019-02-01</td>\n",
              "      <td>2</td>\n",
              "      <td>2019</td>\n",
              "      <td>0</td>\n",
              "      <td>1</td>\n",
              "      <td>green</td>\n",
              "      <td>1</td>\n",
              "    </tr>\n",
              "    <tr>\n",
              "      <th>3</th>\n",
              "      <td>255</td>\n",
              "      <td>112</td>\n",
              "      <td>1.0</td>\n",
              "      <td>1.834648</td>\n",
              "      <td>5.5</td>\n",
              "      <td>1.70</td>\n",
              "      <td>8.50</td>\n",
              "      <td>1.0</td>\n",
              "      <td>2019-02-01</td>\n",
              "      <td>2019-02-01</td>\n",
              "      <td>2</td>\n",
              "      <td>2019</td>\n",
              "      <td>0</td>\n",
              "      <td>0</td>\n",
              "      <td>green</td>\n",
              "      <td>1</td>\n",
              "    </tr>\n",
              "    <tr>\n",
              "      <th>4</th>\n",
              "      <td>7</td>\n",
              "      <td>7</td>\n",
              "      <td>1.0</td>\n",
              "      <td>1.689807</td>\n",
              "      <td>5.5</td>\n",
              "      <td>2.00</td>\n",
              "      <td>8.80</td>\n",
              "      <td>1.0</td>\n",
              "      <td>2019-02-01</td>\n",
              "      <td>2019-02-01</td>\n",
              "      <td>2</td>\n",
              "      <td>2019</td>\n",
              "      <td>0</td>\n",
              "      <td>0</td>\n",
              "      <td>green</td>\n",
              "      <td>1</td>\n",
              "    </tr>\n",
              "  </tbody>\n",
              "</table>\n",
              "</div>"
            ],
            "text/plain": [
              "   PULocationID  DOLocationID  Passenger_count  Trip_distance  Fare_amount  \\\n",
              "0            66            36              1.0       7.177656         17.5   \n",
              "1           255           112              1.0       2.027768          6.0   \n",
              "2            82            83              1.0       1.625433          5.5   \n",
              "3           255           112              1.0       1.834648          5.5   \n",
              "4             7             7              1.0       1.689807          5.5   \n",
              "\n",
              "   Tip_amount  Total_amount  Payment_type pickup_date dropoff_date  Month  \\\n",
              "0        3.76         22.56           1.0  2019-02-01   2019-02-01      2   \n",
              "1        1.46          8.76           1.0  2019-02-01   2019-02-01      2   \n",
              "2        2.04          8.84           1.0  2019-02-01   2019-02-01      2   \n",
              "3        1.70          8.50           1.0  2019-02-01   2019-02-01      2   \n",
              "4        2.00          8.80           1.0  2019-02-01   2019-02-01      2   \n",
              "\n",
              "   Year  pickup_hour  dropoff_hour   type  Day  \n",
              "0  2019            0             0  green    1  \n",
              "1  2019            0             0  green    1  \n",
              "2  2019            0             1  green    1  \n",
              "3  2019            0             0  green    1  \n",
              "4  2019            0             0  green    1  "
            ]
          },
          "metadata": {
            "tags": []
          },
          "execution_count": 36
        }
      ]
    },
    {
      "cell_type": "markdown",
      "metadata": {
        "id": "VQnFeP7t_aFL"
      },
      "source": [
        "As it can be seen, there are many features (each column) we could be interested in. The first decision was about the choice of what to study. We decided that the best and most interesting features to study were the number of drop-offs and pick-ups per taxi zone, as well as the average of the trip distance, the average of the different prices and the average number of passengers. Moreover, for each feature, the analysis can be performed in four different conditions: taking into account only taxi of type green, taking into account only taxi of type yellow, taking into account both taxi of type green and yellow (comparing them in the map with different colours) and don't taking into account the type at all (i.e. without separate per type).\n",
        "\n",
        "The code is already thought for a website version, so the whole analysis is done in a function. The function is commented and all the results will be shown below in the notebook."
      ],
      "id": "VQnFeP7t_aFL"
    },
    {
      "cell_type": "code",
      "metadata": {
        "id": "zPCzQoqc_aFM"
      },
      "source": [
        "#these are the different options that the user can select.\n",
        "#in the website, all these options are in a GUI and the function is called through specific callbacks.\n",
        "\n",
        "#all the different options available for the features. They are both for which feature to take into account...\n",
        "rows = [\"dropoff_date\", \"pickup_date\", \"both_pick_and_drop\", \"Trip_distance\", \"Fare_amount\", \"Tip_amount\", \"Total_amount\", \"Passenger_count\"]\n",
        "\n",
        "#...and for which to group by\n",
        "groups = [\"DOLocationID\", \"PULocationID\", \"both_pick_and_drop\", \"Trip_distance\", \"Fare_amount\", \"Tip_amount\", \"Total_amount\", \"Passenger_count\"]\n",
        "\n",
        "types = [\"yellow\", \"green\", \"both\", \"none\"] #all the different options available for the types"
      ],
      "id": "zPCzQoqc_aFM",
      "execution_count": null,
      "outputs": []
    },
    {
      "cell_type": "code",
      "metadata": {
        "id": "k6YC-8sK_aFm"
      },
      "source": [
        "#given only one type of the taxi, both of them or none of the types of the taxi,\n",
        "#the feature to study and the date, it returns the dataframe to build the final map\n",
        "#N.B. that this method mainly uses \"get_res\" for the case in which only one type of taxi is chosen or none of them\n",
        "#the difference is when we want to visualise the two colors together, that we have to select which value to show\n",
        "def get_final_res(color, feature, day, rows = rows, groups = groups, types = types):\n",
        "    \n",
        "    # instead of taking only the day selected, the results are averaged over seven day starting from the day selected.\n",
        "    # this is done to make the results more stable and to average out other factors that we are not considering\n",
        "    day_obj = datetime.strptime(day, '%Y-%m-%d')\n",
        "    day_obj_delta = day_obj + timedelta(7)\n",
        "    \n",
        "    day_start = str(day_obj.date())\n",
        "    day_end = str(day_obj_delta.date())\n",
        "    \n",
        "    if color == 2: # if we want to show both the types, we have to retrieve the data for both of them separately\n",
        "        res0 = get_res(0,feature, day_start, day_end, rows, groups, types)\n",
        "        res0[\"type\"]=types[0]\n",
        "        res1 = get_res(1,feature, day_start, day_end, rows, groups, types)\n",
        "        res1[\"type\"]=types[1]\n",
        "        \n",
        "        #then merge them together...\n",
        "        res = pd.merge(res0, res1, how=\"outer\", on=\"location_id\")\n",
        "        res = res.fillna(0)\n",
        "        \n",
        "        #...taking only the maximum between the two values for each zone.\n",
        "        #In other words, for each zone we have one value for the yellow type and one for the green type...\n",
        "        #...and we want to take only the maximum between the two...\n",
        "        res[\"amount\"] = [max(x,y) for x,y in zip(res[\"amount_x\"],res[\"amount_y\"]) ]\n",
        "        \n",
        "        #...saving from which type the value came from\n",
        "        color = []\n",
        "        for row in range(len(res)):\n",
        "            if res.iloc[row][\"amount_x\"] == res.iloc[row][\"amount\"]:\n",
        "                color.append(res.iloc[row][\"type_x\"])\n",
        "            else: color.append(res.iloc[row][\"type_y\"])\n",
        "        res[\"type\"] = color\n",
        "        res = res.drop(columns=['amount_x','amount_y',\"type_x\", \"type_y\"])\n",
        "        res = res[(res != 0).all(1)]\n",
        "        return res\n",
        "    \n",
        "    else: # in the other cases, the plain \"get_res\" is just used\n",
        "        return get_res(color, feature, day_start, day_end, rows, groups, types)"
      ],
      "id": "k6YC-8sK_aFm",
      "execution_count": null,
      "outputs": []
    },
    {
      "cell_type": "code",
      "metadata": {
        "id": "bl2VSfet_aFm"
      },
      "source": [
        "#given the type of the taxi, the feature to study and the date, it returns the dataframe to build the final map\n",
        "def get_res(color, feature, day_start, day_end, rows = rows, groups = groups, types = types):\n",
        "    \n",
        "    if color == 3: # if we are not taking into account the type of the taxi, we don't want to filter for \"type\"\n",
        "        \n",
        "        if feature > 2:  # if the feature that we are taken into account is...\n",
        "                         # ...one among \"trip_distance\", \"passengers_count\" or one of the prices\n",
        "            # only the trips in the day selected are taken\n",
        "            res = complete_data[(complete_data[rows[0]] >= day_start) & (complete_data[rows[0]] < day_end)]\n",
        "            \n",
        "            # then they are grouped by the drop-off taxi zone and averaged \n",
        "            res = res.groupby(groups[0]).mean()\n",
        "            \n",
        "            # finally, only the feature requested is taken\n",
        "            res = res[groups[feature]]\n",
        "            \n",
        "            # it is then converted to a dataframe in the shape needed by the chlorophet function\n",
        "            res=res.to_frame()\n",
        "            res[\"location_id\"]=res.index\n",
        "            res = res.rename(columns={groups[feature]: 'amount'})\n",
        "            res = res[(res != 0).all(1)]\n",
        "            return res\n",
        "        \n",
        "        elif feature == 2: # if the feature that we are taken into account is...\n",
        "                           # ...the count of the drop-offs and the pick-ups together\n",
        "            # filter the data leaving only the selected day till seven days after and take both the drop-offs and the pick-ups\n",
        "            res0 = complete_data[(complete_data[rows[0]] >= day_start) & (complete_data[rows[0]] < day_end)].groupby(groups[0]).size()//7\n",
        "            res1 = complete_data[(complete_data[rows[1]] >= day_start) & (complete_data[rows[1]] < day_end)].groupby(groups[1]).size()//7\n",
        "            \n",
        "            # merge them together...\n",
        "            res0 = res0.to_frame()\n",
        "            res1 = res1.to_frame()\n",
        "            res0[\"location_id\"]=res0.index\n",
        "            res1[\"location_id\"]=res1.index\n",
        "            res = pd.merge(res0, res1, how=\"outer\", on=\"location_id\")\n",
        "            res = res.fillna(0)\n",
        "            # ... summing the amount of drop-offs and pick-ups\n",
        "            res[\"amount\"] = res[\"0_x\"]+res[\"0_y\"]\n",
        "            res = res[(res != 0).all(1)]\n",
        "            return res\n",
        "        \n",
        "        else: # finally, if the feature is only one between pick-up or drop-off\n",
        "            \n",
        "            # filter by date nd group by zone\n",
        "            res = complete_data[(complete_data[rows[feature]] >= day_start) & (complete_data[rows[feature]] < day_end)].groupby(groups[feature]).size()//7\n",
        "            \n",
        "            # and prepare the dataframe for the chlorophet method\n",
        "            res=res.to_frame()\n",
        "            res[\"location_id\"]=res.index\n",
        "            res = res.rename(columns={0: 'amount'})\n",
        "            res = res[(res != 0).all(1)]\n",
        "            return res\n",
        "    \n",
        "    else: # if instead we want only the type \"green\" or the type \"yellow\", we have to filter also by \"type\"\n",
        "        #the steps and the cases are exaclty as above, but now the data is filtered also by \"type\" (green or yellow) \n",
        "        if feature > 2:\n",
        "            res = complete_data[(complete_data[rows[0]] >= day_start) & (complete_data[rows[0]] < day_end) & (complete_data[\"type\"] == types[color])].groupby(groups[0]).mean()[groups[feature]]\n",
        "            res=res.to_frame()\n",
        "            res[\"location_id\"]=res.index\n",
        "            res = res.rename(columns={groups[feature]: 'amount'})\n",
        "            res = res[(res != 0).all(1)]\n",
        "            return res\n",
        "        elif feature == 2:\n",
        "            res0 = complete_data[(complete_data[rows[0]] == day) & (complete_data[\"type\"] == types[color])].groupby(groups[0]).size()//7\n",
        "            res1 = complete_data[(complete_data[rows[1]] == day) & (complete_data[\"type\"] == types[color])].groupby(groups[1]).size()//7\n",
        "            res0 = res0.to_frame()\n",
        "            res1 = res1.to_frame()\n",
        "            res0[\"location_id\"]=res0.index\n",
        "            res1[\"location_id\"]=res1.index\n",
        "            res = pd.merge(res0, res1, how=\"outer\", on=\"location_id\")\n",
        "            res = res.fillna(0)\n",
        "            res[\"amount\"] = res[\"0_x\"]+res[\"0_y\"]\n",
        "            res = res[(res != 0).all(1)]\n",
        "            return res\n",
        "        else:\n",
        "            res = complete_data[(complete_data[rows[feature]] >= day_start) & (complete_data[rows[feature]] < day_end) & (complete_data[\"type\"] == types[color])].groupby(groups[feature]).size()//7\n",
        "            res=res.to_frame()\n",
        "            res[\"location_id\"]=res.index\n",
        "            res = res.rename(columns={0: 'amount'})\n",
        "            res = res[(res != 0).all(1)]\n",
        "            return res"
      ],
      "id": "bl2VSfet_aFm",
      "execution_count": null,
      "outputs": []
    },
    {
      "cell_type": "markdown",
      "metadata": {
        "id": "xIheWy_U_aFn"
      },
      "source": [
        "Finally, we are ready to use the functions built to study the spatial properties.\n",
        "\n",
        "From the temporal analysis we know that there are differences in the number of trips before covid with respect to after covid. We want to see if there are differences also in the spatial distribution.\n",
        "\n",
        "In the next sections, different combination of days, types of taxi and features will be visualised to analyse and show different properties of the dataset."
      ],
      "id": "xIheWy_U_aFn"
    },
    {
      "cell_type": "code",
      "metadata": {
        "id": "iAPSZ9aq_aFn"
      },
      "source": [
        "#retrieve the taxi zones as geojson file\n",
        "with open('data/NYC_Taxi_Zones.geojson') as json_file:\n",
        "    zones = json.load(json_file)"
      ],
      "id": "iAPSZ9aq_aFn",
      "execution_count": null,
      "outputs": []
    },
    {
      "cell_type": "code",
      "metadata": {
        "id": "tVB6bwPC_aFo"
      },
      "source": [
        "#function to generate the map figure\n",
        "def get_fig(res, color):\n",
        "    \n",
        "    #specify the colors to use\n",
        "    colours = [px.colors.sequential.YlOrBr, px.colors.sequential.algae, \"aux\", px.colors.sequential.Greys]\n",
        "    \n",
        "    #if both the colors are selected, two categories are possible and the colors are categorical\n",
        "    if color == 2:\n",
        "        fig = px.choropleth_mapbox(res, geojson=zones, locations='location_id', color='type', #specify the data\n",
        "                                  featureidkey=\"properties.location_id\",\n",
        "                                  mapbox_style=\"carto-positron\", #the type of the map\n",
        "                                  zoom=8.5, center = {\"lat\": 40.7226, \"lon\": -73.9788}, #the initial position\n",
        "                                  opacity=0.3, #the opacity and the colors for the discrete map\n",
        "                                  color_discrete_map = {\"green\": \"#228B22\", \"yellow\": \"#FFD700\"},\n",
        "                                 ) \n",
        "    #otherwise, for a single color, a continues scale of color is used\n",
        "    else :\n",
        "        fig = px.choropleth_mapbox(res, geojson=zones, locations='location_id', color='amount', #specify the data\n",
        "                                  featureidkey=\"properties.location_id\",\n",
        "                                  #range_color=(0,100),\n",
        "                                  color_continuous_scale = colours[color], #the continuous scale of color\n",
        "                                  mapbox_style=\"carto-positron\", #the type of the map\n",
        "                                  zoom=8.5, center = {\"lat\": 40.7226, \"lon\": -73.9788}, #the initial position\n",
        "                                  opacity=0.3,\n",
        "                                  )\n",
        "    fig.update_layout(height=300, width=700, margin={\"r\":0,\"t\":0,\"l\":0,\"b\":0})\n",
        "    fig.update_geos(fitbounds=\"locations\")\n",
        "    return fig"
      ],
      "id": "tVB6bwPC_aFo",
      "execution_count": null,
      "outputs": []
    },
    {
      "cell_type": "markdown",
      "metadata": {
        "id": "JcW2azDY_aFo"
      },
      "source": [
        "First of all, we start analysing the drop-off and the pick-up spatial distributions."
      ],
      "id": "JcW2azDY_aFo"
    },
    {
      "cell_type": "code",
      "metadata": {
        "id": "IAVxwPN__aFo"
      },
      "source": [
        "day1 = \"2019-05-05\" #choice of the day\n",
        "color1 = 0 # yellow taxi\n",
        "feature1 = 0 # drop off location\n",
        "\n",
        "day2 = \"2019-05-05\" #choice of the day\n",
        "color2 = 1 # green taxi\n",
        "feature2 = 0 # drop off location"
      ],
      "id": "IAVxwPN__aFo",
      "execution_count": null,
      "outputs": []
    },
    {
      "cell_type": "code",
      "metadata": {
        "scrolled": true,
        "id": "GbxRwClD_aFp"
      },
      "source": [
        "res1 = get_final_res(color1, feature1, day1)\n",
        "fig1 = get_fig(res1, color1)\n",
        "#fig1.show() #decomment this line to show the interactive map\n",
        "\n",
        "res2 = get_final_res(color2, feature2, day2)\n",
        "fig2 = get_fig(res2, color2)\n",
        "#fig2.show() #decomment this line to show the interactive map"
      ],
      "id": "GbxRwClD_aFp",
      "execution_count": null,
      "outputs": []
    },
    {
      "cell_type": "markdown",
      "metadata": {
        "id": "eTxF_wMP_aFq"
      },
      "source": [
        "<center>  Total number of drop-offs for yellow taxi in a day of May 2019 &nbsp;&nbsp;&nbsp;&nbsp;&nbsp;&nbsp;&nbsp;&nbsp;&nbsp;&nbsp;&nbsp;&nbsp;&nbsp;&nbsp;&nbsp;&nbsp;&nbsp;&nbsp;&nbsp;&nbsp;&nbsp;&nbsp;&nbsp;&nbsp;Total number of drop-offs for green taxi in a day of May 2019  </center>\n",
        "<table><tr><td><img src=\"https://github.com/GiovanniGr/aux/blob/main/final_proj/do_yellow.png?raw=true\"></td><td><img src=\"https://github.com/GiovanniGr/aux/blob/main/final_proj/do_green.png?raw=true\"></td></tr></table>\n",
        "<center>Figure: Total number of drop-offs for yellow (left) and green (right) taxi </center>"
      ],
      "id": "eTxF_wMP_aFq"
    },
    {
      "cell_type": "markdown",
      "metadata": {
        "id": "04BpBUlO_aFq"
      },
      "source": [
        "As it can be seen from the figure above, both yellow and green taxi tend to end their trips around central park and manhattan. This is reasonable because it's the most active part of the city. It's also interesting to see that there is a local maximum at JFK airport (bottom right corner). Finally, from the legend bars is clear that the number of trips for the green taxi is orders of magnitude less than the number for yellow taxi."
      ],
      "id": "04BpBUlO_aFq"
    },
    {
      "cell_type": "code",
      "metadata": {
        "id": "6CT86Vlm_aFr"
      },
      "source": [
        "day1 = \"2019-05-05\" #choice of the day\n",
        "color1 = 0 # yellow taxi\n",
        "feature1 = 1 # pick up location\n",
        "\n",
        "day2 = \"2019-05-05\" #choice of the day\n",
        "color2 = 1 # green taxi\n",
        "feature2 = 1 # pick up location"
      ],
      "id": "6CT86Vlm_aFr",
      "execution_count": null,
      "outputs": []
    },
    {
      "cell_type": "code",
      "metadata": {
        "scrolled": true,
        "id": "JKlyLzxa_aFr"
      },
      "source": [
        "res1 = get_final_res(color1, feature1, day1)\n",
        "fig1 = get_fig(res1, color1)\n",
        "#fig1.show()  #decomment this line to show the interactive map\n",
        "\n",
        "res2 = get_final_res(color2, feature2, day2)\n",
        "fig2 = get_fig(res2, color2)\n",
        "#fig2.show()  #decomment this line to show the interactive map"
      ],
      "id": "JKlyLzxa_aFr",
      "execution_count": null,
      "outputs": []
    },
    {
      "cell_type": "markdown",
      "metadata": {
        "id": "NLZJbbs7_aFr"
      },
      "source": [
        "<center>  Total number of pick-ups for yellow taxi in a day of May 2019 &nbsp;&nbsp;&nbsp;&nbsp;&nbsp;&nbsp;&nbsp;&nbsp;&nbsp;&nbsp;&nbsp;&nbsp;&nbsp;&nbsp;&nbsp;&nbsp;&nbsp;&nbsp;&nbsp;&nbsp;&nbsp;&nbsp;&nbsp;&nbsp;Total number of pick-ups for green taxi in a day of May 2019  </center>\n",
        "<table><tr><td><img src=\"https://github.com/GiovanniGr/aux/blob/main/final_proj/pu_yellow.png?raw=true\"></td><td><img src=\"https://github.com/GiovanniGr/aux/blob/main/final_proj/pu_green.png?raw=true\"></td></tr></table>\n",
        "<center>Figure: Total number of pick-ups for yellow (left) and green (right) taxi </center>"
      ],
      "id": "NLZJbbs7_aFr"
    },
    {
      "cell_type": "markdown",
      "metadata": {
        "id": "__BTfe8z_aFs"
      },
      "source": [
        "The pick-up map is even more interesting than the drop-off. In fact, a particular property is visible and it is the fact that the green taxi cannot pick people in certain zones [see https://en.wikipedia.org/wiki/Boro_taxi ]. In particular, green taxi cannot pick passengers in the bottom half of manhattan and in JFK airport, and this is clearly visible from above. Another aspect to look at is the distribution of the pick-ups with respect to the drop-offs. In fact, the figures above show that, differently from the drop-offs, the pick-ups are concentrated in manhattan and in the closeby. This means that the people tend to pick a taxi from the central zones instead of from the periphery, and then stay in the city. Finally, also in this case the green taxi are significantly less present than the yellow."
      ],
      "id": "__BTfe8z_aFs"
    },
    {
      "cell_type": "markdown",
      "metadata": {
        "id": "D1ZMxQEb_aFs"
      },
      "source": [
        "Then, we know from the temporal analysis that the number of trips decreases significantly from the second quarter of 2020. We want to see if the spatial distribution changed as well. In order to study the differences, the total (yellow and green together) spatial distribution is shown for the same day in 2019 and 2020."
      ],
      "id": "D1ZMxQEb_aFs"
    },
    {
      "cell_type": "code",
      "metadata": {
        "id": "RaUHX-PC_aFs"
      },
      "source": [
        "day1 = \"2019-05-05\" #choice of the day\n",
        "color1 = 3 # yellow and green taxi together\n",
        "feature1 = 2 # pick up and drop off locations\n",
        "\n",
        "day2 = \"2020-05-05\" #choice of the day\n",
        "color2 = 3 # yellow and green taxi together\n",
        "feature2 = 2 # pick up and drop off locations"
      ],
      "id": "RaUHX-PC_aFs",
      "execution_count": null,
      "outputs": []
    },
    {
      "cell_type": "code",
      "metadata": {
        "id": "QOT3NbM1_aFu"
      },
      "source": [
        "res1 = get_final_res(color1, feature1, day1)\n",
        "fig1 = get_fig(res1, color1)\n",
        "#fig1.show()  #decomment this line to show the interactive map\n",
        "\n",
        "res2 = get_final_res(color2, feature2, day2)\n",
        "fig2 = get_fig(res2, color2)\n",
        "#fig2.show()  #decomment this line to show the interactive map"
      ],
      "id": "QOT3NbM1_aFu",
      "execution_count": null,
      "outputs": []
    },
    {
      "cell_type": "markdown",
      "metadata": {
        "id": "azhbgaeR_aFv"
      },
      "source": [
        "<center>  Amount of drop-offs and pick-ups in a day of May 2019 &nbsp;&nbsp;&nbsp;&nbsp;&nbsp;&nbsp;&nbsp;&nbsp;&nbsp;&nbsp;&nbsp;&nbsp;&nbsp;&nbsp;&nbsp;&nbsp;&nbsp;&nbsp;&nbsp;&nbsp;&nbsp;&nbsp;&nbsp;&nbsp;Amount of drop-offs and pick-ups in a day of May 2020  </center>\n",
        "<table><tr><td><img src=\"https://github.com/GiovanniGr/aux/blob/main/final_proj/do_pu_2019.png?raw=true\"></td><td><img src=\"https://github.com/GiovanniGr/aux/blob/main/final_proj/do_pu_2020.png?raw=true\"></td></tr></table>\n",
        "<center>Figure: Total number of drop-offs and pick-ups for 2019 (left) and 2020 (right)</center>"
      ],
      "id": "azhbgaeR_aFv"
    },
    {
      "cell_type": "markdown",
      "metadata": {
        "id": "c1tQXf0d_aFv"
      },
      "source": [
        "In the maps above we can see that the distribution of the travels changed. In fact, the amount of trips in May 2020 is around the 3% of the amount of trips of the same day in 2019. It's so clear the relation between the virus and the number of trips. Moreover, also the distribution changed. In 2019 the zones in manhattan are still served whereas almost all the other zones don't have neither pick-ups nor drop-offs."
      ],
      "id": "c1tQXf0d_aFv"
    },
    {
      "cell_type": "markdown",
      "metadata": {
        "id": "KYqMPvKq_aFw"
      },
      "source": [
        "In the next examples we examine whether the other characteristics as the average_distance of the trips or the total_amount paid have some spatial differences before and after corona virus or not.\n",
        "First of all, we start by looking at the total average_distance of the trips, comparing a day in 2019 and the same in 2020."
      ],
      "id": "KYqMPvKq_aFw"
    },
    {
      "cell_type": "code",
      "metadata": {
        "id": "HgSCP1HS_aFw"
      },
      "source": [
        "day1 = \"2019-05-05\" #choice of the day\n",
        "color1 = 3 # yellow and green taxi together\n",
        "feature1 = 3 # average distance\n",
        "\n",
        "day2 = \"2020-05-05\" #choice of the day\n",
        "color2 = 3 # yellow and green taxi together\n",
        "feature2 = 3 # average distance"
      ],
      "id": "HgSCP1HS_aFw",
      "execution_count": null,
      "outputs": []
    },
    {
      "cell_type": "code",
      "metadata": {
        "id": "TmnSzi81_aFx"
      },
      "source": [
        "res1 = get_final_res(color1, feature1, day1)\n",
        "fig1 = get_fig(res1, color1)\n",
        "#fig1.show()  #decomment this line to show the interactive map\n",
        "\n",
        "res2 = get_final_res(color2, feature2, day2)\n",
        "fig2 = get_fig(res2, color2)\n",
        "#fig2.show()  #decomment this line to show the interactive map"
      ],
      "id": "TmnSzi81_aFx",
      "execution_count": null,
      "outputs": []
    },
    {
      "cell_type": "markdown",
      "metadata": {
        "id": "T8lvNMgm_aFx"
      },
      "source": [
        "<center>  Average distance of the trips in a day of May 2019 &nbsp;&nbsp;&nbsp;&nbsp;&nbsp;&nbsp;&nbsp;&nbsp;&nbsp;&nbsp;&nbsp;&nbsp;&nbsp;&nbsp;&nbsp;&nbsp;&nbsp;&nbsp;&nbsp;&nbsp;&nbsp;&nbsp;&nbsp;&nbsp;Average distance of the trips in a day of May 2020  </center>\n",
        "<table><tr><td><img src=\"https://github.com/GiovanniGr/aux/blob/main/final_proj/av_dist_2019.png?raw=true\"></td><td><img src=\"https://github.com/GiovanniGr/aux/blob/main/final_proj/av_dist_2020.png?raw=true\"></td></tr></table>\n",
        "<center>Figure: Average distance for the trips in a day of 2019 (left) and 2020 (right)</center>"
      ],
      "id": "T8lvNMgm_aFx"
    },
    {
      "cell_type": "markdown",
      "metadata": {
        "id": "UZGfwlF5_aFy"
      },
      "source": [
        "From the figure above it can be seen that neither the spatial distribution nor the average_distance are affected by the corona. This means that even if the total number of trips have decreased of about 97% (as seen in the plots before), on average the distances covered are the same. This probably means that the nature of the trips are the same and the behaviours of the passengers didn't change, once taken the taxi.\n",
        "\n",
        "A further analysis that can be done on the distances is to check if the distribution of the average_distance has changed over time for the green and yellow taxi separately. In other words, we want to understand if the maximum average_distance for each zone is covered by a yellow or a green taxi, and if the distribution changed."
      ],
      "id": "UZGfwlF5_aFy"
    },
    {
      "cell_type": "code",
      "metadata": {
        "id": "kVF6Kuu1_aFy"
      },
      "source": [
        "day1 = \"2019-05-05\" #choice of the day\n",
        "color1 = 2 # yellow and green taxi separately\n",
        "feature1 = 3 # max of the average distance\n",
        "\n",
        "day2 = \"2020-05-05\" #choice of the day\n",
        "color2 = 2 # yellow and green taxi separately\n",
        "feature2 = 3 # max of the average distance"
      ],
      "id": "kVF6Kuu1_aFy",
      "execution_count": null,
      "outputs": []
    },
    {
      "cell_type": "code",
      "metadata": {
        "id": "UZyagsZs_aFy"
      },
      "source": [
        "res1 = get_final_res(color1, feature1, day1)\n",
        "fig1 = get_fig(res1, color1)\n",
        "#fig1.show()  #decomment this line to show the interactive map\n",
        "\n",
        "res2 = get_final_res(color2, feature2, day2)\n",
        "fig2 = get_fig(res2, color2)\n",
        "#fig2.show()  #decomment this line to show the interactive map"
      ],
      "id": "UZyagsZs_aFy",
      "execution_count": null,
      "outputs": []
    },
    {
      "cell_type": "markdown",
      "metadata": {
        "id": "sg2cGku__aF3"
      },
      "source": [
        "<center>  Average distance of the trips in a day of May 2019, for type of taxi &nbsp;&nbsp;&nbsp;&nbsp;&nbsp;&nbsp;&nbsp;&nbsp;&nbsp;&nbsp;&nbsp;&nbsp;&nbsp;&nbsp;&nbsp;&nbsp;&nbsp;&nbsp;&nbsp;Average distance of the trips in a day of May 2020, for type of taxi  </center>\n",
        "<table><tr><td><img src=\"https://github.com/GiovanniGr/aux/blob/main/final_proj/av_dist_gy_2019.png?raw=true\"></td><td><img src=\"https://github.com/GiovanniGr/aux/blob/main/final_proj/av_dist_gy_2020.png?raw=true\"></td></tr></table>\n",
        "<center>Figure: Average distance for the trips in a day of 2019 (left) and 2020 (right), for type of taxi</center>"
      ],
      "id": "sg2cGku__aF3"
    },
    {
      "cell_type": "markdown",
      "metadata": {
        "id": "Q6k4Si-u_aF4"
      },
      "source": [
        "It can be seen that in 2020 the green taxi did longer trips toward outer buroughs than yellow taxi, comparing 2019 and 2020. At the same time, green taxi lost some zones in the bottom half of manhattan.\n",
        "\n",
        "Next, we want to explore the same but for the average of the total price."
      ],
      "id": "Q6k4Si-u_aF4"
    },
    {
      "cell_type": "code",
      "metadata": {
        "id": "JTT03NFO_aF4"
      },
      "source": [
        "day1 = \"2019-05-01\" #choice of the day\n",
        "color1 = 2 # yellow and green taxi together\n",
        "feature1 = 6 # average of total amount paid \n",
        "\n",
        "day2 = \"2020-05-01\" #choice of the day\n",
        "color2 = 2 # yellow and green taxi together\n",
        "feature2 = 6 # average of total amount paid"
      ],
      "id": "JTT03NFO_aF4",
      "execution_count": null,
      "outputs": []
    },
    {
      "cell_type": "code",
      "metadata": {
        "id": "veM-0HIm_aF5"
      },
      "source": [
        "res1 = get_final_res(color1, feature1, day1)\n",
        "fig1 = get_fig(res1, color1)\n",
        "#fig1.show()  #decomment this line to show the interactive map\n",
        "\n",
        "res2 = get_final_res(color2, feature2, day2)\n",
        "fig2 = get_fig(res2, color2)\n",
        "#fig2.show()  #decomment this line to show the interactive map"
      ],
      "id": "veM-0HIm_aF5",
      "execution_count": null,
      "outputs": []
    },
    {
      "cell_type": "markdown",
      "metadata": {
        "id": "jpKrGUbp_aF6"
      },
      "source": [
        "<center>  Average of the amount paid of the trips in a day of May 2019 &nbsp;&nbsp;&nbsp;&nbsp;&nbsp;&nbsp;&nbsp;&nbsp;&nbsp;&nbsp;&nbsp;&nbsp;&nbsp;&nbsp;&nbsp;&nbsp;&nbsp;&nbsp;&nbsp;&nbsp;Average of the amount paid of the trips in a day of May 2020  </center>\n",
        "<table><tr><td><img src=\"https://github.com/GiovanniGr/aux/blob/main/final_proj/paid_2019.png?raw=true\"></td><td><img src=\"https://github.com/GiovanniGr/aux/blob/main/final_proj/paid_2020.png?raw=true\"></td></tr></table>\n",
        "<center>Figure: Average of the amount paid for the trips in a day of 2019 (left) and 2020 (right)</center>"
      ],
      "id": "jpKrGUbp_aF6"
    },
    {
      "cell_type": "markdown",
      "metadata": {
        "id": "fMJlKAzN_aF6"
      },
      "source": [
        "As before, we can see that also in this case the green taxi expanded their influence in the outer buroughs and lost some zones in manhattan. These last maps are really similar to the ones for the average distance because, as seen before, the total amount paid is really dependent and correlated to the distance covered."
      ],
      "id": "fMJlKAzN_aF6"
    },
    {
      "cell_type": "code",
      "metadata": {
        "id": "ZZZlMv_C_aF7"
      },
      "source": [
        "day1 = \"2019-05-05\" #choice of the day\n",
        "color1 = 2 # yellow and green taxi together\n",
        "feature1 = 7 # average of the number of passenger per trip\n",
        "\n",
        "day2 = \"2020-05-05\" #choice of the day\n",
        "color2 = 2 # yellow and green taxi together\n",
        "feature2 = 7 # average of the number of passenger per trip"
      ],
      "id": "ZZZlMv_C_aF7",
      "execution_count": null,
      "outputs": []
    },
    {
      "cell_type": "code",
      "metadata": {
        "id": "Fu5tOXkB_aF7"
      },
      "source": [
        "res1 = get_final_res(color1, feature1, day1)\n",
        "fig1 = get_fig(res1, color1)\n",
        "#fig1.show()  #decomment this line to show the interactive map\n",
        "\n",
        "res2 = get_final_res(color2, feature2, day2)\n",
        "fig2 = get_fig(res2, color2)\n",
        "#fig2.show()  #decomment this line to show the interactive map"
      ],
      "id": "Fu5tOXkB_aF7",
      "execution_count": null,
      "outputs": []
    },
    {
      "cell_type": "markdown",
      "metadata": {
        "id": "JJ_jgklu_aF7"
      },
      "source": [
        "<center>  Average of the number of passenger per trip in a day of May 2019 &nbsp;&nbsp;&nbsp;&nbsp;&nbsp;&nbsp;&nbsp;&nbsp;&nbsp;&nbsp;&nbsp;&nbsp;&nbsp;&nbsp;&nbsp;&nbsp;&nbsp;&nbsp;&nbsp;&nbsp;&nbsp;&nbsp;&nbsp;&nbsp;Average of the number of passenger per trip in a day of May 2020  </center>\n",
        "<table><tr><td><img src=\"https://github.com/GiovanniGr/aux/blob/main/final_proj/av_pass_2019.png?raw=true\"></td><td><img src=\"https://github.com/GiovanniGr/aux/blob/main/final_proj/av_pass_2020.png?raw=true\"></td></tr></table>\n",
        "<center>Figure: Average of the number of passenger per trip in a day of 2019 (left) and 2020 (right)</center>"
      ],
      "id": "JJ_jgklu_aF7"
    },
    {
      "cell_type": "markdown",
      "metadata": {
        "id": "n3dG9YvF_aF8"
      },
      "source": [
        "In this last plot we can see that there are not big changes in the two years. The green are more present in 2020 than in 2019 but not significantly. In general, on average the yellow taxi picks always more passengers at a time than green taxi.\n",
        "\n",
        "#### Final considerations\n",
        "The spatial analysis showed not only that the amount of trips have changed in 2020 after the coronavirus, but also the spatial distribution of, for example, the drop-offs and pick-ups locations. In particular, as expected, the outer regions of the city have been served proportionally less than the inner parts in 2020 with respect to 2019. In addition, the average of the distances of the trips hasn't changed within the inner buroughs. Finally, the green taxi tends to be more present in the outer buroughs in 2020 than in 2019 with respect two yellow taxi."
      ],
      "id": "n3dG9YvF_aF8"
    },
    {
      "cell_type": "markdown",
      "metadata": {
        "id": "01n9yJ8G_aF8"
      },
      "source": [
        "## Part 3.c: machine learning"
      ],
      "id": "01n9yJ8G_aF8"
    },
    {
      "cell_type": "code",
      "metadata": {
        "id": "L9N7cbn9_aF8"
      },
      "source": [
        "import numpy as np\n",
        "from sklearn.model_selection import cross_val_score\n",
        "from sklearn.tree import DecisionTreeClassifier \n",
        "from sklearn import preprocessing\n",
        "from sklearn.model_selection import train_test_split\n",
        "from sklearn.ensemble import RandomForestClassifier\n",
        "from sklearn import metrics\n",
        "from sklearn.preprocessing import OneHotEncoder\n",
        "from sklearn.preprocessing import LabelEncoder\n",
        "from sklearn.metrics import confusion_matrix\n",
        "from sklearn.metrics import classification_report\n",
        "import matplotlib.pyplot as plt\n",
        "import pickle\n",
        "import warnings\n",
        "warnings.filterwarnings(\"ignore\")"
      ],
      "id": "L9N7cbn9_aF8",
      "execution_count": null,
      "outputs": []
    },
    {
      "cell_type": "code",
      "metadata": {
        "id": "eYCwnppl_aF9",
        "outputId": "5897a695-692a-45a2-f393-b672876a048d"
      },
      "source": [
        "complete_data = pd.read_pickle(\"data/Complete_data.pkl\")\n",
        "complete_data.head()"
      ],
      "id": "eYCwnppl_aF9",
      "execution_count": null,
      "outputs": [
        {
          "output_type": "execute_result",
          "data": {
            "text/html": [
              "<div>\n",
              "<style scoped>\n",
              "    .dataframe tbody tr th:only-of-type {\n",
              "        vertical-align: middle;\n",
              "    }\n",
              "\n",
              "    .dataframe tbody tr th {\n",
              "        vertical-align: top;\n",
              "    }\n",
              "\n",
              "    .dataframe thead th {\n",
              "        text-align: right;\n",
              "    }\n",
              "</style>\n",
              "<table border=\"1\" class=\"dataframe\">\n",
              "  <thead>\n",
              "    <tr style=\"text-align: right;\">\n",
              "      <th></th>\n",
              "      <th>PULocationID</th>\n",
              "      <th>DOLocationID</th>\n",
              "      <th>Passenger_count</th>\n",
              "      <th>Trip_distance</th>\n",
              "      <th>Fare_amount</th>\n",
              "      <th>Tip_amount</th>\n",
              "      <th>Total_amount</th>\n",
              "      <th>Payment_type</th>\n",
              "      <th>pickup_date</th>\n",
              "      <th>dropoff_date</th>\n",
              "      <th>Month</th>\n",
              "      <th>Year</th>\n",
              "      <th>pickup_hour</th>\n",
              "      <th>dropoff_hour</th>\n",
              "      <th>type</th>\n",
              "      <th>Day</th>\n",
              "    </tr>\n",
              "  </thead>\n",
              "  <tbody>\n",
              "    <tr>\n",
              "      <th>0</th>\n",
              "      <td>66</td>\n",
              "      <td>36</td>\n",
              "      <td>1.0</td>\n",
              "      <td>7.177656</td>\n",
              "      <td>17.5</td>\n",
              "      <td>3.76</td>\n",
              "      <td>22.56</td>\n",
              "      <td>1.0</td>\n",
              "      <td>2019-02-01</td>\n",
              "      <td>2019-02-01</td>\n",
              "      <td>2</td>\n",
              "      <td>2019</td>\n",
              "      <td>0</td>\n",
              "      <td>0</td>\n",
              "      <td>green</td>\n",
              "      <td>1</td>\n",
              "    </tr>\n",
              "    <tr>\n",
              "      <th>1</th>\n",
              "      <td>255</td>\n",
              "      <td>112</td>\n",
              "      <td>1.0</td>\n",
              "      <td>2.027768</td>\n",
              "      <td>6.0</td>\n",
              "      <td>1.46</td>\n",
              "      <td>8.76</td>\n",
              "      <td>1.0</td>\n",
              "      <td>2019-02-01</td>\n",
              "      <td>2019-02-01</td>\n",
              "      <td>2</td>\n",
              "      <td>2019</td>\n",
              "      <td>0</td>\n",
              "      <td>0</td>\n",
              "      <td>green</td>\n",
              "      <td>1</td>\n",
              "    </tr>\n",
              "    <tr>\n",
              "      <th>2</th>\n",
              "      <td>82</td>\n",
              "      <td>83</td>\n",
              "      <td>1.0</td>\n",
              "      <td>1.625433</td>\n",
              "      <td>5.5</td>\n",
              "      <td>2.04</td>\n",
              "      <td>8.84</td>\n",
              "      <td>1.0</td>\n",
              "      <td>2019-02-01</td>\n",
              "      <td>2019-02-01</td>\n",
              "      <td>2</td>\n",
              "      <td>2019</td>\n",
              "      <td>0</td>\n",
              "      <td>1</td>\n",
              "      <td>green</td>\n",
              "      <td>1</td>\n",
              "    </tr>\n",
              "    <tr>\n",
              "      <th>3</th>\n",
              "      <td>255</td>\n",
              "      <td>112</td>\n",
              "      <td>1.0</td>\n",
              "      <td>1.834648</td>\n",
              "      <td>5.5</td>\n",
              "      <td>1.70</td>\n",
              "      <td>8.50</td>\n",
              "      <td>1.0</td>\n",
              "      <td>2019-02-01</td>\n",
              "      <td>2019-02-01</td>\n",
              "      <td>2</td>\n",
              "      <td>2019</td>\n",
              "      <td>0</td>\n",
              "      <td>0</td>\n",
              "      <td>green</td>\n",
              "      <td>1</td>\n",
              "    </tr>\n",
              "    <tr>\n",
              "      <th>4</th>\n",
              "      <td>7</td>\n",
              "      <td>7</td>\n",
              "      <td>1.0</td>\n",
              "      <td>1.689807</td>\n",
              "      <td>5.5</td>\n",
              "      <td>2.00</td>\n",
              "      <td>8.80</td>\n",
              "      <td>1.0</td>\n",
              "      <td>2019-02-01</td>\n",
              "      <td>2019-02-01</td>\n",
              "      <td>2</td>\n",
              "      <td>2019</td>\n",
              "      <td>0</td>\n",
              "      <td>0</td>\n",
              "      <td>green</td>\n",
              "      <td>1</td>\n",
              "    </tr>\n",
              "  </tbody>\n",
              "</table>\n",
              "</div>"
            ],
            "text/plain": [
              "   PULocationID  DOLocationID  Passenger_count  Trip_distance  Fare_amount  \\\n",
              "0            66            36              1.0       7.177656         17.5   \n",
              "1           255           112              1.0       2.027768          6.0   \n",
              "2            82            83              1.0       1.625433          5.5   \n",
              "3           255           112              1.0       1.834648          5.5   \n",
              "4             7             7              1.0       1.689807          5.5   \n",
              "\n",
              "   Tip_amount  Total_amount  Payment_type pickup_date dropoff_date  Month  \\\n",
              "0        3.76         22.56           1.0  2019-02-01   2019-02-01      2   \n",
              "1        1.46          8.76           1.0  2019-02-01   2019-02-01      2   \n",
              "2        2.04          8.84           1.0  2019-02-01   2019-02-01      2   \n",
              "3        1.70          8.50           1.0  2019-02-01   2019-02-01      2   \n",
              "4        2.00          8.80           1.0  2019-02-01   2019-02-01      2   \n",
              "\n",
              "   Year  pickup_hour  dropoff_hour   type  Day  \n",
              "0  2019            0             0  green    1  \n",
              "1  2019            0             0  green    1  \n",
              "2  2019            0             1  green    1  \n",
              "3  2019            0             0  green    1  \n",
              "4  2019            0             0  green    1  "
            ]
          },
          "metadata": {
            "tags": []
          },
          "execution_count": 66
        }
      ]
    },
    {
      "cell_type": "markdown",
      "metadata": {
        "id": "iTNTcj4v_aF-"
      },
      "source": [
        "At this point, the data has to be changed to fit the further steps. In particular, some features are removed because redundant or not pertinent."
      ],
      "id": "iTNTcj4v_aF-"
    },
    {
      "cell_type": "code",
      "metadata": {
        "id": "fxiSue3U_aGY",
        "outputId": "fd429f92-4ce4-4821-e1bb-5bd567dc20dc"
      },
      "source": [
        "complete_data = complete_data.drop(columns=['pickup_date',\"dropoff_date\"])\n",
        "complete_data[\"type\"] = np.where(complete_data['type'] == \"green\", 0, complete_data['type'])\n",
        "complete_data[\"type\"] = np.where(complete_data['type'] == \"yellow\", 1, complete_data['type'])\n",
        "complete_data.head()"
      ],
      "id": "fxiSue3U_aGY",
      "execution_count": null,
      "outputs": [
        {
          "output_type": "execute_result",
          "data": {
            "text/html": [
              "<div>\n",
              "<style scoped>\n",
              "    .dataframe tbody tr th:only-of-type {\n",
              "        vertical-align: middle;\n",
              "    }\n",
              "\n",
              "    .dataframe tbody tr th {\n",
              "        vertical-align: top;\n",
              "    }\n",
              "\n",
              "    .dataframe thead th {\n",
              "        text-align: right;\n",
              "    }\n",
              "</style>\n",
              "<table border=\"1\" class=\"dataframe\">\n",
              "  <thead>\n",
              "    <tr style=\"text-align: right;\">\n",
              "      <th></th>\n",
              "      <th>PULocationID</th>\n",
              "      <th>DOLocationID</th>\n",
              "      <th>Passenger_count</th>\n",
              "      <th>Trip_distance</th>\n",
              "      <th>Fare_amount</th>\n",
              "      <th>Tip_amount</th>\n",
              "      <th>Total_amount</th>\n",
              "      <th>Payment_type</th>\n",
              "      <th>Month</th>\n",
              "      <th>Year</th>\n",
              "      <th>pickup_hour</th>\n",
              "      <th>dropoff_hour</th>\n",
              "      <th>type</th>\n",
              "      <th>Day</th>\n",
              "    </tr>\n",
              "  </thead>\n",
              "  <tbody>\n",
              "    <tr>\n",
              "      <th>0</th>\n",
              "      <td>66</td>\n",
              "      <td>36</td>\n",
              "      <td>1.0</td>\n",
              "      <td>7.177656</td>\n",
              "      <td>17.5</td>\n",
              "      <td>3.76</td>\n",
              "      <td>22.56</td>\n",
              "      <td>1.0</td>\n",
              "      <td>2</td>\n",
              "      <td>2019</td>\n",
              "      <td>0</td>\n",
              "      <td>0</td>\n",
              "      <td>0</td>\n",
              "      <td>1</td>\n",
              "    </tr>\n",
              "    <tr>\n",
              "      <th>1</th>\n",
              "      <td>255</td>\n",
              "      <td>112</td>\n",
              "      <td>1.0</td>\n",
              "      <td>2.027768</td>\n",
              "      <td>6.0</td>\n",
              "      <td>1.46</td>\n",
              "      <td>8.76</td>\n",
              "      <td>1.0</td>\n",
              "      <td>2</td>\n",
              "      <td>2019</td>\n",
              "      <td>0</td>\n",
              "      <td>0</td>\n",
              "      <td>0</td>\n",
              "      <td>1</td>\n",
              "    </tr>\n",
              "    <tr>\n",
              "      <th>2</th>\n",
              "      <td>82</td>\n",
              "      <td>83</td>\n",
              "      <td>1.0</td>\n",
              "      <td>1.625433</td>\n",
              "      <td>5.5</td>\n",
              "      <td>2.04</td>\n",
              "      <td>8.84</td>\n",
              "      <td>1.0</td>\n",
              "      <td>2</td>\n",
              "      <td>2019</td>\n",
              "      <td>0</td>\n",
              "      <td>1</td>\n",
              "      <td>0</td>\n",
              "      <td>1</td>\n",
              "    </tr>\n",
              "    <tr>\n",
              "      <th>3</th>\n",
              "      <td>255</td>\n",
              "      <td>112</td>\n",
              "      <td>1.0</td>\n",
              "      <td>1.834648</td>\n",
              "      <td>5.5</td>\n",
              "      <td>1.70</td>\n",
              "      <td>8.50</td>\n",
              "      <td>1.0</td>\n",
              "      <td>2</td>\n",
              "      <td>2019</td>\n",
              "      <td>0</td>\n",
              "      <td>0</td>\n",
              "      <td>0</td>\n",
              "      <td>1</td>\n",
              "    </tr>\n",
              "    <tr>\n",
              "      <th>4</th>\n",
              "      <td>7</td>\n",
              "      <td>7</td>\n",
              "      <td>1.0</td>\n",
              "      <td>1.689807</td>\n",
              "      <td>5.5</td>\n",
              "      <td>2.00</td>\n",
              "      <td>8.80</td>\n",
              "      <td>1.0</td>\n",
              "      <td>2</td>\n",
              "      <td>2019</td>\n",
              "      <td>0</td>\n",
              "      <td>0</td>\n",
              "      <td>0</td>\n",
              "      <td>1</td>\n",
              "    </tr>\n",
              "  </tbody>\n",
              "</table>\n",
              "</div>"
            ],
            "text/plain": [
              "   PULocationID  DOLocationID  Passenger_count  Trip_distance  Fare_amount  \\\n",
              "0            66            36              1.0       7.177656         17.5   \n",
              "1           255           112              1.0       2.027768          6.0   \n",
              "2            82            83              1.0       1.625433          5.5   \n",
              "3           255           112              1.0       1.834648          5.5   \n",
              "4             7             7              1.0       1.689807          5.5   \n",
              "\n",
              "   Tip_amount  Total_amount  Payment_type  Month  Year  pickup_hour  \\\n",
              "0        3.76         22.56           1.0      2  2019            0   \n",
              "1        1.46          8.76           1.0      2  2019            0   \n",
              "2        2.04          8.84           1.0      2  2019            0   \n",
              "3        1.70          8.50           1.0      2  2019            0   \n",
              "4        2.00          8.80           1.0      2  2019            0   \n",
              "\n",
              "   dropoff_hour type  Day  \n",
              "0             0    0    1  \n",
              "1             0    0    1  \n",
              "2             1    0    1  \n",
              "3             0    0    1  \n",
              "4             0    0    1  "
            ]
          },
          "metadata": {
            "tags": []
          },
          "execution_count": 67
        }
      ]
    },
    {
      "cell_type": "markdown",
      "metadata": {
        "id": "esMiUwFH_aGZ"
      },
      "source": [
        "The idea is to create two balanced sets between green and yellow in order to train the classificator. We decided to balance in order to not give more importance to one type. Moreover, we tried different settings for the categorical and one-hot encodings but none of them had better results than the one with the original data, so we chose to not apply data transformations."
      ],
      "id": "esMiUwFH_aGZ"
    },
    {
      "cell_type": "code",
      "metadata": {
        "id": "l1Q97kLC_aGZ"
      },
      "source": [
        "#balancing and sampling data\n",
        "num = complete_data[complete_data[\"type\"] == 0].shape[0]\n",
        "complete_data_sampled = complete_data.groupby('type').sample(n=num, random_state=1)\n",
        "\n",
        "#dividing into input and output\n",
        "input = complete_data_sampled.drop(columns=['type'])\n",
        "output = complete_data_sampled['type']"
      ],
      "id": "l1Q97kLC_aGZ",
      "execution_count": null,
      "outputs": []
    },
    {
      "cell_type": "markdown",
      "metadata": {
        "id": "lOaf3nWf_aGZ"
      },
      "source": [
        "Then, having the input and the output data, we split them in training and test sets, in order to train the model first and then to check its accuracy."
      ],
      "id": "lOaf3nWf_aGZ"
    },
    {
      "cell_type": "code",
      "metadata": {
        "id": "gjFpWBKZ_aGa"
      },
      "source": [
        "#dividing into train and test sets\n",
        "x_train, x_test, y_train, y_test = train_test_split(input, output, train_size=0.65, test_size=0.35, random_state=1)\n",
        "y_train=y_train.astype('int')\n",
        "y_test=y_test.astype('int')"
      ],
      "id": "gjFpWBKZ_aGa",
      "execution_count": null,
      "outputs": []
    },
    {
      "cell_type": "markdown",
      "metadata": {
        "id": "AnqLpgnE_aGa"
      },
      "source": [
        "Having the sets ready, the model is created and trained on the training set."
      ],
      "id": "AnqLpgnE_aGa"
    },
    {
      "cell_type": "code",
      "metadata": {
        "id": "k7oxvJ0F_aGb",
        "outputId": "115790fc-e01f-43ed-b8c9-ffc36af4df44"
      },
      "source": [
        "clf = RandomForestClassifier(max_depth=10, random_state=0)\n",
        "clf.oob_score = True\n",
        "clf.fit(x_train, y_train)"
      ],
      "id": "k7oxvJ0F_aGb",
      "execution_count": null,
      "outputs": [
        {
          "output_type": "execute_result",
          "data": {
            "text/plain": [
              "RandomForestClassifier(max_depth=10, oob_score=True, random_state=0)"
            ]
          },
          "metadata": {
            "tags": []
          },
          "execution_count": 70
        }
      ]
    },
    {
      "cell_type": "markdown",
      "metadata": {
        "id": "GAzJ32cs_aGc"
      },
      "source": [
        "Finally, the accuracy of the trained model is computed"
      ],
      "id": "GAzJ32cs_aGc"
    },
    {
      "cell_type": "code",
      "metadata": {
        "id": "QLSd5-2b_aGc",
        "outputId": "e5566909-0c5a-475a-ebe5-325d2550d93b"
      },
      "source": [
        "y_pred = clf.predict(x_test)\n",
        "y_pred_train = clf.predict(x_train)\n",
        "print(\"Accuracy on categorical data:\",metrics.accuracy_score(y_test, y_pred))\n",
        "print(\"Accuracy on categorical data on the training set:\",metrics.accuracy_score(y_train, y_pred_train))\n",
        "print(\"Confusion matrix:\",confusion_matrix(y_test, y_pred))\n",
        "print(classification_report(y_test, y_pred))\n",
        "print(\"Oob score:\",clf.oob_score_)"
      ],
      "id": "QLSd5-2b_aGc",
      "execution_count": null,
      "outputs": [
        {
          "output_type": "stream",
          "text": [
            "Accuracy on categorical data: 0.869939820270404\n",
            "Accuracy on categorical data on the training set: 0.8716441449514319\n",
            "Confusion matrix: [[239601  38438]\n",
            " [ 33854 243942]]\n",
            "              precision    recall  f1-score   support\n",
            "\n",
            "           0       0.88      0.86      0.87    278039\n",
            "           1       0.86      0.88      0.87    277796\n",
            "\n",
            "    accuracy                           0.87    555835\n",
            "   macro avg       0.87      0.87      0.87    555835\n",
            "weighted avg       0.87      0.87      0.87    555835\n",
            "\n",
            "Oob score: 0.8705136191067586\n"
          ],
          "name": "stdout"
        }
      ]
    },
    {
      "cell_type": "markdown",
      "metadata": {
        "id": "hIE0N9vn_aGd"
      },
      "source": [
        "As it can be seen from the accuracy result, the classifier found a pattern in the data and it is able to distinguish between the two categories with an accuracy of more than 87%.\n",
        "\n",
        "\n",
        "#### Add weather\n",
        "\n",
        "At this point, we want to understand if adding the weather data the classifier improves or if the weather data is not meaningful for the classification task. First of all, we upload the data."
      ],
      "id": "hIE0N9vn_aGd"
    },
    {
      "cell_type": "code",
      "metadata": {
        "id": "Jzmt84jA_aGe",
        "outputId": "596ac647-b39f-4c5b-ed1c-96a7541fa07a"
      },
      "source": [
        "wd = pd.read_pickle(\"data/weather_2019_2020_NYC.pkl\")\n",
        "wd.head()"
      ],
      "id": "Jzmt84jA_aGe",
      "execution_count": null,
      "outputs": [
        {
          "output_type": "execute_result",
          "data": {
            "text/html": [
              "<div>\n",
              "<style scoped>\n",
              "    .dataframe tbody tr th:only-of-type {\n",
              "        vertical-align: middle;\n",
              "    }\n",
              "\n",
              "    .dataframe tbody tr th {\n",
              "        vertical-align: top;\n",
              "    }\n",
              "\n",
              "    .dataframe thead th {\n",
              "        text-align: right;\n",
              "    }\n",
              "</style>\n",
              "<table border=\"1\" class=\"dataframe\">\n",
              "  <thead>\n",
              "    <tr style=\"text-align: right;\">\n",
              "      <th></th>\n",
              "      <th>date</th>\n",
              "      <th>time</th>\n",
              "      <th>tempC</th>\n",
              "      <th>windspeedKmph</th>\n",
              "      <th>winddirDegree</th>\n",
              "      <th>weatherCode</th>\n",
              "      <th>weatherDesc</th>\n",
              "      <th>precipMM</th>\n",
              "      <th>humidity</th>\n",
              "      <th>cloudcover</th>\n",
              "    </tr>\n",
              "  </thead>\n",
              "  <tbody>\n",
              "    <tr>\n",
              "      <th>0</th>\n",
              "      <td>2019-01-01</td>\n",
              "      <td>0</td>\n",
              "      <td>10</td>\n",
              "      <td>15</td>\n",
              "      <td>163</td>\n",
              "      <td>308</td>\n",
              "      <td>Heavy rain</td>\n",
              "      <td>12.1</td>\n",
              "      <td>96</td>\n",
              "      <td>100</td>\n",
              "    </tr>\n",
              "    <tr>\n",
              "      <th>1</th>\n",
              "      <td>2019-01-01</td>\n",
              "      <td>1</td>\n",
              "      <td>11</td>\n",
              "      <td>16</td>\n",
              "      <td>180</td>\n",
              "      <td>308</td>\n",
              "      <td>Heavy rain</td>\n",
              "      <td>6.1</td>\n",
              "      <td>95</td>\n",
              "      <td>98</td>\n",
              "    </tr>\n",
              "    <tr>\n",
              "      <th>2</th>\n",
              "      <td>2019-01-01</td>\n",
              "      <td>2</td>\n",
              "      <td>11</td>\n",
              "      <td>16</td>\n",
              "      <td>198</td>\n",
              "      <td>266</td>\n",
              "      <td>Light drizzle</td>\n",
              "      <td>0.1</td>\n",
              "      <td>93</td>\n",
              "      <td>95</td>\n",
              "    </tr>\n",
              "    <tr>\n",
              "      <th>3</th>\n",
              "      <td>2019-01-01</td>\n",
              "      <td>3</td>\n",
              "      <td>12</td>\n",
              "      <td>16</td>\n",
              "      <td>215</td>\n",
              "      <td>266</td>\n",
              "      <td>Light drizzle</td>\n",
              "      <td>0.1</td>\n",
              "      <td>92</td>\n",
              "      <td>93</td>\n",
              "    </tr>\n",
              "    <tr>\n",
              "      <th>4</th>\n",
              "      <td>2019-01-01</td>\n",
              "      <td>4</td>\n",
              "      <td>12</td>\n",
              "      <td>18</td>\n",
              "      <td>223</td>\n",
              "      <td>266</td>\n",
              "      <td>Light drizzle</td>\n",
              "      <td>0.1</td>\n",
              "      <td>89</td>\n",
              "      <td>70</td>\n",
              "    </tr>\n",
              "  </tbody>\n",
              "</table>\n",
              "</div>"
            ],
            "text/plain": [
              "         date time tempC windspeedKmph winddirDegree weatherCode  \\\n",
              "0  2019-01-01    0    10            15           163         308   \n",
              "1  2019-01-01    1    11            16           180         308   \n",
              "2  2019-01-01    2    11            16           198         266   \n",
              "3  2019-01-01    3    12            16           215         266   \n",
              "4  2019-01-01    4    12            18           223         266   \n",
              "\n",
              "     weatherDesc precipMM humidity cloudcover  \n",
              "0     Heavy rain     12.1       96        100  \n",
              "1     Heavy rain      6.1       95         98  \n",
              "2  Light drizzle      0.1       93         95  \n",
              "3  Light drizzle      0.1       92         93  \n",
              "4  Light drizzle      0.1       89         70  "
            ]
          },
          "metadata": {
            "tags": []
          },
          "execution_count": 72
        }
      ]
    },
    {
      "cell_type": "markdown",
      "metadata": {
        "id": "clk8bFMV_aGf"
      },
      "source": [
        "Then, as the idea is to merge weather and trips data, the columns of the dataframes to be merged have to be compatible. For this reason, some features are extracted from the date."
      ],
      "id": "clk8bFMV_aGf"
    },
    {
      "cell_type": "code",
      "metadata": {
        "id": "AdX7wKKZ_aGf",
        "outputId": "d04bf861-1f1c-4883-ff9b-1796feae3800"
      },
      "source": [
        "wd[\"Year\"] = pd.to_datetime(wd[\"date\"]).dt.year\n",
        "wd[\"Month\"] = pd.to_datetime(wd[\"date\"]).dt.month\n",
        "wd[\"Day\"] = pd.to_datetime(wd[\"date\"]).dt.day\n",
        "wd[\"dropoff_hour\"] = pd.to_numeric(wd[\"time\"])\n",
        "wd = wd.drop(columns=[\"date\"])\n",
        "wd.head()"
      ],
      "id": "AdX7wKKZ_aGf",
      "execution_count": null,
      "outputs": [
        {
          "output_type": "execute_result",
          "data": {
            "text/html": [
              "<div>\n",
              "<style scoped>\n",
              "    .dataframe tbody tr th:only-of-type {\n",
              "        vertical-align: middle;\n",
              "    }\n",
              "\n",
              "    .dataframe tbody tr th {\n",
              "        vertical-align: top;\n",
              "    }\n",
              "\n",
              "    .dataframe thead th {\n",
              "        text-align: right;\n",
              "    }\n",
              "</style>\n",
              "<table border=\"1\" class=\"dataframe\">\n",
              "  <thead>\n",
              "    <tr style=\"text-align: right;\">\n",
              "      <th></th>\n",
              "      <th>time</th>\n",
              "      <th>tempC</th>\n",
              "      <th>windspeedKmph</th>\n",
              "      <th>winddirDegree</th>\n",
              "      <th>weatherCode</th>\n",
              "      <th>weatherDesc</th>\n",
              "      <th>precipMM</th>\n",
              "      <th>humidity</th>\n",
              "      <th>cloudcover</th>\n",
              "      <th>Year</th>\n",
              "      <th>Month</th>\n",
              "      <th>Day</th>\n",
              "      <th>dropoff_hour</th>\n",
              "    </tr>\n",
              "  </thead>\n",
              "  <tbody>\n",
              "    <tr>\n",
              "      <th>0</th>\n",
              "      <td>0</td>\n",
              "      <td>10</td>\n",
              "      <td>15</td>\n",
              "      <td>163</td>\n",
              "      <td>308</td>\n",
              "      <td>Heavy rain</td>\n",
              "      <td>12.1</td>\n",
              "      <td>96</td>\n",
              "      <td>100</td>\n",
              "      <td>2019</td>\n",
              "      <td>1</td>\n",
              "      <td>1</td>\n",
              "      <td>0</td>\n",
              "    </tr>\n",
              "    <tr>\n",
              "      <th>1</th>\n",
              "      <td>1</td>\n",
              "      <td>11</td>\n",
              "      <td>16</td>\n",
              "      <td>180</td>\n",
              "      <td>308</td>\n",
              "      <td>Heavy rain</td>\n",
              "      <td>6.1</td>\n",
              "      <td>95</td>\n",
              "      <td>98</td>\n",
              "      <td>2019</td>\n",
              "      <td>1</td>\n",
              "      <td>1</td>\n",
              "      <td>1</td>\n",
              "    </tr>\n",
              "    <tr>\n",
              "      <th>2</th>\n",
              "      <td>2</td>\n",
              "      <td>11</td>\n",
              "      <td>16</td>\n",
              "      <td>198</td>\n",
              "      <td>266</td>\n",
              "      <td>Light drizzle</td>\n",
              "      <td>0.1</td>\n",
              "      <td>93</td>\n",
              "      <td>95</td>\n",
              "      <td>2019</td>\n",
              "      <td>1</td>\n",
              "      <td>1</td>\n",
              "      <td>2</td>\n",
              "    </tr>\n",
              "    <tr>\n",
              "      <th>3</th>\n",
              "      <td>3</td>\n",
              "      <td>12</td>\n",
              "      <td>16</td>\n",
              "      <td>215</td>\n",
              "      <td>266</td>\n",
              "      <td>Light drizzle</td>\n",
              "      <td>0.1</td>\n",
              "      <td>92</td>\n",
              "      <td>93</td>\n",
              "      <td>2019</td>\n",
              "      <td>1</td>\n",
              "      <td>1</td>\n",
              "      <td>3</td>\n",
              "    </tr>\n",
              "    <tr>\n",
              "      <th>4</th>\n",
              "      <td>4</td>\n",
              "      <td>12</td>\n",
              "      <td>18</td>\n",
              "      <td>223</td>\n",
              "      <td>266</td>\n",
              "      <td>Light drizzle</td>\n",
              "      <td>0.1</td>\n",
              "      <td>89</td>\n",
              "      <td>70</td>\n",
              "      <td>2019</td>\n",
              "      <td>1</td>\n",
              "      <td>1</td>\n",
              "      <td>4</td>\n",
              "    </tr>\n",
              "  </tbody>\n",
              "</table>\n",
              "</div>"
            ],
            "text/plain": [
              "  time tempC windspeedKmph winddirDegree weatherCode    weatherDesc precipMM  \\\n",
              "0    0    10            15           163         308     Heavy rain     12.1   \n",
              "1    1    11            16           180         308     Heavy rain      6.1   \n",
              "2    2    11            16           198         266  Light drizzle      0.1   \n",
              "3    3    12            16           215         266  Light drizzle      0.1   \n",
              "4    4    12            18           223         266  Light drizzle      0.1   \n",
              "\n",
              "  humidity cloudcover  Year  Month  Day  dropoff_hour  \n",
              "0       96        100  2019      1    1             0  \n",
              "1       95         98  2019      1    1             1  \n",
              "2       93         95  2019      1    1             2  \n",
              "3       92         93  2019      1    1             3  \n",
              "4       89         70  2019      1    1             4  "
            ]
          },
          "metadata": {
            "tags": []
          },
          "execution_count": 73
        }
      ]
    },
    {
      "cell_type": "markdown",
      "metadata": {
        "id": "kuAvIIMz_aGg"
      },
      "source": [
        "As it can be seen from the output above, now the two dataframes can be merged taking the \"Year\", \"Month\", \"Day\" and \"Hour\". The weather data is hourly so there are no interests in taking a finer time interval. "
      ],
      "id": "kuAvIIMz_aGg"
    },
    {
      "cell_type": "code",
      "metadata": {
        "id": "YRKS-DyA_aGg"
      },
      "source": [
        "reports_weather = pd.merge(complete_data, wd, how='inner', on=['Year', 'Month','Day','dropoff_hour'])"
      ],
      "id": "YRKS-DyA_aGg",
      "execution_count": null,
      "outputs": []
    },
    {
      "cell_type": "code",
      "metadata": {
        "id": "cbF-ZyCl_aGh"
      },
      "source": [
        "#the weather description has to be encoded into numbers\n",
        "le = preprocessing.LabelEncoder()\n",
        "reports_weather['weatherDesc'] = le.fit_transform(reports_weather['weatherDesc'])"
      ],
      "id": "cbF-ZyCl_aGh",
      "execution_count": null,
      "outputs": []
    },
    {
      "cell_type": "markdown",
      "metadata": {
        "id": "n_q82bXm_aGh"
      },
      "source": [
        "As done before, the training data is balanced and split into training and test sets. Then the model is trained on the training set and the accuracy is computed on the test set."
      ],
      "id": "n_q82bXm_aGh"
    },
    {
      "cell_type": "code",
      "metadata": {
        "id": "wbmjaqjp_aGi",
        "outputId": "7ea42826-ed43-4dd7-f245-aa993fdd9dc7"
      },
      "source": [
        "#balancing and sampling data\n",
        "num = reports_weather[complete_data[\"type\"] == 0].shape[0]\n",
        "complete_data_sampled = reports_weather.groupby('type').sample(n=num//2, random_state=1) \n",
        "\n",
        "#dividing into input and output\n",
        "input = complete_data_sampled.drop(columns=['type'])\n",
        "output = complete_data_sampled['type']\n",
        "\n",
        "#dividing into train and test sets\n",
        "x_train, x_test, y_train, y_test = train_test_split(input, output, train_size=0.65, test_size=0.35, random_state=1)\n",
        "y_train=y_train.astype('int')\n",
        "y_test=y_test.astype('int')\n",
        "\n",
        "#create the classifier\n",
        "clf = RandomForestClassifier(max_depth=10, random_state=0)\n",
        "clf.oob_score = True\n",
        "\n",
        "#train the classifier\n",
        "clf.fit(x_train, y_train)\n",
        "\n",
        "#compute and print the accuracy\n",
        "y_pred = clf.predict(x_test)\n",
        "y_pred_train = clf.predict(x_train)\n",
        "print(\"Accuracy on categorical data:\",metrics.accuracy_score(y_test, y_pred))\n",
        "print(\"Accuracy on categorical data on the training set:\",metrics.accuracy_score(y_train, y_pred_train))\n",
        "print(\"Confusion matrix:\",confusion_matrix(y_test, y_pred))\n",
        "print(classification_report(y_test, y_pred))\n",
        "print(\"Oob score:\",clf.oob_score_)"
      ],
      "id": "wbmjaqjp_aGi",
      "execution_count": null,
      "outputs": [
        {
          "output_type": "stream",
          "text": [
            "Accuracy on categorical data: 0.8513872846929119\n",
            "Accuracy on categorical data on the training set: 0.8552809267414668\n",
            "Confusion matrix: [[116782  22154]\n",
            " [ 19148 119833]]\n",
            "              precision    recall  f1-score   support\n",
            "\n",
            "           0       0.86      0.84      0.85    138936\n",
            "           1       0.84      0.86      0.85    138981\n",
            "\n",
            "    accuracy                           0.85    277917\n",
            "   macro avg       0.85      0.85      0.85    277917\n",
            "weighted avg       0.85      0.85      0.85    277917\n",
            "\n",
            "Oob score: 0.8520724389738265\n"
          ],
          "name": "stdout"
        }
      ]
    },
    {
      "cell_type": "markdown",
      "metadata": {
        "id": "4U3JNEIk_aGi"
      },
      "source": [
        "The classifier has not improved with the weather data. In fact, the accuracy is even less than for the case before. This means that the weather is not meaningful for the classifier. This could be also intuitively expected because the weather data could affect for example the amount of trips or the average distance of the trips but intuitively there are no differences for the two categories. Said in other words, the weather affects the trips of both yellow and green taxi in the same way, and so it's not useful for finding a meaningful classification. Contrarily, the accuracy decreases and this is probably due to the overfitting of the training data. \n",
        "\n",
        "Moreover, it is possible to see which features are the most useful in order to keep only them. This is done in the following."
      ],
      "id": "4U3JNEIk_aGi"
    },
    {
      "cell_type": "code",
      "metadata": {
        "id": "S6YPWkO2_aGj",
        "outputId": "3e4e7bf1-4530-44d9-8476-af93dbc3058d"
      },
      "source": [
        "# Get numerical feature importances\n",
        "importances = list(clf.feature_importances_)\n",
        "# List of tuples with variable and importance\n",
        "feature_importances = [(feature, round(importance, 2)) for feature, importance in zip(complete_data_sampled.drop('type', axis = 1).columns, importances)]\n",
        "# Sort the feature importances by most important first\n",
        "feature_importances = sorted(feature_importances, key = lambda x: x[1], reverse = True)\n",
        "# Print out the feature and importances \n",
        "[print('Variable: {:20} Importance: {}'.format(*pair)) for pair in feature_importances];"
      ],
      "id": "S6YPWkO2_aGj",
      "execution_count": null,
      "outputs": [
        {
          "output_type": "stream",
          "text": [
            "Variable: PULocationID         Importance: 0.54\n",
            "Variable: Total_amount         Importance: 0.14\n",
            "Variable: DOLocationID         Importance: 0.09\n",
            "Variable: Trip_distance        Importance: 0.07\n",
            "Variable: Fare_amount          Importance: 0.06\n",
            "Variable: Passenger_count      Importance: 0.04\n",
            "Variable: Tip_amount           Importance: 0.03\n",
            "Variable: Month                Importance: 0.01\n",
            "Variable: pickup_hour          Importance: 0.01\n",
            "Variable: dropoff_hour         Importance: 0.01\n",
            "Variable: time                 Importance: 0.01\n",
            "Variable: Payment_type         Importance: 0.0\n",
            "Variable: Year                 Importance: 0.0\n",
            "Variable: Day                  Importance: 0.0\n",
            "Variable: tempC                Importance: 0.0\n",
            "Variable: windspeedKmph        Importance: 0.0\n",
            "Variable: winddirDegree        Importance: 0.0\n",
            "Variable: weatherCode          Importance: 0.0\n",
            "Variable: weatherDesc          Importance: 0.0\n",
            "Variable: precipMM             Importance: 0.0\n",
            "Variable: humidity             Importance: 0.0\n",
            "Variable: cloudcover           Importance: 0.0\n"
          ],
          "name": "stdout"
        }
      ]
    },
    {
      "cell_type": "markdown",
      "metadata": {
        "id": "FuehBwAm_aGk"
      },
      "source": [
        "As expected, none of the weather features are taken into account by the classifier. Moreover, it can be seen that also the time features are not so important. The same considerations done for the weather are valid also for the time. It's true that the time influences the trips, but it's also true that doesn't influence differently the green and the yellow trips and for this reason it's not a meaningful feature for the classifier. Then, again as expected, the most meaningful feature is the Pick Up location. This was expected from the spatial analysis as the green taxi have reserved zones and this information creates pattern in the data that the classifier is able to understand. Finally, also the information related to the prices are useful, and this means that there is a difference in the prices of the two different types.\n",
        "\n",
        "The purpose of this section is to build a classifier to use in the website to predict the type of the taxi that would do the trip specified. The fact that some features are not necessary is an advantage also for user usability. As there will be less features in the model, the user has to specify also less inputs. The goal of the next section is to simplify as much as possible the model and to get a good accuracy.\n",
        "\n",
        "Following the importance results, the location and price features has decided to be left. In particular, both pick-up and drop-off locations are left. For the price feature, the tip_amount is left."
      ],
      "id": "FuehBwAm_aGk"
    },
    {
      "cell_type": "code",
      "metadata": {
        "id": "atqHo2x7_aGk",
        "outputId": "e9b34170-5824-4045-ca0d-f05bd5771a25"
      },
      "source": [
        "model_data = complete_data[[\"PULocationID\", \"DOLocationID\", \"Total_amount\", \"type\"]]\n",
        "model_data.head()"
      ],
      "id": "atqHo2x7_aGk",
      "execution_count": null,
      "outputs": [
        {
          "output_type": "execute_result",
          "data": {
            "text/html": [
              "<div>\n",
              "<style scoped>\n",
              "    .dataframe tbody tr th:only-of-type {\n",
              "        vertical-align: middle;\n",
              "    }\n",
              "\n",
              "    .dataframe tbody tr th {\n",
              "        vertical-align: top;\n",
              "    }\n",
              "\n",
              "    .dataframe thead th {\n",
              "        text-align: right;\n",
              "    }\n",
              "</style>\n",
              "<table border=\"1\" class=\"dataframe\">\n",
              "  <thead>\n",
              "    <tr style=\"text-align: right;\">\n",
              "      <th></th>\n",
              "      <th>PULocationID</th>\n",
              "      <th>DOLocationID</th>\n",
              "      <th>Total_amount</th>\n",
              "      <th>type</th>\n",
              "    </tr>\n",
              "  </thead>\n",
              "  <tbody>\n",
              "    <tr>\n",
              "      <th>0</th>\n",
              "      <td>66</td>\n",
              "      <td>36</td>\n",
              "      <td>22.56</td>\n",
              "      <td>0</td>\n",
              "    </tr>\n",
              "    <tr>\n",
              "      <th>1</th>\n",
              "      <td>255</td>\n",
              "      <td>112</td>\n",
              "      <td>8.76</td>\n",
              "      <td>0</td>\n",
              "    </tr>\n",
              "    <tr>\n",
              "      <th>2</th>\n",
              "      <td>82</td>\n",
              "      <td>83</td>\n",
              "      <td>8.84</td>\n",
              "      <td>0</td>\n",
              "    </tr>\n",
              "    <tr>\n",
              "      <th>3</th>\n",
              "      <td>255</td>\n",
              "      <td>112</td>\n",
              "      <td>8.50</td>\n",
              "      <td>0</td>\n",
              "    </tr>\n",
              "    <tr>\n",
              "      <th>4</th>\n",
              "      <td>7</td>\n",
              "      <td>7</td>\n",
              "      <td>8.80</td>\n",
              "      <td>0</td>\n",
              "    </tr>\n",
              "  </tbody>\n",
              "</table>\n",
              "</div>"
            ],
            "text/plain": [
              "   PULocationID  DOLocationID  Total_amount type\n",
              "0            66            36         22.56    0\n",
              "1           255           112          8.76    0\n",
              "2            82            83          8.84    0\n",
              "3           255           112          8.50    0\n",
              "4             7             7          8.80    0"
            ]
          },
          "metadata": {
            "tags": []
          },
          "execution_count": 80
        }
      ]
    },
    {
      "cell_type": "markdown",
      "metadata": {
        "id": "1s2MHg1G_aGk"
      },
      "source": [
        "Then, the same procedure of balancing, splitting into training and test set, training and testing the accuracy is performed."
      ],
      "id": "1s2MHg1G_aGk"
    },
    {
      "cell_type": "code",
      "metadata": {
        "id": "kiz1OIV8_aGl",
        "outputId": "d6f5e039-1752-44cf-e0ec-5e4532366e6a"
      },
      "source": [
        "#balancing and sampling data\n",
        "num = model_data[model_data[\"type\"] == 0].shape[0]\n",
        "model_data_sampled = model_data.groupby('type').sample(n=num, random_state=1) #'sample' requires at least pandas 1.1.0\n",
        "\n",
        "#dividing into input and output\n",
        "input = model_data_sampled.drop(columns=['type'])\n",
        "output = model_data_sampled['type']\n",
        "\n",
        "#dividing into train and test sets\n",
        "x_train, x_test, y_train, y_test = train_test_split(input, output, train_size=0.65, test_size=0.35, random_state=1)\n",
        "y_train=y_train.astype('int')\n",
        "y_test=y_test.astype('int')\n",
        "\n",
        "#train the model\n",
        "clf = RandomForestClassifier(max_depth=10, random_state=0)\n",
        "clf.oob_score = True\n",
        "clf.fit(x_train, y_train)\n",
        "\n",
        "#compute and show the accuracy\n",
        "y_pred = clf.predict(x_test)\n",
        "y_pred_train = clf.predict(x_train)\n",
        "print(\"Accuracy on categorical data:\",metrics.accuracy_score(y_test, y_pred))\n",
        "print(\"Accuracy on categorical data on the training set:\",metrics.accuracy_score(y_train, y_pred_train))\n",
        "print(\"Confusion matrix:\",confusion_matrix(y_test, y_pred))\n",
        "print(classification_report(y_test, y_pred))\n",
        "print(\"Oob score:\",clf.oob_score_)"
      ],
      "id": "kiz1OIV8_aGl",
      "execution_count": null,
      "outputs": [
        {
          "output_type": "stream",
          "text": [
            "Accuracy on categorical data: 0.883506796081571\n",
            "Accuracy on categorical data on the training set: 0.8845962705240815\n",
            "Confusion matrix: [[248362  29677]\n",
            " [ 35074 242722]]\n",
            "              precision    recall  f1-score   support\n",
            "\n",
            "           0       0.88      0.89      0.88    278039\n",
            "           1       0.89      0.87      0.88    277796\n",
            "\n",
            "    accuracy                           0.88    555835\n",
            "   macro avg       0.88      0.88      0.88    555835\n",
            "weighted avg       0.88      0.88      0.88    555835\n",
            "\n",
            "Oob score: 0.8829736220323696\n"
          ],
          "name": "stdout"
        }
      ]
    },
    {
      "cell_type": "markdown",
      "metadata": {
        "id": "3iyZnjEV_aGl"
      },
      "source": [
        "The accuracy this time is higher then before and this is promising. The goal now is to find the best parameters for the model. A grid search so is performed in a subset of the data."
      ],
      "id": "3iyZnjEV_aGl"
    },
    {
      "cell_type": "code",
      "metadata": {
        "id": "BG1QAeCc_aGm",
        "outputId": "6e5182fe-d49e-4880-c74e-98678b134982"
      },
      "source": [
        "from sklearn.model_selection import GridSearchCV\n",
        "\n",
        "#balancing and sampling data\n",
        "num = model_data[model_data[\"type\"] == 0].shape[0]\n",
        "#only a subset of the data is taken for the grid search\n",
        "model_data_sampled = model_data.groupby('type').sample(n=num//100, random_state=1) \n",
        "\n",
        "#dividing into input and output\n",
        "input = model_data_sampled.drop(columns=['type'])\n",
        "output = model_data_sampled['type']\n",
        "\n",
        "#dividing into train and test sets\n",
        "x_train, x_test, y_train, y_test = train_test_split(input, output, train_size=0.65, test_size=0.35, random_state=1)\n",
        "y_train=y_train.astype('int')\n",
        "y_test=y_test.astype('int')\n",
        "\n",
        "param_grid = {'n_estimators': [200, 250, 300],\n",
        "              'max_depth': [10, 100, 200],\n",
        "              'min_samples_split': [2, 5, 10],\n",
        "              'min_samples_leaf': [1, 3, 5]}\n",
        "\n",
        "grid = GridSearchCV(RandomForestClassifier(random_state=0), param_grid, cv=5, verbose=0, n_jobs=-1)\n",
        "\n",
        "grid.fit(x_train, y_train)\n",
        "\n",
        "best_model = grid.best_estimator_\n",
        "\n",
        "grid.best_params_ # Displays the best parameters"
      ],
      "id": "BG1QAeCc_aGm",
      "execution_count": null,
      "outputs": [
        {
          "output_type": "execute_result",
          "data": {
            "text/plain": [
              "{'max_depth': 100,\n",
              " 'min_samples_leaf': 1,\n",
              " 'min_samples_split': 5,\n",
              " 'n_estimators': 300}"
            ]
          },
          "metadata": {
            "tags": []
          },
          "execution_count": 83
        }
      ]
    },
    {
      "cell_type": "markdown",
      "metadata": {
        "id": "WjshUtj1_aGm"
      },
      "source": [
        "Finally, we can use the best parameters found in order to build the framework for the best tree classificator. "
      ],
      "id": "WjshUtj1_aGm"
    },
    {
      "cell_type": "code",
      "metadata": {
        "id": "0TqAQJ4q_aGn"
      },
      "source": [
        "#balancing and sampling data\n",
        "num = model_data[model_data[\"type\"] == 0].shape[0]\n",
        "model_data_sampled = model_data.groupby('type').sample(n=num, random_state=1) \n",
        "\n",
        "#dividing into input and output\n",
        "input = model_data_sampled.drop(columns=['type'])\n",
        "output = model_data_sampled['type']"
      ],
      "id": "0TqAQJ4q_aGn",
      "execution_count": null,
      "outputs": []
    },
    {
      "cell_type": "code",
      "metadata": {
        "id": "c5Axh2SF_aGo",
        "outputId": "08e0b5fc-45a5-469e-f3e7-883d42b7c28b"
      },
      "source": [
        "#dividing into train and test sets\n",
        "x_train, x_test, y_train, y_test = train_test_split(input, output, train_size=0.65, test_size=0.35, random_state=1)\n",
        "y_train=y_train.astype('int')\n",
        "y_test=y_test.astype('int')\n",
        "clf = RandomForestClassifier(max_depth=100, random_state=0, min_samples_leaf=1,min_samples_split=5,n_estimators=250)\n",
        "clf.oob_score = True\n",
        "clf.fit(x_train, y_train)\n",
        "\n",
        "y_pred = clf.predict(x_test)\n",
        "y_pred_train = clf.predict(x_train)\n",
        "print(\"Accuracy on categorical data:\",metrics.accuracy_score(y_test, y_pred))\n",
        "print(\"Accuracy on categorical data on the training set:\",metrics.accuracy_score(y_train, y_pred_train))\n",
        "#print(\"Accuracy on test data with {0} encoded:\".format(columns),metrics.accuracy_score(y_test, y_pred))\n",
        "#print(\"Accuracy on training data:\",metrics.accuracy_score(y_train, y_pred_training))\n",
        "print(\"Confusion matrix:\",confusion_matrix(y_test, y_pred))\n",
        "print(classification_report(y_test, y_pred))\n",
        "print(\"Oob score:\",clf.oob_score_)"
      ],
      "id": "c5Axh2SF_aGo",
      "execution_count": null,
      "outputs": [
        {
          "output_type": "stream",
          "text": [
            "Accuracy on categorical data: 0.9749332085960761\n",
            "Accuracy on categorical data on the training set: 0.9862079721931329\n",
            "Confusion matrix: [[273552   4487]\n",
            " [  9446 268350]]\n",
            "              precision    recall  f1-score   support\n",
            "\n",
            "           0       0.97      0.98      0.98    278039\n",
            "           1       0.98      0.97      0.97    277796\n",
            "\n",
            "    accuracy                           0.97    555835\n",
            "   macro avg       0.98      0.97      0.97    555835\n",
            "weighted avg       0.98      0.97      0.97    555835\n",
            "\n",
            "Oob score: 0.9748891513112453\n"
          ],
          "name": "stdout"
        }
      ]
    },
    {
      "cell_type": "markdown",
      "metadata": {
        "id": "-Y_cppSc_aGo"
      },
      "source": [
        "As it can be seen from the accuracy above, we improved significantly the performances of the classificator, that from an accuracy of about 88% reached one of more than 97%.\n",
        "\n",
        "#### Final considerations\n",
        "\n",
        "The results given by the classificator are in line with those expected. In fact, neither the time nor the hour influenced the classification. This is proven by the accuracy of the classificator that doesn't increase having those features but, on the opposite, increases when leaving only the features related with the positions and with the costs. It was expected also intuitively as factors as time and weather can affect the amount of trips or the number of passengers but they don't affect whether a trip is performed by a green or a yellow taxi. Moreover, the pick-up location is the most important feature because the green taxi cannot pick from some zones and so the trips that start from those locations are easily classified by the tree algorithm."
      ],
      "id": "-Y_cppSc_aGo"
    },
    {
      "cell_type": "code",
      "metadata": {
        "id": "TDfkAQ25_aGo"
      },
      "source": [
        "#pickle.dump( clf, open( \"best_model_2.pkl\", \"wb\" ) )"
      ],
      "id": "TDfkAQ25_aGo",
      "execution_count": null,
      "outputs": []
    },
    {
      "cell_type": "markdown",
      "metadata": {
        "id": "OE3pvXyC_aGp"
      },
      "source": [
        "# Part 4: Genre"
      ],
      "id": "OE3pvXyC_aGp"
    },
    {
      "cell_type": "markdown",
      "metadata": {
        "id": "rVIbFrK9_aGp"
      },
      "source": [
        "For our website, we chose to employ 'slide show' as a genre where we are able to integrate graphs and annotated information, as well as maps, by following a consistent structure that engages the user and also allows for interaction.\n",
        "\n",
        "Concerning the different tools we employed for our visualization, for the 'Visual Narrative', e.i, the visual features that help the user to understand the narrative, the first category is 'Visual structuring', which refers to all the mechanisms that create an overall structure of the narrative, so the audience can also identify their position. In this category, we employed a 'Consistent Visual Platform' which means a common layout that changes only slightly throughout the sections and engages the viewers to go through the whole story. Secondly, 'Highlighting' are the visual mechanisms that capture the audience attention to particular elements, in our site web we opt to make a'Feature Distinction' to some dates in the timeline as they bear significant importance in our story that and we want to highlight them for the user. The third element of Visual narrative is called 'Transition guidance' and it helps moving the view attention from one scene to another. We added individual tabs at the top of our website to allow the user to move with freedom through the different sections.\n",
        "\n",
        "On the other hand, 'Narrative structure' are the features that facilitate the consistency of the narrative. The first category is the 'Ordering' in which the different elements appear, we chose to employ the 'user-directed path', where is the user himself who selects a kind of visualization between maps, histograms or machine learning. The second category is 'Interactivity', i.e, how the user can manipulate the visualization. Here, we allow the user for 'Details on demand' and 'Filtering', in all the three types of graphs. Finally, the third element is 'Messaging' ,i.e how to communicate comments to the user, we insert some 'Annotations' as well as some 'Headlines' to expresss the main idea of our visualization."
      ],
      "id": "rVIbFrK9_aGp"
    },
    {
      "cell_type": "markdown",
      "metadata": {
        "id": "w1mYg_ZL_aGp"
      },
      "source": [
        "# Part 5: Visualizations"
      ],
      "id": "w1mYg_ZL_aGp"
    },
    {
      "cell_type": "markdown",
      "metadata": {
        "id": "cV8_n0vG_aGq"
      },
      "source": [
        "For the temporal analysis part, we have chosen to visualize most of the data in bar charts.\n",
        "\n",
        "They are a good visualization technique for this part of the analysis because they allow the user to discover the evolution of the data against time in a clear way. On the other hand, since we have two different types of taxis and two different years to analyze, we often chose grouped bar charts, where we plot numeric values for levels of two categorical variables instead of one. By doing this, we show the time evolution, as well, the difference between both years or both types of cabs in a single graph.\n",
        "\n",
        "For the spatial analysis part, the most intuitive visualisation tool to use was a map. We combined a regular choropleth map and overlaid geojson data over it to highlight all the taxi zones in the city. In particular, three different maps have been generated. The first type represented only one type of taxi at a time. The second represented the statistics without taking care about the type of taxi, so taking the trips in general. The third, instead, took both the type of taxi and was made to show the differences of the zones of influence.\n",
        "\n",
        "Finally, the machine learning part didn't use particular visualisation tools, because the results given by the analysis, in our case, were always and only the accuracies of our models, or the importances of the features."
      ],
      "id": "cV8_n0vG_aGq"
    },
    {
      "cell_type": "markdown",
      "metadata": {
        "id": "q0guD5Fy_aGq"
      },
      "source": [
        "# Part 6: Discussion"
      ],
      "id": "q0guD5Fy_aGq"
    },
    {
      "cell_type": "markdown",
      "metadata": {
        "id": "fKcnJmze_aGs"
      },
      "source": [
        "The temporal visualizations showed some interesting patterns that helped us better understand the use of the cabs in NYC before and during Covid-19. As we have mentioned before, even if the number of trips has decreased for obvious reasons, the hourly and weekly use of cabs has remained very similar overall for the both years. On the other hand, we number of passanger per taxi has reduced in 2020 and the trip distances of the Green taxis has increased after March 2020.\n",
        "\n",
        "Among the things that we could have done better is that our analysis could have been improved if we had found more data for VHFs and could have included them in the analysis. Also, during the data cleaning, we found quite a few negative values in the different prices and we lost information by having to remove them. Another possible solution could have been to attribute the change sign to a registration error, and keep them in the dataset after a change of sign.\n",
        "\n",
        "In the spatial analysis, many things went well and we acquired a lot of experiences and techniques as how the geojson is organized and how to use plotly. Moreover, the visualisations are intuitive and the results are meaningful, showing many aspects of the city which were not possible to get from the raw data. The combinations of the features, the types of taxi and the types of visualisations created many different maps. The parts that could be improved would be e.g. including the interactive maps instead of the pictures. This was done because we faced compatibility problems and we wanted to be sure that everyone could have seen the results without running the whole notebook. Another possible improvement could have been to show also histograms as for the temporal analysis, but with the taxi zones in the x axis. This has not been done both for length reason, as the notebook is already long, and for clarity and coherence reasons. These histograms could have shown some features with respect to the taxi zone, but they would have been less intuitive and they wouldn't have taken the same amount of spatial information as a map.\n",
        "\n",
        "The machine learning part gave us additional proof that there are some underlying patterns to the data. Many intuitive aspects have been proven and some of the results were expected. Eventually we ended up with a precise model, considering the possible randomness of the data. We improved the model of about 10% and we used many useful technics as a sort of feature selection and the grid search for the best parameters. One aspect in which the machine learning part could have been improved, would have been by trying other different classificators models as for example svm technics or deep learning. This was though above the purposes of the course. Although the study we have done has brought to light many interesting aspects to understand the correlations and where the greatest variance in our dataset lies, perhaps it would have been of greater interest to a user to have predicted other aspects, such as the cost of a journey given input location. However, this has not been done because the aim of the machine learning part was focused on studying deeply the patterns of the dataset rather than focusing on the possibilities of machine learning given our datasets.\n",
        "\n",
        "The website could have been improved by including more plots and giving the user yet increased selection of features to visualize. The website could additionally benefit from more text and annotations that could bring an overall more smooth experience to the user. Moreover, particular events in the historical timeline of COVID-19 in NYC could have been highlighted even further and some calculations could have been done to show the changes exactly around those dates. "
      ],
      "id": "fKcnJmze_aGs"
    },
    {
      "cell_type": "markdown",
      "metadata": {
        "id": "rp1obCrc_aGs"
      },
      "source": [
        "# Part 7: Contributions\n",
        "\n",
        "Everyone contributed to the final work in a balanced way and all parts were discussed, designed and analysed together, integrating all parts and making them coherent.\n",
        "\n",
        "In particular, though, Giovanni focused more on the spatial analysis and on the machine learning parts, also writing the code and the respective sections on the notebook.\n",
        "\n",
        "In the case of Lorena, she spent more time working on the preprocessing of the data, the correlation and temporal analysis, and also writing the code and the respective sections on the notebooks.\n",
        "\n",
        "Ewa created and deployed the website and contributed to the relevant parts of the notebook."
      ],
      "id": "rp1obCrc_aGs"
    },
    {
      "cell_type": "code",
      "metadata": {
        "id": "iRDKmCW5_aGt"
      },
      "source": [
        ""
      ],
      "id": "iRDKmCW5_aGt",
      "execution_count": null,
      "outputs": []
    }
  ]
}